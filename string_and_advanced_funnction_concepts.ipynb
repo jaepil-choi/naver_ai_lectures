{
 "cells": [
  {
   "cell_type": "markdown",
   "metadata": {},
   "source": [
    "# String and advanced function concepts\n",
    "\n",
    "## String\n",
    "\n",
    "메모리 관리를 위해 type은 중요하다. "
   ]
  },
  {
   "cell_type": "code",
   "execution_count": 3,
   "metadata": {},
   "outputs": [
    {
     "name": "stdout",
     "output_type": "stream",
     "text": [
      "50 51 52\n"
     ]
    }
   ],
   "source": [
    "import sys\n",
    "\n",
    "# 메모리 사이즈 출력\n",
    "print(sys.getsizeof('a'), sys.getsizeof('ab'), sys.getsizeof('abc'))"
   ]
  },
  {
   "cell_type": "code",
   "execution_count": 7,
   "metadata": {},
   "outputs": [
    {
     "data": {
      "text/plain": [
       "28"
      ]
     },
     "execution_count": 7,
     "metadata": {},
     "output_type": "execute_result"
    }
   ],
   "source": [
    "sys.getsizeof(1)"
   ]
  },
  {
   "cell_type": "code",
   "execution_count": 5,
   "metadata": {},
   "outputs": [
    {
     "data": {
      "text/plain": [
       "56"
      ]
     },
     "execution_count": 5,
     "metadata": {},
     "output_type": "execute_result"
    }
   ],
   "source": [
    "sys.getsizeof([])"
   ]
  },
  {
   "cell_type": "markdown",
   "metadata": {},
   "source": [
    "### `foo[시작:끝:스텝]`"
   ]
  },
  {
   "cell_type": "code",
   "execution_count": 11,
   "metadata": {},
   "outputs": [
    {
     "data": {
      "text/plain": [
       "'hello world'"
      ]
     },
     "execution_count": 11,
     "metadata": {},
     "output_type": "execute_result"
    }
   ],
   "source": [
    "s = 'hello world'\n",
    "\n",
    "s[::]"
   ]
  },
  {
   "cell_type": "code",
   "execution_count": 12,
   "metadata": {},
   "outputs": [
    {
     "data": {
      "text/plain": [
       "'dlrow olleh'"
      ]
     },
     "execution_count": 12,
     "metadata": {},
     "output_type": "execute_result"
    }
   ],
   "source": [
    "s[::-1]"
   ]
  },
  {
   "cell_type": "code",
   "execution_count": 13,
   "metadata": {},
   "outputs": [
    {
     "data": {
      "text/plain": [
       "[0, 1, 2, 3, 4, 5, 6, 7, 8, 9]"
      ]
     },
     "execution_count": 13,
     "metadata": {},
     "output_type": "execute_result"
    }
   ],
   "source": [
    "l = list(range(10))\n",
    "l"
   ]
  },
  {
   "cell_type": "code",
   "execution_count": 14,
   "metadata": {},
   "outputs": [
    {
     "data": {
      "text/plain": [
       "[0, 2, 4, 6, 8]"
      ]
     },
     "execution_count": 14,
     "metadata": {},
     "output_type": "execute_result"
    }
   ],
   "source": [
    "l[::2]"
   ]
  },
  {
   "cell_type": "markdown",
   "metadata": {},
   "source": [
    "### raw string"
   ]
  },
  {
   "cell_type": "code",
   "execution_count": 22,
   "metadata": {},
   "outputs": [
    {
     "name": "stdout",
     "output_type": "stream",
     "text": [
      "안녕하세요\n",
      "안녕\n"
     ]
    }
   ],
   "source": [
    "s = '안녕하세요\\n안녕'\n",
    "print(s)"
   ]
  },
  {
   "cell_type": "code",
   "execution_count": 23,
   "metadata": {},
   "outputs": [
    {
     "name": "stdout",
     "output_type": "stream",
     "text": [
      "안녕하세요\\n안녕\n"
     ]
    }
   ],
   "source": [
    "s = r'안녕하세요\\n안녕'\n",
    "print(s)"
   ]
  },
  {
   "cell_type": "markdown",
   "metadata": {},
   "source": [
    "## Function\n",
    "\n",
    "### Call by object reference VS Call by object value\n",
    "\n",
    "\n",
    "#### 파이썬은 call by assignment\n",
    "\n",
    "파이썬은 객체의 주소가 함수로 전달되는 방식이다. \n",
    "- 전달된 객체를 참조하여 변경 시 호출자에 영향을 주나\n",
    "- 새로운 객체를 만들 경우 호출자에 영향을 주지 않음. "
   ]
  },
  {
   "cell_type": "code",
   "execution_count": 27,
   "metadata": {},
   "outputs": [],
   "source": [
    "def spam(eggs):\n",
    "    eggs.append(1)\n",
    "    eggs = [2,3]"
   ]
  },
  {
   "cell_type": "code",
   "execution_count": 28,
   "metadata": {},
   "outputs": [
    {
     "data": {
      "text/plain": [
       "[0, 1]"
      ]
     },
     "execution_count": 28,
     "metadata": {},
     "output_type": "execute_result"
    }
   ],
   "source": [
    "ham = [0]\n",
    "spam(ham)\n",
    "\n",
    "ham"
   ]
  },
  {
   "cell_type": "markdown",
   "metadata": {},
   "source": [
    "처음 `ham`은 `[0]` 리스트를 가리키고 있다. \n",
    "\n",
    "이게 `spam(ham)`으로 들어가면 `egg`라는 function 내의 variable로 되어 `ham`과 `egg` 모두 `[0]`를 가리키게 된다. \n",
    "\n",
    "그렇기 때문에 `eggs.append(1)`을 하면 객체 자체가 mutable하게 바뀌어 `[0, 1]`이 된다. \n",
    "\n",
    "그 다음 줄에서 `eggs`에 `[2,3]`를 넣으면 이제 `eggs`와 `[0, 1]`의 연결은 끊긴다. \n",
    "\n",
    "최종적으로 함수를 exit하고 `ham`을 찍어보면 그래서 `[0, 1]`가 들어있다. \n",
    "\n",
    "#### swap\n",
    "\n",
    "(immutable in mutable)"
   ]
  },
  {
   "cell_type": "code",
   "execution_count": 58,
   "metadata": {},
   "outputs": [],
   "source": [
    "def swap_value(x, y): # 변수들이 값을 가리키기만 하고 리스트에는 영향 없음\n",
    "    temp = x\n",
    "    x = y\n",
    "    y = temp\n",
    "    \n",
    "def swap_offset(offset_x, offset_y): # parameter에 리스트 포함 x\n",
    "    temp = ex[offset_x]\n",
    "    ex[offset_x] = ex[offset_y] # 리스트 자체에 값을 할당\n",
    "    ex[offset_y] = temp\n",
    "\n",
    "def swap_reference(list_ex, offset_x, offset_y): # parameter에 리스트 포함\n",
    "    temp = list_ex[offset_x]\n",
    "    list_ex[offset_x] = list_ex[offset_y] # 마찬가지로 리스트 자체에 값을 할당\n",
    "    list_ex[offset_y] = temp\n"
   ]
  },
  {
   "cell_type": "code",
   "execution_count": 59,
   "metadata": {},
   "outputs": [
    {
     "data": {
      "text/plain": [
       "[1, 2, 3, 4, 5]"
      ]
     },
     "execution_count": 59,
     "metadata": {},
     "output_type": "execute_result"
    }
   ],
   "source": [
    "ex = [1, 2, 3, 4, 5]\n",
    "\n",
    "swap_value(ex[0], ex[1])\n",
    "ex"
   ]
  },
  {
   "cell_type": "code",
   "execution_count": 60,
   "metadata": {},
   "outputs": [
    {
     "data": {
      "text/plain": [
       "[2, 1, 3, 4, 5]"
      ]
     },
     "execution_count": 60,
     "metadata": {},
     "output_type": "execute_result"
    }
   ],
   "source": [
    "ex = [1, 2, 3, 4, 5]\n",
    "\n",
    "swap_offset(0, 1)\n",
    "ex"
   ]
  },
  {
   "cell_type": "code",
   "execution_count": 61,
   "metadata": {},
   "outputs": [
    {
     "data": {
      "text/plain": [
       "[2, 1, 3, 4, 5]"
      ]
     },
     "execution_count": 61,
     "metadata": {},
     "output_type": "execute_result"
    }
   ],
   "source": [
    "ex = [1, 2, 3, 4, 5]\n",
    "\n",
    "swap_reference(ex, 0, 1)\n",
    "ex"
   ]
  },
  {
   "cell_type": "markdown",
   "metadata": {},
   "source": [
    "2차원 리스트라면? (mutable in mutable)"
   ]
  },
  {
   "cell_type": "code",
   "execution_count": 62,
   "metadata": {},
   "outputs": [
    {
     "data": {
      "text/plain": [
       "[[1, 2], [3, 4], [5, 6]]"
      ]
     },
     "execution_count": 62,
     "metadata": {},
     "output_type": "execute_result"
    }
   ],
   "source": [
    "ex = [[1, 2], [3, 4], [5, 6]]\n",
    "\n",
    "swap_value(ex[0], ex[1])\n",
    "ex"
   ]
  },
  {
   "cell_type": "code",
   "execution_count": 63,
   "metadata": {},
   "outputs": [
    {
     "data": {
      "text/plain": [
       "[[3, 4], [1, 2], [5, 6]]"
      ]
     },
     "execution_count": 63,
     "metadata": {},
     "output_type": "execute_result"
    }
   ],
   "source": [
    "ex = [[1, 2], [3, 4], [5, 6]]\n",
    "\n",
    "swap_offset(0, 1)\n",
    "ex"
   ]
  },
  {
   "cell_type": "code",
   "execution_count": 64,
   "metadata": {},
   "outputs": [
    {
     "data": {
      "text/plain": [
       "[[3, 4], [1, 2], [5, 6]]"
      ]
     },
     "execution_count": 64,
     "metadata": {},
     "output_type": "execute_result"
    }
   ],
   "source": [
    "ex = [[1, 2], [3, 4], [5, 6]]\n",
    "\n",
    "swap_reference(ex, 0, 1)\n",
    "ex"
   ]
  },
  {
   "cell_type": "markdown",
   "metadata": {},
   "source": [
    "복사하고 시작하면 이런 object reference 때문에 생기는 문제를 피할 수 있다. \n",
    "\n",
    "하지만 복사를 하면 그만큼 느려지고, 메모리도 더 차지한다. \n",
    "\n",
    "### Function Type Hints\n",
    "\n",
    "dynamic typing이기 때문에 type hints를 제공한다. \n",
    "\n",
    "- 인터페이스를 명확하게 함. \n",
    "- 문서화 시 parameter에 대한 정보를 명확히 알 수 있음. \n",
    "- linter를 통해 코드의 오류 가능성을 사전 확인 가능. \n",
    "- 이로써 시스템의 전체적인 안정성을 확보할 수 있다. "
   ]
  },
  {
   "cell_type": "code",
   "execution_count": 65,
   "metadata": {},
   "outputs": [],
   "source": [
    "def do_function(var: list) -> int:\n",
    "    return len(var)"
   ]
  },
  {
   "cell_type": "markdown",
   "metadata": {},
   "source": [
    "### docstring\n",
    "\n",
    "함수의 상세스펙을 사전에 작성한다. \n",
    "\n",
    "ide 쓰자. \n",
    "\n",
    "### 함수 작성 가이드라인 \n",
    "\n",
    "- 인자로 받은 값 자체를 바꾸지 말자. view와 copy 중 일단 view로 주고 바꾸더라도 copy로 바꿔서 주자. \n",
    "- DRY 할 수 있게 만들자. \n",
    "- 유지보수 가능한 코드를 짜자. \n",
    "    - 컴퓨터가 이해할 수 있는 코드는 어느 바보나 다 짤 수 있다. 좋은 프로그래머는 사람이 이해할 수 있는 코드를 짠다. (마틴 파울러)\n",
    "- coding convention을 따르자. \n",
    "    - 항상 consistent해야 한다. \n",
    "    - 구글 convention 따르는 것도 좋다. \n",
    "    - indentation은 4 spaces가 권장된다. \n",
    "    - `pep8`을 깔아 확인할 수 있다. \n",
    "    - `black` 모듈을 쓰면 거의 `pep8`에 근접하게 바꿔준다. "
   ]
  },
  {
   "cell_type": "code",
   "execution_count": null,
   "metadata": {},
   "outputs": [],
   "source": []
  }
 ],
 "metadata": {
  "kernelspec": {
   "display_name": "Python 3",
   "language": "python",
   "name": "python3"
  },
  "language_info": {
   "codemirror_mode": {
    "name": "ipython",
    "version": 3
   },
   "file_extension": ".py",
   "mimetype": "text/x-python",
   "name": "python",
   "nbconvert_exporter": "python",
   "pygments_lexer": "ipython3",
   "version": "3.8.5"
  }
 },
 "nbformat": 4,
 "nbformat_minor": 4
}
