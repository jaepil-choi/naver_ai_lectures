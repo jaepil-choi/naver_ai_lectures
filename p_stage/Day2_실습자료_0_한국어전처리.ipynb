{
  "nbformat": 4,
  "nbformat_minor": 0,
  "metadata": {
    "colab": {
      "name": "Day2_실습자료_0_한국어전처리.ipynb",
      "provenance": [],
      "collapsed_sections": []
    },
    "kernelspec": {
      "name": "python3",
      "display_name": "Python 3"
    }
  },
  "cells": [
    {
      "cell_type": "markdown",
      "metadata": {
        "id": "n-twU6g8ofUJ"
      },
      "source": [
        "# 자연어 전처리 실습\n",
        "\n",
        "> 작성자      \n",
        "```\n",
        "* 김성현 (bananaband657@gmail.com)  \n",
        "김바다 (qkek983@gmail.com)\n",
        "박상희 (parksanghee0103@gmail.com)  \n",
        "이정우 (jungwoo.l2.rs@gmail.com)\n",
        "```\n",
        "[CC BY-NC-ND](https://creativecommons.org/licenses/by-nc-nd/2.0/kr/)\n"
      ]
    },
    {
      "cell_type": "markdown",
      "metadata": {
        "id": "slEZ86kEZJ9j"
      },
      "source": [
        "## 전처리를 위한 코퍼스 수집"
      ]
    },
    {
      "cell_type": "markdown",
      "metadata": {
        "id": "n_WthjqiYBGz"
      },
      "source": [
        "자연어 전처리 실습을 위해, 먼저 뉴스 기사를 크롤링해보도록 하겠습니다.   \n",
        "일반적으로 크롤링 코드를 작성하려면 많은 요소들을 고려해야합니다.   \n",
        "본 실습에서는 url 정보만 입력해주면 텍스트를 추출해주는 [라이브러리](https://github.com/codelucas/newspaper)를 사용하도록 하겠습니다.      "
      ]
    },
    {
      "cell_type": "code",
      "metadata": {
        "colab": {
          "base_uri": "https://localhost:8080/"
        },
        "id": "Y26dAmjKnTrr",
        "outputId": "52288fbd-a4cd-49cd-da4f-99099671b0c2"
      },
      "source": [
        "!pip install newspaper3k"
      ],
      "execution_count": null,
      "outputs": [
        {
          "output_type": "stream",
          "text": [
            "Requirement already satisfied: newspaper3k in /usr/local/lib/python3.7/dist-packages (0.2.8)\n",
            "Requirement already satisfied: requests>=2.10.0 in /usr/local/lib/python3.7/dist-packages (from newspaper3k) (2.23.0)\n",
            "Requirement already satisfied: feedparser>=5.2.1 in /usr/local/lib/python3.7/dist-packages (from newspaper3k) (6.0.2)\n",
            "Requirement already satisfied: tinysegmenter==0.3 in /usr/local/lib/python3.7/dist-packages (from newspaper3k) (0.3)\n",
            "Requirement already satisfied: nltk>=3.2.1 in /usr/local/lib/python3.7/dist-packages (from newspaper3k) (3.2.5)\n",
            "Requirement already satisfied: lxml>=3.6.0 in /usr/local/lib/python3.7/dist-packages (from newspaper3k) (4.2.6)\n",
            "Requirement already satisfied: cssselect>=0.9.2 in /usr/local/lib/python3.7/dist-packages (from newspaper3k) (1.1.0)\n",
            "Requirement already satisfied: beautifulsoup4>=4.4.1 in /usr/local/lib/python3.7/dist-packages (from newspaper3k) (4.6.0)\n",
            "Requirement already satisfied: Pillow>=3.3.0 in /usr/local/lib/python3.7/dist-packages (from newspaper3k) (7.0.0)\n",
            "Requirement already satisfied: jieba3k>=0.35.1 in /usr/local/lib/python3.7/dist-packages (from newspaper3k) (0.35.1)\n",
            "Requirement already satisfied: feedfinder2>=0.0.4 in /usr/local/lib/python3.7/dist-packages (from newspaper3k) (0.0.4)\n",
            "Requirement already satisfied: tldextract>=2.0.1 in /usr/local/lib/python3.7/dist-packages (from newspaper3k) (3.1.0)\n",
            "Requirement already satisfied: python-dateutil>=2.5.3 in /usr/local/lib/python3.7/dist-packages (from newspaper3k) (2.8.1)\n",
            "Requirement already satisfied: PyYAML>=3.11 in /usr/local/lib/python3.7/dist-packages (from newspaper3k) (3.13)\n",
            "Requirement already satisfied: certifi>=2017.4.17 in /usr/local/lib/python3.7/dist-packages (from requests>=2.10.0->newspaper3k) (2020.12.5)\n",
            "Requirement already satisfied: urllib3!=1.25.0,!=1.25.1,<1.26,>=1.21.1 in /usr/local/lib/python3.7/dist-packages (from requests>=2.10.0->newspaper3k) (1.24.3)\n",
            "Requirement already satisfied: idna<3,>=2.5 in /usr/local/lib/python3.7/dist-packages (from requests>=2.10.0->newspaper3k) (2.10)\n",
            "Requirement already satisfied: chardet<4,>=3.0.2 in /usr/local/lib/python3.7/dist-packages (from requests>=2.10.0->newspaper3k) (3.0.4)\n",
            "Requirement already satisfied: sgmllib3k in /usr/local/lib/python3.7/dist-packages (from feedparser>=5.2.1->newspaper3k) (1.0.0)\n",
            "Requirement already satisfied: six in /usr/local/lib/python3.7/dist-packages (from nltk>=3.2.1->newspaper3k) (1.15.0)\n",
            "Requirement already satisfied: requests-file>=1.4 in /usr/local/lib/python3.7/dist-packages (from tldextract>=2.0.1->newspaper3k) (1.5.1)\n",
            "Requirement already satisfied: filelock>=3.0.8 in /usr/local/lib/python3.7/dist-packages (from tldextract>=2.0.1->newspaper3k) (3.0.12)\n"
          ],
          "name": "stdout"
        }
      ]
    },
    {
      "cell_type": "markdown",
      "metadata": {
        "id": "MOfUeQXUYhXD"
      },
      "source": [
        "newspaper 라이브러리는 매우 많은 언어에 대한 크롤링을 지원해주며, 아래 명령어로 확인할 수 있습니다."
      ]
    },
    {
      "cell_type": "code",
      "metadata": {
        "colab": {
          "base_uri": "https://localhost:8080/"
        },
        "id": "hlWZBgI1qVZ-",
        "outputId": "a5f19405-d150-411d-897f-3e97373341e3"
      },
      "source": [
        "import newspaper\n",
        "newspaper.languages()"
      ],
      "execution_count": null,
      "outputs": [
        {
          "output_type": "stream",
          "text": [
            "\n",
            "Your available languages are:\n",
            "\n",
            "input code\t\tfull name\n",
            "  nb\t\t\t  Norwegian (Bokmål)\n",
            "  pt\t\t\t  Portuguese\n",
            "  it\t\t\t  Italian\n",
            "  no\t\t\t  Norwegian\n",
            "  et\t\t\t  Estonian\n",
            "  es\t\t\t  Spanish\n",
            "  vi\t\t\t  Vietnamese\n",
            "  hi\t\t\t  Hindi\n",
            "  fr\t\t\t  French\n",
            "  fi\t\t\t  Finnish\n",
            "  he\t\t\t  Hebrew\n",
            "  be\t\t\t  Belarusian\n",
            "  sr\t\t\t  Serbian\n",
            "  id\t\t\t  Indonesian\n",
            "  sv\t\t\t  Swedish\n",
            "  ro\t\t\t  Romanian\n",
            "  hu\t\t\t  Hungarian\n",
            "  da\t\t\t  Danish\n",
            "  tr\t\t\t  Turkish\n",
            "  el\t\t\t  Greek\n",
            "  nl\t\t\t  Dutch\n",
            "  pl\t\t\t  Polish\n",
            "  hr\t\t\t  Croatian\n",
            "  zh\t\t\t  Chinese\n",
            "  en\t\t\t  English\n",
            "  ja\t\t\t  Japanese\n",
            "  mk\t\t\t  Macedonian\n",
            "  sl\t\t\t  Slovenian\n",
            "  sw\t\t\t  Swahili\n",
            "  bg\t\t\t  Bulgarian\n",
            "  ko\t\t\t  Korean\n",
            "  ru\t\t\t  Russian\n",
            "  ar\t\t\t  Arabic\n",
            "  fa\t\t\t  Persian\n",
            "  uk\t\t\t  Ukrainian\n",
            "  de\t\t\t  German\n",
            "\n"
          ],
          "name": "stdout"
        }
      ]
    },
    {
      "cell_type": "markdown",
      "metadata": {
        "id": "s0PPDIpSY5VY"
      },
      "source": [
        "뉴스를 바로 크롤링해보도록 하겠습니다.   \n",
        "일반적으로 뉴스 기사의 경우, 재배포 역시 저작권에 위반되기 때문에, 매우 주의하셔야 합니다.   \n",
        "본 실습에서는 저작권에서 비교적 자유로운 위키트리 뉴스 데이터를 사용하도록 하겠습니다.   "
      ]
    },
    {
      "cell_type": "code",
      "metadata": {
        "id": "KDKEG2AZopJQ"
      },
      "source": [
        "news_url = \"https://www.wikitree.co.kr/articles/252931\"\n",
        "# context = \"이하 뉴스1&인공지능 알파고(AlphaGo)를 상대로 첫 승리를 거둔 이세돌 9단\\n\\n\\\n",
        "# 이하 뉴스1\\n\\n\\\n",
        "# 인공지능 알파고(AlphaGo)를 상대로 첫 승리를 거둔 이세돌 9단의 사진이 화제다.\\n\\n\\\n",
        "# 13일 서울 광화문 포시즌스 호텔에서 열린 '구글 딥마인드 챌린지 매치'에서 이세돌 9단은 알파고와의 제4국에서 승리했다. 이날 대국장을 빠져나가는 이세돌 9단의 모습이 사진에 포착됐다.\\n\\n\\\n",
        "# 이세돌 9단은 상의 주머니에 양손을 넣고 옅은 미소를 지었다. 이 사진은 SNS에서 화제를 모았다.\\n\\n\\\n",
        "# 오늘 알파고에게 승리하고 대국장 빠져나가는 이세돌이라는데ㅋㅋㅋㅋㅋㅋㅋ 포토제닉ㅋㅋㅋㅋㅋㅋㅋ 이대로 헐리웃 영화 만들어지고 포스터 소취요 pic.twitter.com/4IRFJu18hx — 조드윅 앓는 서린 (@katharine_stark) 2016년 3월 13일\\n\\n\\\n",
        "# 대국을 마친 뒤, 이세돌 9단은 \\\"한판 이겼는데 이렇게까지 축하를 받아보는 것은 처음\\\"이라고 말했다. 이세돌 9단은 기자회견장에도 함박 웃음을 감추지 못했다.\""
      ],
      "execution_count": null,
      "outputs": []
    },
    {
      "cell_type": "code",
      "metadata": {
        "id": "hOTPKrvUqmsz"
      },
      "source": [
        "from newspaper import Article"
      ],
      "execution_count": null,
      "outputs": []
    },
    {
      "cell_type": "code",
      "metadata": {
        "id": "ux6buNkoqZP9"
      },
      "source": [
        "article = Article(news_url, language='ko')"
      ],
      "execution_count": null,
      "outputs": []
    },
    {
      "cell_type": "code",
      "metadata": {
        "colab": {
          "base_uri": "https://localhost:8080/"
        },
        "id": "3G2tKRInqj1p",
        "outputId": "c6fce646-d68c-41ee-a539-1b0919db1d2f"
      },
      "source": [
        "article.download()\n",
        "article.parse()\n",
        "\n",
        "print('title:', article.title)\n",
        "\n",
        "print('context:', article.text)\n"
      ],
      "execution_count": null,
      "outputs": [
        {
          "output_type": "stream",
          "text": [
            "title: 알파고에 첫승 거두고 미소짓는 이세돌 사진\n",
            "context: 이하 뉴스1&인공지능 알파고(AlphaGo)를 상대로 첫 승리를 거둔 이세돌 9단\n",
            "\n",
            "<div></div><div></div><div><div><div><figure class=article_images_wrap><img class='figure' data-src='https://cdnweb01.wikitree.co.kr/webdata/editor/201603/13/img_20160313185835_18f8bc7d.webp' onerror=\"changeImgError(this,'https://cdnweb01.wikitree.co.kr/webdata/editor/201603/13/img_20160313185835_18f8bc7d.jpg')\" alt=''></figure></div><p>이하 뉴스1 </p></div></div><div><div></div></div><p>인공지능 알파고(AlphaGo)를 상대로 첫 승리를 거둔 이세돌 9단의 사진이 화제다.</p><p>13일 서울 광화문 포시즌스 호텔에서 열린 '구글 딥마인드 챌린지 매치'에서 이세돌 9단은 알파고와의 제4국에서 승리했다. 이날 대국장을 빠져나가는 이세돌 9단의 모습이 사진에 포착됐다.</p><div><figure class=article_images_wrap><img class='figure' data-src='https://cdnweb01.wikitree.co.kr/webdata/editor/201603/13/img_20160313185934_5314882e.webp' onerror=\"changeImgError(this,'https://cdnweb01.wikitree.co.kr/webdata/editor/201603/13/img_20160313185934_5314882e.jpg')\" alt=''></figure><div class=\"content_img_txt\"></div></div><div></div><p> </p><div><p> </p></div><p>이세돌 9단은 상의 주머니에 양손을 넣고 옅은 미소를 지었다. 이 사진은 SNS에서 화제를 모았다.</p><div><figure class=\"embed_container\"><blockquote class=\"twitter-tweet\" data-cards=\"hidden\" data-lang=\"ko\"><p lang=\"ko\" dir=\"ltr\">오늘 알파고에게 승리하고 대국장 빠져나가는 이세돌이라는데ㅋㅋㅋㅋㅋㅋㅋ 포토제닉ㅋㅋㅋㅋㅋㅋㅋ 이대로 헐리웃 영화 만들어지고 포스터 소취요 <a href=\"https://t.co/4IRFJu18hx\" class=\"link\" target=\"_blank\">pic.twitter.com/4IRFJu18hx</a></p>— 조드윅 앓는 서린 (@katharine_stark) <a href=\"https://twitter.com/katharine_stark/status/708946708932141056\" class=\"link\" target=\"_blank\">2016년 3월 13일</a></blockquote> <script async defer src=\"//platform.twitter.com/widgets.js\"></script></figure><div></div></div><div></div><p>대국을 마친 뒤, 이세돌 9단은 \"한판 이겼는데 이렇게까지 축하를 받아보는 것은 처음\"이라고 말했다. 이세돌 9단은 기자회견장에도 함박 웃음을 감추지 못했다.</p><div><div><figure class=article_images_wrap><img class='figure' data-src='https://cdnweb01.wikitree.co.kr/webdata/editor/201603/13/img_20160313184922_08037455.webp' onerror=\"changeImgError(this,'https://cdnweb01.wikitree.co.kr/webdata/editor/201603/13/img_20160313184922_08037455.jpg')\" alt=''></figure><div class=\"content_img_txt\"></div></div><div></div><p> </p><div><figure class=article_images_wrap><img class='figure' data-src='https://cdnweb01.wikitree.co.kr/webdata/editor/201603/13/img_20160313184925_56fd71ad.webp' onerror=\"changeImgError(this,'https://cdnweb01.wikitree.co.kr/webdata/editor/201603/13/img_20160313184925_56fd71ad.jpg')\" alt=''></figure><div class=\"content_img_txt\"></div></div><div></div></div><script> function changeImgError(e,path){ if(e.src.search('webp')>0){ e.src = path } else { e.src = 'https://m.wikitree.co.kr/img/thumbnail_default.jpg' } } </script>\n"
          ],
          "name": "stdout"
        }
      ]
    },
    {
      "cell_type": "markdown",
      "metadata": {
        "id": "_m3wqEX7YzW9"
      },
      "source": [
        "추가적인 전처리 실습을 위해, 뉴스에서 많이 포함되는 예제 텍스트를 임의로 추가하도록 하겠습니다."
      ]
    },
    {
      "cell_type": "code",
      "metadata": {
        "id": "y_V1YiaLuPkY"
      },
      "source": [
        "context = article.text.split('\\n')\n",
        "context.append(\"(서울=위키트리) 김성현 기자 (seonghkim@smilegate.com) <저작권자(c) 무단전재-재배포 금지> ‘<br>이 줄은 실제 뉴스(news,)에 포함되지 않은 임시 데이터임을 알립니다…<br>‘\")\n",
        "context.append(\"(사진=위키트리, 무단 전재-재배포 금지) ‘<br>이 줄은 실제 뉴스(news,)에 포함되지 않은 임시 데이터임을 알립니다…<br>‘\")\n",
        "context.append(\"#이세돌 #알파고 #인공지능 #딥러닝 #바둑\")\n"
      ],
      "execution_count": null,
      "outputs": []
    },
    {
      "cell_type": "code",
      "metadata": {
        "colab": {
          "base_uri": "https://localhost:8080/"
        },
        "id": "6fo99_r_uT6Z",
        "outputId": "53a55bec-7ffc-449a-90af-0e45801ad15c"
      },
      "source": [
        "for i, sent in enumerate(context):\n",
        "    print(i, sent)"
      ],
      "execution_count": null,
      "outputs": [
        {
          "output_type": "stream",
          "text": [
            "0 이하 뉴스1&인공지능 알파고(AlphaGo)를 상대로 첫 승리를 거둔 이세돌 9단\n",
            "1 \n",
            "2 <div></div><div></div><div><div><div><figure class=article_images_wrap><img class='figure' data-src='https://cdnweb01.wikitree.co.kr/webdata/editor/201603/13/img_20160313185835_18f8bc7d.webp' onerror=\"changeImgError(this,'https://cdnweb01.wikitree.co.kr/webdata/editor/201603/13/img_20160313185835_18f8bc7d.jpg')\" alt=''></figure></div><p>이하 뉴스1 </p></div></div><div><div></div></div><p>인공지능 알파고(AlphaGo)를 상대로 첫 승리를 거둔 이세돌 9단의 사진이 화제다.</p><p>13일 서울 광화문 포시즌스 호텔에서 열린 '구글 딥마인드 챌린지 매치'에서 이세돌 9단은 알파고와의 제4국에서 승리했다. 이날 대국장을 빠져나가는 이세돌 9단의 모습이 사진에 포착됐다.</p><div><figure class=article_images_wrap><img class='figure' data-src='https://cdnweb01.wikitree.co.kr/webdata/editor/201603/13/img_20160313185934_5314882e.webp' onerror=\"changeImgError(this,'https://cdnweb01.wikitree.co.kr/webdata/editor/201603/13/img_20160313185934_5314882e.jpg')\" alt=''></figure><div class=\"content_img_txt\"></div></div><div></div><p> </p><div><p> </p></div><p>이세돌 9단은 상의 주머니에 양손을 넣고 옅은 미소를 지었다. 이 사진은 SNS에서 화제를 모았다.</p><div><figure class=\"embed_container\"><blockquote class=\"twitter-tweet\" data-cards=\"hidden\" data-lang=\"ko\"><p lang=\"ko\" dir=\"ltr\">오늘 알파고에게 승리하고 대국장 빠져나가는 이세돌이라는데ㅋㅋㅋㅋㅋㅋㅋ 포토제닉ㅋㅋㅋㅋㅋㅋㅋ 이대로 헐리웃 영화 만들어지고 포스터 소취요 <a href=\"https://t.co/4IRFJu18hx\" class=\"link\" target=\"_blank\">pic.twitter.com/4IRFJu18hx</a></p>— 조드윅 앓는 서린 (@katharine_stark) <a href=\"https://twitter.com/katharine_stark/status/708946708932141056\" class=\"link\" target=\"_blank\">2016년 3월 13일</a></blockquote> <script async defer src=\"//platform.twitter.com/widgets.js\"></script></figure><div></div></div><div></div><p>대국을 마친 뒤, 이세돌 9단은 \"한판 이겼는데 이렇게까지 축하를 받아보는 것은 처음\"이라고 말했다. 이세돌 9단은 기자회견장에도 함박 웃음을 감추지 못했다.</p><div><div><figure class=article_images_wrap><img class='figure' data-src='https://cdnweb01.wikitree.co.kr/webdata/editor/201603/13/img_20160313184922_08037455.webp' onerror=\"changeImgError(this,'https://cdnweb01.wikitree.co.kr/webdata/editor/201603/13/img_20160313184922_08037455.jpg')\" alt=''></figure><div class=\"content_img_txt\"></div></div><div></div><p> </p><div><figure class=article_images_wrap><img class='figure' data-src='https://cdnweb01.wikitree.co.kr/webdata/editor/201603/13/img_20160313184925_56fd71ad.webp' onerror=\"changeImgError(this,'https://cdnweb01.wikitree.co.kr/webdata/editor/201603/13/img_20160313184925_56fd71ad.jpg')\" alt=''></figure><div class=\"content_img_txt\"></div></div><div></div></div><script> function changeImgError(e,path){ if(e.src.search('webp')>0){ e.src = path } else { e.src = 'https://m.wikitree.co.kr/img/thumbnail_default.jpg' } } </script>\n",
            "3 (서울=위키트리) 김성현 기자 (seonghkim@smilegate.com) <저작권자(c) 무단전재-재배포 금지> ‘<br>이 줄은 실제 뉴스(news,)에 포함되지 않은 임시 데이터임을 알립니다…<br>‘\n",
            "4 (사진=위키트리, 무단 전재-재배포 금지) ‘<br>이 줄은 실제 뉴스(news,)에 포함되지 않은 임시 데이터임을 알립니다…<br>‘\n",
            "5 #이세돌 #알파고 #인공지능 #딥러닝 #바둑\n"
          ],
          "name": "stdout"
        }
      ]
    },
    {
      "cell_type": "markdown",
      "metadata": {
        "id": "zsEyucIm6FXT"
      },
      "source": [
        "HTML 테크가 무분별하게 부착되어 있네요 :-)\n",
        "먼저 테그부터 제거해보도록 하겠습니다."
      ]
    },
    {
      "cell_type": "code",
      "metadata": {
        "id": "fGI-1SXA395O"
      },
      "source": [
        "import re"
      ],
      "execution_count": null,
      "outputs": []
    },
    {
      "cell_type": "code",
      "metadata": {
        "id": "IZg_TYeH_Obz"
      },
      "source": [
        "def remove_html(texts):\n",
        "    \"\"\"\n",
        "    HTML 태그를 제거합니다.\n",
        "    ``<p>안녕하세요 ㅎㅎ </p>`` -> ``안녕하세요 ㅎㅎ ``\n",
        "    \"\"\"\n",
        "    preprcessed_text = []\n",
        "    for text in texts:\n",
        "        text = re.sub(r\"<[^>]+>\\s+(?=<)|<[^>]+>\", \"\", text).strip()\n",
        "        if text:\n",
        "            preprcessed_text.append(text)\n",
        "    return preprcessed_text"
      ],
      "execution_count": null,
      "outputs": []
    },
    {
      "cell_type": "code",
      "metadata": {
        "colab": {
          "base_uri": "https://localhost:8080/"
        },
        "id": "OqEu4OUL_Ya7",
        "outputId": "69332217-7e87-4995-bad2-1511a0b5d881"
      },
      "source": [
        "context = remove_html(context)\n",
        "for i, sent in enumerate(context):\n",
        "    print(i, sent)"
      ],
      "execution_count": null,
      "outputs": [
        {
          "output_type": "stream",
          "text": [
            "0 이하 뉴스1&인공지능 알파고(AlphaGo)를 상대로 첫 승리를 거둔 이세돌 9단\n",
            "1 이하 뉴스1 인공지능 알파고(AlphaGo)를 상대로 첫 승리를 거둔 이세돌 9단의 사진이 화제다.13일 서울 광화문 포시즌스 호텔에서 열린 '구글 딥마인드 챌린지 매치'에서 이세돌 9단은 알파고와의 제4국에서 승리했다. 이날 대국장을 빠져나가는 이세돌 9단의 모습이 사진에 포착됐다.이세돌 9단은 상의 주머니에 양손을 넣고 옅은 미소를 지었다. 이 사진은 SNS에서 화제를 모았다.오늘 알파고에게 승리하고 대국장 빠져나가는 이세돌이라는데ㅋㅋㅋㅋㅋㅋㅋ 포토제닉ㅋㅋㅋㅋㅋㅋㅋ 이대로 헐리웃 영화 만들어지고 포스터 소취요 pic.twitter.com/4IRFJu18hx— 조드윅 앓는 서린 (@katharine_stark) 2016년 3월 13일대국을 마친 뒤, 이세돌 9단은 \"한판 이겼는데 이렇게까지 축하를 받아보는 것은 처음\"이라고 말했다. 이세돌 9단은 기자회견장에도 함박 웃음을 감추지 못했다. function changeImgError(e,path){ if(e.src.search('webp')>0){ e.src = path } else { e.src = 'https://m.wikitree.co.kr/img/thumbnail_default.jpg' } }\n",
            "2 (서울=위키트리) 김성현 기자 (seonghkim@smilegate.com)  ‘이 줄은 실제 뉴스(news,)에 포함되지 않은 임시 데이터임을 알립니다…‘\n",
            "3 (사진=위키트리, 무단 전재-재배포 금지) ‘이 줄은 실제 뉴스(news,)에 포함되지 않은 임시 데이터임을 알립니다…‘\n",
            "4 #이세돌 #알파고 #인공지능 #딥러닝 #바둑\n"
          ],
          "name": "stdout"
        }
      ]
    },
    {
      "cell_type": "markdown",
      "metadata": {
        "id": "ZoMXHQWkZ_i0"
      },
      "source": [
        "## 문장 분리"
      ]
    },
    {
      "cell_type": "markdown",
      "metadata": {
        "id": "yYRM1wdSaBNh"
      },
      "source": [
        "문장 단위로 모델이 학습하도록 유도하기 위해, 문장 분리를 먼저 해주겠습니다.  \n",
        "\n",
        "한국어 문장분리기 중, 가장 성능이 우수한 것으로 알려진 [kss 라이브러리](https://github.com/hyunwoongko/kss)를 사용하도록 하겠습니다."
      ]
    },
    {
      "cell_type": "code",
      "metadata": {
        "colab": {
          "base_uri": "https://localhost:8080/"
        },
        "id": "u41qyTQ0rkxc",
        "outputId": "5eea9cf6-6e70-462f-fead-dc3ba4754f5b"
      },
      "source": [
        "!pip install kss"
      ],
      "execution_count": null,
      "outputs": [
        {
          "output_type": "stream",
          "text": [
            "Requirement already satisfied: kss in /usr/local/lib/python3.7/dist-packages (2.5.0)\n"
          ],
          "name": "stdout"
        }
      ]
    },
    {
      "cell_type": "code",
      "metadata": {
        "id": "rIL70wWesY0R"
      },
      "source": [
        "import kss"
      ],
      "execution_count": null,
      "outputs": []
    },
    {
      "cell_type": "code",
      "metadata": {
        "id": "rBIaMNpFugDz"
      },
      "source": [
        "sents = []\n",
        "\n",
        "for sent in context:\n",
        "    sent = sent.strip()\n",
        "    if sent:\n",
        "        splited_sent = kss.split_sentences(sent)\n",
        "        sents.extend(splited_sent)"
      ],
      "execution_count": null,
      "outputs": []
    },
    {
      "cell_type": "code",
      "metadata": {
        "colab": {
          "base_uri": "https://localhost:8080/"
        },
        "id": "b-KXa9upsXL2",
        "outputId": "c30aa352-f144-4bac-dcb7-1b440d2663b4"
      },
      "source": [
        "for i, sent in enumerate(sents):\n",
        "    print(i, sent)"
      ],
      "execution_count": null,
      "outputs": [
        {
          "output_type": "stream",
          "text": [
            "0 이하 뉴스1&인공지능 알파고(AlphaGo)를 상대로 첫 승리를 거둔 이세돌 9단\n",
            "1 이하 뉴스1 인공지능 알파고(AlphaGo)를 상대로 첫 승리를 거둔 이세돌 9단의 사진이 화제다.\n",
            "2 13일 서울 광화문 포시즌스 호텔에서 열린 '구글 딥마인드 챌린지 매치'에서 이세돌 9단은 알파고와의 제4국에서 승리했다.\n",
            "3 이날 대국장을 빠져나가는 이세돌 9단의 모습이 사진에 포착됐다.\n",
            "4 이세돌 9단은 상의 주머니에 양손을 넣고 옅은 미소를 지었다.\n",
            "5 이 사진은 SNS에서 화제를 모았다.\n",
            "6 오늘 알파고에게 승리하고 대국장 빠져나가는 이세돌이라는데ㅋㅋㅋㅋㅋㅋㅋ 포토제닉ㅋㅋㅋㅋㅋㅋㅋ 이대로 헐리웃 영화 만들어지고 포스터 소취요 pic.twitter.com/4IRFJu18hx— 조드윅 앓는 서린 (@katharine_stark) 2016년 3월 13일대국을 마친 뒤, 이세돌 9단은 \"한판 이겼는데 이렇게까지 축하를 받아보는 것은 처음\"이라고 말했다.\n",
            "7 이세돌 9단은 기자회견장에도 함박 웃음을 감추지 못했다.\n",
            "8 function changeImgError(e,path){ if(e.src.search('webp')>0){ e.src = path } else { e.src = 'https://m.wikitree.co.kr/img/thumbnail_default.jpg' } }\n",
            "9 (서울=위키트리) 김성현 기자 (seonghkim@smilegate.com)  ‘이 줄은 실제 뉴스(news,)에 포함되지 않은 임시 데이터임을 알립니다…‘\n",
            "10 (사진=위키트리, 무단 전재-재배포 금지) ‘이 줄은 실제 뉴스(news,)에 포함되지 않은 임시 데이터임을 알립니다…‘\n",
            "11 #이세돌 #알파고 #인공지능 #딥러닝 #바둑\n"
          ],
          "name": "stdout"
        }
      ]
    },
    {
      "cell_type": "markdown",
      "metadata": {
        "id": "KMXEI7jNbw7P"
      },
      "source": [
        "눈으로 확인해보니 데이터가 매우 불-편하네요 :-)   \n",
        "이제 본문에서 제거가 필요한 요소들을 확인해볼 수 있습니다.   "
      ]
    },
    {
      "cell_type": "markdown",
      "metadata": {
        "id": "ZKTpImqncN08"
      },
      "source": [
        "## Normalizing"
      ]
    },
    {
      "cell_type": "code",
      "metadata": {
        "id": "hIbEAtMtEEil"
      },
      "source": [
        "def remove_email(texts):\n",
        "    \"\"\"\n",
        "    이메일을 제거합니다.\n",
        "    ``홍길동 abc@gmail.com 연락주세요!`` -> ``홍길동  연락주세요!``\n",
        "    \"\"\"\n",
        "    preprocessed_text = []\n",
        "    for text in texts:\n",
        "        text = re.sub(r\"[a-zA-Z0-9+-_.]+@[a-zA-Z0-9-]+\\.[a-zA-Z0-9-.]+\", \"\", text).strip()\n",
        "        if text:\n",
        "            preprocessed_text.append(text)\n",
        "    return preprocessed_text"
      ],
      "execution_count": null,
      "outputs": []
    },
    {
      "cell_type": "code",
      "metadata": {
        "colab": {
          "base_uri": "https://localhost:8080/"
        },
        "id": "qOnFlNWBEQMw",
        "outputId": "7542be8b-5dd5-4f2c-826b-68874407bd84"
      },
      "source": [
        "sents = remove_email(sents)\n",
        "for i, sent in enumerate(sents):\n",
        "    print(i, sent)"
      ],
      "execution_count": null,
      "outputs": [
        {
          "output_type": "stream",
          "text": [
            "0 이하 뉴스1&인공지능 알파고(AlphaGo)를 상대로 첫 승리를 거둔 이세돌 9단\n",
            "1 이하 뉴스1 인공지능 알파고(AlphaGo)를 상대로 첫 승리를 거둔 이세돌 9단의 사진이 화제다.\n",
            "2 13일 서울 광화문 포시즌스 호텔에서 열린 '구글 딥마인드 챌린지 매치'에서 이세돌 9단은 알파고와의 제4국에서 승리했다.\n",
            "3 이날 대국장을 빠져나가는 이세돌 9단의 모습이 사진에 포착됐다.\n",
            "4 이세돌 9단은 상의 주머니에 양손을 넣고 옅은 미소를 지었다.\n",
            "5 이 사진은 SNS에서 화제를 모았다.\n",
            "6 오늘 알파고에게 승리하고 대국장 빠져나가는 이세돌이라는데ㅋㅋㅋㅋㅋㅋㅋ 포토제닉ㅋㅋㅋㅋㅋㅋㅋ 이대로 헐리웃 영화 만들어지고 포스터 소취요 pic.twitter.com/4IRFJu18hx— 조드윅 앓는 서린 (@katharine_stark) 2016년 3월 13일대국을 마친 뒤, 이세돌 9단은 \"한판 이겼는데 이렇게까지 축하를 받아보는 것은 처음\"이라고 말했다.\n",
            "7 이세돌 9단은 기자회견장에도 함박 웃음을 감추지 못했다.\n",
            "8 function changeImgError(e,path){ if(e.src.search('webp')>0){ e.src = path } else { e.src = 'https://m.wikitree.co.kr/img/thumbnail_default.jpg' } }\n",
            "9 (서울=위키트리) 김성현 기자 ()  ‘이 줄은 실제 뉴스(news,)에 포함되지 않은 임시 데이터임을 알립니다…‘\n",
            "10 (사진=위키트리, 무단 전재-재배포 금지) ‘이 줄은 실제 뉴스(news,)에 포함되지 않은 임시 데이터임을 알립니다…‘\n",
            "11 #이세돌 #알파고 #인공지능 #딥러닝 #바둑\n"
          ],
          "name": "stdout"
        }
      ]
    },
    {
      "cell_type": "code",
      "metadata": {
        "id": "l-eTwAyT30Nw"
      },
      "source": [
        "def remove_hashtag(texts):\n",
        "    \"\"\"\n",
        "    해쉬태그(#)를 제거합니다.\n",
        "    ``대박! #맛집 #JMT`` -> ``대박!  ``\n",
        "    \"\"\"\n",
        "    preprocessed_text = []\n",
        "    for text in texts:\n",
        "        text = re.sub(r\"#\\S+\", \"\", text).strip()\n",
        "        if text:\n",
        "            preprocessed_text.append(text)\n",
        "    return preprocessed_text"
      ],
      "execution_count": null,
      "outputs": []
    },
    {
      "cell_type": "code",
      "metadata": {
        "colab": {
          "base_uri": "https://localhost:8080/"
        },
        "id": "mNfsL_Rc-lAB",
        "outputId": "314d5084-37f7-4035-e093-83bdee860202"
      },
      "source": [
        "sents = remove_hashtag(sents)\n",
        "for i, sent in enumerate(sents):\n",
        "    print(i, sent)"
      ],
      "execution_count": null,
      "outputs": [
        {
          "output_type": "stream",
          "text": [
            "0 이하 뉴스1&인공지능 알파고(AlphaGo)를 상대로 첫 승리를 거둔 이세돌 9단\n",
            "1 이하 뉴스1 인공지능 알파고(AlphaGo)를 상대로 첫 승리를 거둔 이세돌 9단의 사진이 화제다.\n",
            "2 13일 서울 광화문 포시즌스 호텔에서 열린 '구글 딥마인드 챌린지 매치'에서 이세돌 9단은 알파고와의 제4국에서 승리했다.\n",
            "3 이날 대국장을 빠져나가는 이세돌 9단의 모습이 사진에 포착됐다.\n",
            "4 이세돌 9단은 상의 주머니에 양손을 넣고 옅은 미소를 지었다.\n",
            "5 이 사진은 SNS에서 화제를 모았다.\n",
            "6 오늘 알파고에게 승리하고 대국장 빠져나가는 이세돌이라는데ㅋㅋㅋㅋㅋㅋㅋ 포토제닉ㅋㅋㅋㅋㅋㅋㅋ 이대로 헐리웃 영화 만들어지고 포스터 소취요 pic.twitter.com/4IRFJu18hx— 조드윅 앓는 서린 (@katharine_stark) 2016년 3월 13일대국을 마친 뒤, 이세돌 9단은 \"한판 이겼는데 이렇게까지 축하를 받아보는 것은 처음\"이라고 말했다.\n",
            "7 이세돌 9단은 기자회견장에도 함박 웃음을 감추지 못했다.\n",
            "8 function changeImgError(e,path){ if(e.src.search('webp')>0){ e.src = path } else { e.src = 'https://m.wikitree.co.kr/img/thumbnail_default.jpg' } }\n",
            "9 (서울=위키트리) 김성현 기자 ()  ‘이 줄은 실제 뉴스(news,)에 포함되지 않은 임시 데이터임을 알립니다…‘\n",
            "10 (사진=위키트리, 무단 전재-재배포 금지) ‘이 줄은 실제 뉴스(news,)에 포함되지 않은 임시 데이터임을 알립니다…‘\n"
          ],
          "name": "stdout"
        }
      ]
    },
    {
      "cell_type": "code",
      "metadata": {
        "id": "v9OMx7ke4J-3"
      },
      "source": [
        "def remove_user_mention(texts):\n",
        "    \"\"\"\n",
        "    유저에 대한 멘션(@) 태그를 제거합니다.\n",
        "    ``@홍길동 감사합니다!`` -> `` 감사합니다!``\n",
        "    \"\"\"\n",
        "    preprocessed_text = []\n",
        "    for text in texts:\n",
        "        text = re.sub(r\"@\\w+\", \"\", text).strip()\n",
        "        if text:\n",
        "            preprocessed_text.append(text)\n",
        "    return preprocessed_text"
      ],
      "execution_count": null,
      "outputs": []
    },
    {
      "cell_type": "code",
      "metadata": {
        "colab": {
          "base_uri": "https://localhost:8080/"
        },
        "id": "waTWpnUe4bXM",
        "outputId": "cff41840-3a3c-4269-9432-835a3deb6bc2"
      },
      "source": [
        "sents = remove_user_mention(sents)\n",
        "for i, sent in enumerate(sents):\n",
        "    print(i, sent)"
      ],
      "execution_count": null,
      "outputs": [
        {
          "output_type": "stream",
          "text": [
            "0 이하 뉴스1&인공지능 알파고(AlphaGo)를 상대로 첫 승리를 거둔 이세돌 9단\n",
            "1 이하 뉴스1 인공지능 알파고(AlphaGo)를 상대로 첫 승리를 거둔 이세돌 9단의 사진이 화제다.\n",
            "2 13일 서울 광화문 포시즌스 호텔에서 열린 '구글 딥마인드 챌린지 매치'에서 이세돌 9단은 알파고와의 제4국에서 승리했다.\n",
            "3 이날 대국장을 빠져나가는 이세돌 9단의 모습이 사진에 포착됐다.\n",
            "4 이세돌 9단은 상의 주머니에 양손을 넣고 옅은 미소를 지었다.\n",
            "5 이 사진은 SNS에서 화제를 모았다.\n",
            "6 오늘 알파고에게 승리하고 대국장 빠져나가는 이세돌이라는데ㅋㅋㅋㅋㅋㅋㅋ 포토제닉ㅋㅋㅋㅋㅋㅋㅋ 이대로 헐리웃 영화 만들어지고 포스터 소취요 pic.twitter.com/4IRFJu18hx— 조드윅 앓는 서린 () 2016년 3월 13일대국을 마친 뒤, 이세돌 9단은 \"한판 이겼는데 이렇게까지 축하를 받아보는 것은 처음\"이라고 말했다.\n",
            "7 이세돌 9단은 기자회견장에도 함박 웃음을 감추지 못했다.\n",
            "8 function changeImgError(e,path){ if(e.src.search('webp')>0){ e.src = path } else { e.src = 'https://m.wikitree.co.kr/img/thumbnail_default.jpg' } }\n",
            "9 (서울=위키트리) 김성현 기자 ()  ‘이 줄은 실제 뉴스(news,)에 포함되지 않은 임시 데이터임을 알립니다…‘\n",
            "10 (사진=위키트리, 무단 전재-재배포 금지) ‘이 줄은 실제 뉴스(news,)에 포함되지 않은 임시 데이터임을 알립니다…‘\n"
          ],
          "name": "stdout"
        }
      ]
    },
    {
      "cell_type": "code",
      "metadata": {
        "id": "03CdiW0D8Gnz"
      },
      "source": [
        "def remove_url(texts):\n",
        "    \"\"\"\n",
        "    URL을 제거합니다.\n",
        "    ``주소: www.naver.com`` -> ``주소: ``\n",
        "    \"\"\"\n",
        "    preprocessed_text = []\n",
        "    for text in texts:\n",
        "        text = re.sub(r\"(http|https)?:\\/\\/\\S+\\b|www\\.(\\w+\\.)+\\S*\", \"\", text).strip()\n",
        "        text = re.sub(r\"pic\\.(\\w+\\.)+\\S*\", \"\", text).strip()\n",
        "        if text:\n",
        "            preprocessed_text.append(text)\n",
        "    return preprocessed_text"
      ],
      "execution_count": null,
      "outputs": []
    },
    {
      "cell_type": "code",
      "metadata": {
        "colab": {
          "base_uri": "https://localhost:8080/"
        },
        "id": "fpsxBYj38UhI",
        "outputId": "63faae3b-d747-480b-975b-29c598b47457"
      },
      "source": [
        "sents = remove_url(sents)\n",
        "for i, sent in enumerate(sents):\n",
        "    print(i, sent)"
      ],
      "execution_count": null,
      "outputs": [
        {
          "output_type": "stream",
          "text": [
            "0 이하 뉴스1&인공지능 알파고(AlphaGo)를 상대로 첫 승리를 거둔 이세돌 9단\n",
            "1 이하 뉴스1 인공지능 알파고(AlphaGo)를 상대로 첫 승리를 거둔 이세돌 9단의 사진이 화제다.\n",
            "2 13일 서울 광화문 포시즌스 호텔에서 열린 '구글 딥마인드 챌린지 매치'에서 이세돌 9단은 알파고와의 제4국에서 승리했다.\n",
            "3 이날 대국장을 빠져나가는 이세돌 9단의 모습이 사진에 포착됐다.\n",
            "4 이세돌 9단은 상의 주머니에 양손을 넣고 옅은 미소를 지었다.\n",
            "5 이 사진은 SNS에서 화제를 모았다.\n",
            "6 오늘 알파고에게 승리하고 대국장 빠져나가는 이세돌이라는데ㅋㅋㅋㅋㅋㅋㅋ 포토제닉ㅋㅋㅋㅋㅋㅋㅋ 이대로 헐리웃 영화 만들어지고 포스터 소취요  조드윅 앓는 서린 () 2016년 3월 13일대국을 마친 뒤, 이세돌 9단은 \"한판 이겼는데 이렇게까지 축하를 받아보는 것은 처음\"이라고 말했다.\n",
            "7 이세돌 9단은 기자회견장에도 함박 웃음을 감추지 못했다.\n",
            "8 function changeImgError(e,path){ if(e.src.search('webp')>0){ e.src = path } else { e.src = '' } }\n",
            "9 (서울=위키트리) 김성현 기자 ()  ‘이 줄은 실제 뉴스(news,)에 포함되지 않은 임시 데이터임을 알립니다…‘\n",
            "10 (사진=위키트리, 무단 전재-재배포 금지) ‘이 줄은 실제 뉴스(news,)에 포함되지 않은 임시 데이터임을 알립니다…‘\n"
          ],
          "name": "stdout"
        }
      ]
    },
    {
      "cell_type": "code",
      "metadata": {
        "id": "Rir88iL9-2GQ"
      },
      "source": [
        "def remove_bad_char(texts):\n",
        "    \"\"\"\n",
        "    문제를 일으킬 수 있는 문자들을 제거합니다.\n",
        "    \"\"\"\n",
        "    bad_chars = {\"\\u200b\": \"\", \"…\": \" ... \", \"\\ufeff\": \"\"}\n",
        "    preprcessed_text = []\n",
        "    for text in texts:\n",
        "        for bad_char in bad_chars:\n",
        "            text = text.replace(bad_char, bad_chars[bad_char])\n",
        "        text = re.sub(r\"[\\+á?\\xc3\\xa1]\", \"\", text)\n",
        "        if text:\n",
        "            preprcessed_text.append(text)\n",
        "    return preprcessed_text"
      ],
      "execution_count": null,
      "outputs": []
    },
    {
      "cell_type": "code",
      "metadata": {
        "colab": {
          "base_uri": "https://localhost:8080/"
        },
        "id": "fXHg4_-A_Hg-",
        "outputId": "69576549-a315-479c-8b0d-494bdf818771"
      },
      "source": [
        "sents = remove_bad_char(sents)\n",
        "for i, sent in enumerate(sents):\n",
        "    print(i, sent)"
      ],
      "execution_count": null,
      "outputs": [
        {
          "output_type": "stream",
          "text": [
            "0 이하 뉴스1&인공지능 알파고(AlphaGo)를 상대로 첫 승리를 거둔 이세돌 9단\n",
            "1 이하 뉴스1 인공지능 알파고(AlphaGo)를 상대로 첫 승리를 거둔 이세돌 9단의 사진이 화제다.\n",
            "2 13일 서울 광화문 포시즌스 호텔에서 열린 '구글 딥마인드 챌린지 매치'에서 이세돌 9단은 알파고와의 제4국에서 승리했다.\n",
            "3 이날 대국장을 빠져나가는 이세돌 9단의 모습이 사진에 포착됐다.\n",
            "4 이세돌 9단은 상의 주머니에 양손을 넣고 옅은 미소를 지었다.\n",
            "5 이 사진은 SNS에서 화제를 모았다.\n",
            "6 오늘 알파고에게 승리하고 대국장 빠져나가는 이세돌이라는데ㅋㅋㅋㅋㅋㅋㅋ 포토제닉ㅋㅋㅋㅋㅋㅋㅋ 이대로 헐리웃 영화 만들어지고 포스터 소취요  조드윅 앓는 서린 () 2016년 3월 13일대국을 마친 뒤, 이세돌 9단은 \"한판 이겼는데 이렇게까지 축하를 받아보는 것은 처음\"이라고 말했다.\n",
            "7 이세돌 9단은 기자회견장에도 함박 웃음을 감추지 못했다.\n",
            "8 function changeImgError(e,path){ if(e.src.search('webp')>0){ e.src = path } else { e.src = '' } }\n",
            "9 (서울=위키트리) 김성현 기자 ()  ‘이 줄은 실제 뉴스(news,)에 포함되지 않은 임시 데이터임을 알립니다 ... ‘\n",
            "10 (사진=위키트리, 무단 전재-재배포 금지) ‘이 줄은 실제 뉴스(news,)에 포함되지 않은 임시 데이터임을 알립니다 ... ‘\n"
          ],
          "name": "stdout"
        }
      ]
    },
    {
      "cell_type": "code",
      "metadata": {
        "id": "X0QNLCbU_jzq"
      },
      "source": [
        "def remove_press(texts):\n",
        "    \"\"\"\n",
        "    언론 정보를 제거합니다.\n",
        "    ``홍길동 기자 (연합뉴스)`` -> ````\n",
        "    ``(이스탄불=연합뉴스) 하채림 특파원 -> ````\n",
        "    \"\"\"\n",
        "    re_patterns = [\n",
        "        r\"\\([^(]*?(뉴스|경제|일보|미디어|데일리|한겨례|타임즈|위키트리)\\)\",\n",
        "        r\"[가-힣]{0,4} (기자|선임기자|수습기자|특파원|객원기자|논설고문|통신원|연구소장) \",  # 이름 + 기자\n",
        "        r\"[가-힣]{1,}(뉴스|경제|일보|미디어|데일리|한겨례|타임|위키트리)\",  # (... 연합뉴스) ..\n",
        "        r\"\\(\\s+\\)\",  # (  )\n",
        "        r\"\\(=\\s+\\)\",  # (=  )\n",
        "        r\"\\(\\s+=\\)\",  # (  =)\n",
        "    ]\n",
        "\n",
        "    preprocessed_text = []\n",
        "    for text in texts:\n",
        "        for re_pattern in re_patterns:\n",
        "            text = re.sub(re_pattern, \"\", text).strip()\n",
        "        if text:\n",
        "            preprocessed_text.append(text)    \n",
        "    return preprocessed_text"
      ],
      "execution_count": null,
      "outputs": []
    },
    {
      "cell_type": "code",
      "metadata": {
        "colab": {
          "base_uri": "https://localhost:8080/"
        },
        "id": "Esm6MOjX_wKl",
        "outputId": "d4e937b0-331a-4062-e871-062bdb5c7119"
      },
      "source": [
        "sents = remove_press(sents)\n",
        "for i, sent in enumerate(sents):\n",
        "    print(i, sent)"
      ],
      "execution_count": null,
      "outputs": [
        {
          "output_type": "stream",
          "text": [
            "0 이하 뉴스1&인공지능 알파고(AlphaGo)를 상대로 첫 승리를 거둔 이세돌 9단\n",
            "1 이하 뉴스1 인공지능 알파고(AlphaGo)를 상대로 첫 승리를 거둔 이세돌 9단의 사진이 화제다.\n",
            "2 13일 서울 광화문 포시즌스 호텔에서 열린 '구글 딥마인드 챌린지 매치'에서 이세돌 9단은 알파고와의 제4국에서 승리했다.\n",
            "3 이날 대국장을 빠져나가는 이세돌 9단의 모습이 사진에 포착됐다.\n",
            "4 이세돌 9단은 상의 주머니에 양손을 넣고 옅은 미소를 지었다.\n",
            "5 이 사진은 SNS에서 화제를 모았다.\n",
            "6 오늘 알파고에게 승리하고 대국장 빠져나가는 이세돌이라는데ㅋㅋㅋㅋㅋㅋㅋ 포토제닉ㅋㅋㅋㅋㅋㅋㅋ 이대로 헐리웃 영화 만들어지고 포스터 소취요  조드윅 앓는 서린 () 2016년 3월 13일대국을 마친 뒤, 이세돌 9단은 \"한판 이겼는데 이렇게까지 축하를 받아보는 것은 처음\"이라고 말했다.\n",
            "7 이세돌 9단은 기자회견장에도 함박 웃음을 감추지 못했다.\n",
            "8 function changeImgError(e,path){ if(e.src.search('webp')>0){ e.src = path } else { e.src = '' } }\n",
            "9 ()  ‘이 줄은 실제 뉴스(news,)에 포함되지 않은 임시 데이터임을 알립니다 ... ‘\n",
            "10 (사진=위키트리, 무단 전재-재배포 금지) ‘이 줄은 실제 뉴스(news,)에 포함되지 않은 임시 데이터임을 알립니다 ... ‘\n"
          ],
          "name": "stdout"
        }
      ]
    },
    {
      "cell_type": "code",
      "metadata": {
        "id": "fLlkYrwTCKSE"
      },
      "source": [
        "def remove_copyright(texts):\n",
        "    \"\"\"\n",
        "    뉴스 내 포함된 저작권 관련 텍스트를 제거합니다.\n",
        "    ``(사진=저작권자(c) 연합뉴스, 무단 전재-재배포 금지)`` -> ``(사진= 연합뉴스, 무단 전재-재배포 금지)`` TODO 수정할 것\n",
        "    \"\"\"\n",
        "    re_patterns = [\n",
        "        r\"\\<저작권자(\\(c\\)|ⓒ|©|\\(Copyright\\)|(\\(c\\))|(\\(C\\))).+?\\>\",\n",
        "        r\"저작권자\\(c\\)|ⓒ|©|(Copyright)|(\\(c\\))|(\\(C\\))\"\n",
        "    ]\n",
        "    preprocessed_text = []\n",
        "    for text in texts:\n",
        "        for re_pattern in re_patterns:\n",
        "            text = re.sub(re_pattern, \"\", text).strip()\n",
        "        if text:\n",
        "            preprocessed_text.append(text)    \n",
        "    return preprocessed_text"
      ],
      "execution_count": null,
      "outputs": []
    },
    {
      "cell_type": "code",
      "metadata": {
        "colab": {
          "base_uri": "https://localhost:8080/"
        },
        "id": "2d-05viiDw0X",
        "outputId": "6c303e1d-ed70-4f81-e6cd-a56ec91270c7"
      },
      "source": [
        "sents = remove_copyright(sents)\n",
        "for i, sent in enumerate(sents):\n",
        "    print(i, sent)"
      ],
      "execution_count": null,
      "outputs": [
        {
          "output_type": "stream",
          "text": [
            "0 이하 뉴스1&인공지능 알파고(AlphaGo)를 상대로 첫 승리를 거둔 이세돌 9단\n",
            "1 이하 뉴스1 인공지능 알파고(AlphaGo)를 상대로 첫 승리를 거둔 이세돌 9단의 사진이 화제다.\n",
            "2 13일 서울 광화문 포시즌스 호텔에서 열린 '구글 딥마인드 챌린지 매치'에서 이세돌 9단은 알파고와의 제4국에서 승리했다.\n",
            "3 이날 대국장을 빠져나가는 이세돌 9단의 모습이 사진에 포착됐다.\n",
            "4 이세돌 9단은 상의 주머니에 양손을 넣고 옅은 미소를 지었다.\n",
            "5 이 사진은 SNS에서 화제를 모았다.\n",
            "6 오늘 알파고에게 승리하고 대국장 빠져나가는 이세돌이라는데ㅋㅋㅋㅋㅋㅋㅋ 포토제닉ㅋㅋㅋㅋㅋㅋㅋ 이대로 헐리웃 영화 만들어지고 포스터 소취요  조드윅 앓는 서린 () 2016년 3월 13일대국을 마친 뒤, 이세돌 9단은 \"한판 이겼는데 이렇게까지 축하를 받아보는 것은 처음\"이라고 말했다.\n",
            "7 이세돌 9단은 기자회견장에도 함박 웃음을 감추지 못했다.\n",
            "8 function changeImgError(e,path){ if(e.src.search('webp')>0){ e.src = path } else { e.src = '' } }\n",
            "9 ()  ‘이 줄은 실제 뉴스(news,)에 포함되지 않은 임시 데이터임을 알립니다 ... ‘\n",
            "10 (사진=위키트리, 무단 전재-재배포 금지) ‘이 줄은 실제 뉴스(news,)에 포함되지 않은 임시 데이터임을 알립니다 ... ‘\n"
          ],
          "name": "stdout"
        }
      ]
    },
    {
      "cell_type": "code",
      "metadata": {
        "id": "UCkRPjsHBgvR"
      },
      "source": [
        "def remove_photo_info(texts):\n",
        "    \"\"\"\n",
        "    뉴스 내 포함된 이미지에 대한 label을 제거합니다.\n",
        "    ``(사진= 연합뉴스, 무단 전재-재배포 금지)`` -> ````\n",
        "    ``(출처=청주시)`` -> ````\n",
        "    \"\"\"\n",
        "    preprocessed_text = []\n",
        "    for text in texts:\n",
        "        text = re.sub(r\"\\(출처 ?= ?.+\\) |\\(사진 ?= ?.+\\) |\\(자료 ?= ?.+\\)| \\(자료사진\\) |사진=.+기자 \", \"\", text).strip()\n",
        "        if text:\n",
        "            preprocessed_text.append(text)\n",
        "    return preprocessed_text\n"
      ],
      "execution_count": null,
      "outputs": []
    },
    {
      "cell_type": "code",
      "metadata": {
        "colab": {
          "base_uri": "https://localhost:8080/"
        },
        "id": "SdOSxpRRBwqV",
        "outputId": "5ce07aed-bb1a-4622-887a-85a498e5d699"
      },
      "source": [
        "sents = remove_photo_info(sents)\n",
        "for i, sent in enumerate(sents):\n",
        "    print(i, sent)"
      ],
      "execution_count": null,
      "outputs": [
        {
          "output_type": "stream",
          "text": [
            "0 이하 뉴스1&인공지능 알파고(AlphaGo)를 상대로 첫 승리를 거둔 이세돌 9단\n",
            "1 이하 뉴스1 인공지능 알파고(AlphaGo)를 상대로 첫 승리를 거둔 이세돌 9단의 사진이 화제다.\n",
            "2 13일 서울 광화문 포시즌스 호텔에서 열린 '구글 딥마인드 챌린지 매치'에서 이세돌 9단은 알파고와의 제4국에서 승리했다.\n",
            "3 이날 대국장을 빠져나가는 이세돌 9단의 모습이 사진에 포착됐다.\n",
            "4 이세돌 9단은 상의 주머니에 양손을 넣고 옅은 미소를 지었다.\n",
            "5 이 사진은 SNS에서 화제를 모았다.\n",
            "6 오늘 알파고에게 승리하고 대국장 빠져나가는 이세돌이라는데ㅋㅋㅋㅋㅋㅋㅋ 포토제닉ㅋㅋㅋㅋㅋㅋㅋ 이대로 헐리웃 영화 만들어지고 포스터 소취요  조드윅 앓는 서린 () 2016년 3월 13일대국을 마친 뒤, 이세돌 9단은 \"한판 이겼는데 이렇게까지 축하를 받아보는 것은 처음\"이라고 말했다.\n",
            "7 이세돌 9단은 기자회견장에도 함박 웃음을 감추지 못했다.\n",
            "8 function changeImgError(e,path){ if(e.src.search('webp')>0){ e.src = path } else { e.src = '' } }\n",
            "9 ()  ‘이 줄은 실제 뉴스(news,)에 포함되지 않은 임시 데이터임을 알립니다 ... ‘\n",
            "10 ‘이 줄은 실제 뉴스(news,)에 포함되지 않은 임시 데이터임을 알립니다 ... ‘\n"
          ],
          "name": "stdout"
        }
      ]
    },
    {
      "cell_type": "code",
      "metadata": {
        "id": "yFIgYzXxEmV4"
      },
      "source": [
        "def remove_useless_breacket(texts):\n",
        "    \"\"\"\n",
        "    위키피디아 전처리를 위한 함수입니다.\n",
        "    괄호 내부에 의미가 없는 정보를 제거합니다.\n",
        "    아무런 정보를 포함하고 있지 않다면, 괄호를 통채로 제거합니다.\n",
        "    ``수학(,)`` -> ``수학``\n",
        "    ``수학(數學,) -> ``수학(數學)``\n",
        "    \"\"\"\n",
        "    bracket_pattern = re.compile(r\"\\((.*?)\\)\")\n",
        "    preprocessed_text = []\n",
        "    for text in texts:\n",
        "        modi_text = \"\"\n",
        "        text = text.replace(\"()\", \"\")  # 수학() -> 수학\n",
        "        brackets = bracket_pattern.search(text)\n",
        "        if not brackets:\n",
        "            if text:\n",
        "                preprocessed_text.append(text)\n",
        "                continue\n",
        "        replace_brackets = {}\n",
        "        # key: 원본 문장에서 고쳐야하는 index, value: 고쳐져야 하는 값\n",
        "        # e.g. {'2,8': '(數學)','34,37': ''}\n",
        "        while brackets:\n",
        "            index_key = str(brackets.start()) + \",\" + str(brackets.end())\n",
        "            bracket = text[brackets.start() + 1 : brackets.end() - 1]\n",
        "            infos = bracket.split(\",\")\n",
        "            modi_infos = []\n",
        "            for info in infos:\n",
        "                info = info.strip()\n",
        "                if len(info) > 0:\n",
        "                    modi_infos.append(info)\n",
        "            if len(modi_infos) > 0:\n",
        "                replace_brackets[index_key] = \"(\" + \", \".join(modi_infos) + \")\"\n",
        "            else:\n",
        "                replace_brackets[index_key] = \"\"\n",
        "            brackets = bracket_pattern.search(text, brackets.start() + 1)\n",
        "        end_index = 0\n",
        "        for index_key in replace_brackets.keys():\n",
        "            start_index = int(index_key.split(\",\")[0])\n",
        "            modi_text += text[end_index:start_index]\n",
        "            modi_text += replace_brackets[index_key]\n",
        "            end_index = int(index_key.split(\",\")[1])\n",
        "        modi_text += text[end_index:]\n",
        "        modi_text = modi_text.strip()\n",
        "        if modi_text:\n",
        "            preprocessed_text.append(modi_text)\n",
        "    return preprocessed_text"
      ],
      "execution_count": null,
      "outputs": []
    },
    {
      "cell_type": "code",
      "metadata": {
        "colab": {
          "base_uri": "https://localhost:8080/"
        },
        "id": "FIyH9kNXE5mJ",
        "outputId": "a4bc92a3-6384-4e9e-b44e-bf728dc576e4"
      },
      "source": [
        "sents = remove_useless_breacket(sents)\n",
        "for i, sent in enumerate(sents):\n",
        "    print(i, sent)"
      ],
      "execution_count": null,
      "outputs": [
        {
          "output_type": "stream",
          "text": [
            "0 이하 뉴스1&인공지능 알파고(AlphaGo)를 상대로 첫 승리를 거둔 이세돌 9단\n",
            "1 이하 뉴스1 인공지능 알파고(AlphaGo)를 상대로 첫 승리를 거둔 이세돌 9단의 사진이 화제다.\n",
            "2 13일 서울 광화문 포시즌스 호텔에서 열린 '구글 딥마인드 챌린지 매치'에서 이세돌 9단은 알파고와의 제4국에서 승리했다.\n",
            "3 이날 대국장을 빠져나가는 이세돌 9단의 모습이 사진에 포착됐다.\n",
            "4 이세돌 9단은 상의 주머니에 양손을 넣고 옅은 미소를 지었다.\n",
            "5 이 사진은 SNS에서 화제를 모았다.\n",
            "6 오늘 알파고에게 승리하고 대국장 빠져나가는 이세돌이라는데ㅋㅋㅋㅋㅋㅋㅋ 포토제닉ㅋㅋㅋㅋㅋㅋㅋ 이대로 헐리웃 영화 만들어지고 포스터 소취요  조드윅 앓는 서린  2016년 3월 13일대국을 마친 뒤, 이세돌 9단은 \"한판 이겼는데 이렇게까지 축하를 받아보는 것은 처음\"이라고 말했다.\n",
            "7 이세돌 9단은 기자회견장에도 함박 웃음을 감추지 못했다.\n",
            "8 function changeImgError(e, path){ if(e.src.search('webp')('webp')>0){ e.src = path } else { e.src = '' } }\n",
            "9 ‘이 줄은 실제 뉴스(news)에 포함되지 않은 임시 데이터임을 알립니다 ... ‘\n",
            "10 ‘이 줄은 실제 뉴스(news)에 포함되지 않은 임시 데이터임을 알립니다 ... ‘\n"
          ],
          "name": "stdout"
        }
      ]
    },
    {
      "cell_type": "code",
      "metadata": {
        "colab": {
          "base_uri": "https://localhost:8080/"
        },
        "id": "LqKx9fFiFjJi",
        "outputId": "87d472ba-8c93-4582-f320-d1b87769a889"
      },
      "source": [
        "!pip install soynlp"
      ],
      "execution_count": null,
      "outputs": [
        {
          "output_type": "stream",
          "text": [
            "Requirement already satisfied: soynlp in /usr/local/lib/python3.7/dist-packages (0.0.493)\n",
            "Requirement already satisfied: scikit-learn>=0.20.0 in /usr/local/lib/python3.7/dist-packages (from soynlp) (0.22.2.post1)\n",
            "Requirement already satisfied: scipy>=1.1.0 in /usr/local/lib/python3.7/dist-packages (from soynlp) (1.4.1)\n",
            "Requirement already satisfied: psutil>=5.0.1 in /usr/local/lib/python3.7/dist-packages (from soynlp) (5.4.8)\n",
            "Requirement already satisfied: numpy>=1.12.1 in /usr/local/lib/python3.7/dist-packages (from soynlp) (1.19.5)\n",
            "Requirement already satisfied: joblib>=0.11 in /usr/local/lib/python3.7/dist-packages (from scikit-learn>=0.20.0->soynlp) (1.0.1)\n"
          ],
          "name": "stdout"
        }
      ]
    },
    {
      "cell_type": "code",
      "metadata": {
        "colab": {
          "base_uri": "https://localhost:8080/"
        },
        "id": "mXQwZaORGEi0",
        "outputId": "7f0ad767-4b0c-4e20-d41c-5fce88e1436b"
      },
      "source": [
        "from soynlp.normalizer import *\n",
        "print(repeat_normalize('와하하하하하하하하하핫', num_repeats=2))"
      ],
      "execution_count": null,
      "outputs": [
        {
          "output_type": "stream",
          "text": [
            "와하하핫\n"
          ],
          "name": "stdout"
        }
      ]
    },
    {
      "cell_type": "code",
      "metadata": {
        "id": "Uv4y-nsOGv1y"
      },
      "source": [
        "def remove_repeat_char(texts):\n",
        "    preprocessed_text = []\n",
        "    for text in texts:\n",
        "        text = repeat_normalize(text, num_repeats=2).strip()\n",
        "        if text:\n",
        "            preprocessed_text.append(text)\n",
        "    return preprocessed_text"
      ],
      "execution_count": null,
      "outputs": []
    },
    {
      "cell_type": "code",
      "metadata": {
        "colab": {
          "base_uri": "https://localhost:8080/"
        },
        "id": "sl1Q5XqlHCjn",
        "outputId": "6a290124-ee2d-4632-c58a-2d3d0ec66e84"
      },
      "source": [
        "sents = remove_repeat_char(sents)\n",
        "for i, sent in enumerate(sents):\n",
        "    print(i, sent)"
      ],
      "execution_count": null,
      "outputs": [
        {
          "output_type": "stream",
          "text": [
            "0 이하 뉴스1&인공지능 알파고(AlphaGo)를 상대로 첫 승리를 거둔 이세돌 9단\n",
            "1 이하 뉴스1 인공지능 알파고(AlphaGo)를 상대로 첫 승리를 거둔 이세돌 9단의 사진이 화제다.\n",
            "2 13일 서울 광화문 포시즌스 호텔에서 열린 '구글 딥마인드 챌린지 매치'에서 이세돌 9단은 알파고와의 제4국에서 승리했다.\n",
            "3 이날 대국장을 빠져나가는 이세돌 9단의 모습이 사진에 포착됐다.\n",
            "4 이세돌 9단은 상의 주머니에 양손을 넣고 옅은 미소를 지었다.\n",
            "5 이 사진은 SNS에서 화제를 모았다.\n",
            "6 오늘 알파고에게 승리하고 대국장 빠져나가는 이세돌이라는데ㅋㅋ 포토제닉ㅋㅋ 이대로 헐리웃 영화 만들어지고 포스터 소취요 조드윅 앓는 서린 2016년 3월 13일대국을 마친 뒤, 이세돌 9단은 \"한판 이겼는데 이렇게까지 축하를 받아보는 것은 처음\"이라고 말했다.\n",
            "7 이세돌 9단은 기자회견장에도 함박 웃음을 감추지 못했다.\n",
            "8 function changeImgError(e, path){ if(e.src.search('webp')('webp')>0){ e.src = path } else { e.src = '' } }\n",
            "9 ‘이 줄은 실제 뉴스(news)에 포함되지 않은 임시 데이터임을 알립니다 ... ‘\n",
            "10 ‘이 줄은 실제 뉴스(news)에 포함되지 않은 임시 데이터임을 알립니다 ... ‘\n"
          ],
          "name": "stdout"
        }
      ]
    },
    {
      "cell_type": "code",
      "metadata": {
        "id": "gSw2vTRq3Ncj"
      },
      "source": [
        "def clean_punc(texts):\n",
        "    punct_mapping = {\"‘\": \"'\", \"₹\": \"e\", \"´\": \"'\", \"°\": \"\", \"€\": \"e\", \"™\": \"tm\", \"√\": \" sqrt \", \"×\": \"x\", \"²\": \"2\", \"—\": \"-\", \"–\": \"-\", \"’\": \"'\", \"_\": \"-\", \"`\": \"'\", '“': '\"', '”': '\"', '“': '\"', \"£\": \"e\", '∞': 'infinity', 'θ': 'theta', '÷': '/', 'α': 'alpha', '•': '.', 'à': 'a', '−': '-', 'β': 'beta', '∅': '', '³': '3', 'π': 'pi', }\n",
        "\n",
        "    preprocessed_text = []\n",
        "    for text in texts:\n",
        "        for p in punct_mapping:\n",
        "            text = text.replace(p, punct_mapping[p])\n",
        "        text = text.strip()\n",
        "        if text:\n",
        "            preprocessed_text.append(text)\n",
        "    return preprocessed_text"
      ],
      "execution_count": null,
      "outputs": []
    },
    {
      "cell_type": "code",
      "metadata": {
        "colab": {
          "base_uri": "https://localhost:8080/"
        },
        "id": "5GaQEA6x3cWy",
        "outputId": "0fc63be4-e4f7-4661-cbdf-c9fef4140a29"
      },
      "source": [
        "sents = clean_punc(sents)\n",
        "for i, sent in enumerate(sents):\n",
        "    print(i, sent)"
      ],
      "execution_count": null,
      "outputs": [
        {
          "output_type": "stream",
          "text": [
            "0 이하 뉴스1&인공지능 알파고(AlphaGo)를 상대로 첫 승리를 거둔 이세돌 9단\n",
            "1 이하 뉴스1 인공지능 알파고(AlphaGo)를 상대로 첫 승리를 거둔 이세돌 9단의 사진이 화제다.\n",
            "2 13일 서울 광화문 포시즌스 호텔에서 열린 '구글 딥마인드 챌린지 매치'에서 이세돌 9단은 알파고와의 제4국에서 승리했다.\n",
            "3 이날 대국장을 빠져나가는 이세돌 9단의 모습이 사진에 포착됐다.\n",
            "4 이세돌 9단은 상의 주머니에 양손을 넣고 옅은 미소를 지었다.\n",
            "5 이 사진은 SNS에서 화제를 모았다.\n",
            "6 오늘 알파고에게 승리하고 대국장 빠져나가는 이세돌이라는데ㅋㅋ 포토제닉ㅋㅋ 이대로 헐리웃 영화 만들어지고 포스터 소취요 조드윅 앓는 서린 2016년 3월 13일대국을 마친 뒤, 이세돌 9단은 \"한판 이겼는데 이렇게까지 축하를 받아보는 것은 처음\"이라고 말했다.\n",
            "7 이세돌 9단은 기자회견장에도 함박 웃음을 감추지 못했다.\n",
            "8 function changeImgError(e, path){ if(e.src.search('webp')('webp')>0){ e.src = path } else { e.src = '' } }\n",
            "9 '이 줄은 실제 뉴스(news)에 포함되지 않은 임시 데이터임을 알립니다 ... '\n",
            "10 '이 줄은 실제 뉴스(news)에 포함되지 않은 임시 데이터임을 알립니다 ... '\n"
          ],
          "name": "stdout"
        }
      ]
    },
    {
      "cell_type": "code",
      "metadata": {
        "id": "sX_JE4Z53jJz"
      },
      "source": [
        "def remove_repeated_spacing(texts):\n",
        "    \"\"\"\n",
        "    두 개 이상의 연속된 공백을 하나로 치환합니다.\n",
        "    ``오늘은    날씨가   좋다.`` -> ``오늘은 날씨가 좋다.``\n",
        "    \"\"\"\n",
        "    preprocessed_text = []\n",
        "    for text in texts:\n",
        "        text = re.sub(r\"\\s+\", \" \", text).strip()\n",
        "        if text:\n",
        "            preprocessed_text.append(text)\n",
        "    return preprocessed_text"
      ],
      "execution_count": null,
      "outputs": []
    },
    {
      "cell_type": "code",
      "metadata": {
        "colab": {
          "base_uri": "https://localhost:8080/"
        },
        "id": "Y8Wcg2gxHrey",
        "outputId": "72dfb1ab-640d-4585-a533-0f754137c73f"
      },
      "source": [
        "sents = remove_repeated_spacing(sents)\n",
        "for i, sent in enumerate(sents):\n",
        "    print(i, sent)"
      ],
      "execution_count": null,
      "outputs": [
        {
          "output_type": "stream",
          "text": [
            "0 이하 뉴스1&인공지능 알파고(AlphaGo)를 상대로 첫 승리를 거둔 이세돌 9단\n",
            "1 이하 뉴스1 인공지능 알파고(AlphaGo)를 상대로 첫 승리를 거둔 이세돌 9단의 사진이 화제다.\n",
            "2 13일 서울 광화문 포시즌스 호텔에서 열린 '구글 딥마인드 챌린지 매치'에서 이세돌 9단은 알파고와의 제4국에서 승리했다.\n",
            "3 이날 대국장을 빠져나가는 이세돌 9단의 모습이 사진에 포착됐다.\n",
            "4 이세돌 9단은 상의 주머니에 양손을 넣고 옅은 미소를 지었다.\n",
            "5 이 사진은 SNS에서 화제를 모았다.\n",
            "6 오늘 알파고에게 승리하고 대국장 빠져나가는 이세돌이라는데ㅋㅋ 포토제닉ㅋㅋ 이대로 헐리웃 영화 만들어지고 포스터 소취요 조드윅 앓는 서린 2016년 3월 13일대국을 마친 뒤, 이세돌 9단은 \"한판 이겼는데 이렇게까지 축하를 받아보는 것은 처음\"이라고 말했다.\n",
            "7 이세돌 9단은 기자회견장에도 함박 웃음을 감추지 못했다.\n",
            "8 function changeImgError(e, path){ if(e.src.search('webp')('webp')>0){ e.src = path } else { e.src = '' } }\n",
            "9 '이 줄은 실제 뉴스(news)에 포함되지 않은 임시 데이터임을 알립니다 ... '\n",
            "10 '이 줄은 실제 뉴스(news)에 포함되지 않은 임시 데이터임을 알립니다 ... '\n"
          ],
          "name": "stdout"
        }
      ]
    },
    {
      "cell_type": "code",
      "metadata": {
        "id": "I6NcmB7fHtYR"
      },
      "source": [
        "from collections import OrderedDict\n",
        "def remove_dup_sent(texts):\n",
        "    \"\"\"\n",
        "    중복된 문장을 제거합니다.\n",
        "    \"\"\"\n",
        "    texts = list(OrderedDict.fromkeys(texts))\n",
        "    return texts"
      ],
      "execution_count": null,
      "outputs": []
    },
    {
      "cell_type": "code",
      "metadata": {
        "colab": {
          "base_uri": "https://localhost:8080/"
        },
        "id": "Czgj7ockIWc7",
        "outputId": "9983e6dc-e139-458b-fed0-861bfa70130b"
      },
      "source": [
        "sents = remove_dup_sent(sents)\n",
        "for i, sent in enumerate(sents):\n",
        "    print(i, sent)"
      ],
      "execution_count": null,
      "outputs": [
        {
          "output_type": "stream",
          "text": [
            "0 이하 뉴스1&인공지능 알파고(AlphaGo)를 상대로 첫 승리를 거둔 이세돌 9단\n",
            "1 이하 뉴스1 인공지능 알파고(AlphaGo)를 상대로 첫 승리를 거둔 이세돌 9단의 사진이 화제다.\n",
            "2 13일 서울 광화문 포시즌스 호텔에서 열린 '구글 딥마인드 챌린지 매치'에서 이세돌 9단은 알파고와의 제4국에서 승리했다.\n",
            "3 이날 대국장을 빠져나가는 이세돌 9단의 모습이 사진에 포착됐다.\n",
            "4 이세돌 9단은 상의 주머니에 양손을 넣고 옅은 미소를 지었다.\n",
            "5 이 사진은 SNS에서 화제를 모았다.\n",
            "6 오늘 알파고에게 승리하고 대국장 빠져나가는 이세돌이라는데ㅋㅋ 포토제닉ㅋㅋ 이대로 헐리웃 영화 만들어지고 포스터 소취요 조드윅 앓는 서린 2016년 3월 13일대국을 마친 뒤, 이세돌 9단은 \"한판 이겼는데 이렇게까지 축하를 받아보는 것은 처음\"이라고 말했다.\n",
            "7 이세돌 9단은 기자회견장에도 함박 웃음을 감추지 못했다.\n",
            "8 function changeImgError(e, path){ if(e.src.search('webp')('webp')>0){ e.src = path } else { e.src = '' } }\n",
            "9 '이 줄은 실제 뉴스(news)에 포함되지 않은 임시 데이터임을 알립니다 ... '\n"
          ],
          "name": "stdout"
        }
      ]
    },
    {
      "cell_type": "code",
      "metadata": {
        "colab": {
          "base_uri": "https://localhost:8080/",
          "height": 1000
        },
        "id": "4pWdU3WpIYtZ",
        "outputId": "4b2a1dd6-1938-489b-f8b1-4756fa9bbd47"
      },
      "source": [
        "!pip install git+https://github.com/haven-jeon/PyKoSpacing.git"
      ],
      "execution_count": null,
      "outputs": [
        {
          "output_type": "stream",
          "text": [
            "Collecting git+https://github.com/haven-jeon/PyKoSpacing.git\n",
            "  Cloning https://github.com/haven-jeon/PyKoSpacing.git to /tmp/pip-req-build-clrned_c\n",
            "  Running command git clone -q https://github.com/haven-jeon/PyKoSpacing.git /tmp/pip-req-build-clrned_c\n",
            "Collecting tensorflow==2.4.0\n",
            "\u001b[?25l  Downloading https://files.pythonhosted.org/packages/94/0a/012cc33c643d844433d13001dd1db179e7020b05ddbbd0a9dc86c38a8efa/tensorflow-2.4.0-cp37-cp37m-manylinux2010_x86_64.whl (394.7MB)\n",
            "\u001b[K     |████████████████████████████████| 394.7MB 38kB/s \n",
            "\u001b[?25hRequirement already satisfied: keras>=2.4.3 in /usr/local/lib/python3.7/dist-packages (from pykospacing==0.4) (2.4.3)\n",
            "Requirement already satisfied: h5py==2.10.0 in /usr/local/lib/python3.7/dist-packages (from pykospacing==0.4) (2.10.0)\n",
            "Collecting argparse>=1.4.0\n",
            "  Downloading https://files.pythonhosted.org/packages/f2/94/3af39d34be01a24a6e65433d19e107099374224905f1e0cc6bbe1fd22a2f/argparse-1.4.0-py2.py3-none-any.whl\n",
            "Requirement already satisfied: absl-py~=0.10 in /usr/local/lib/python3.7/dist-packages (from tensorflow==2.4.0->pykospacing==0.4) (0.10.0)\n",
            "Requirement already satisfied: tensorflow-estimator<2.5.0,>=2.4.0rc0 in /usr/local/lib/python3.7/dist-packages (from tensorflow==2.4.0->pykospacing==0.4) (2.4.0)\n",
            "Requirement already satisfied: gast==0.3.3 in /usr/local/lib/python3.7/dist-packages (from tensorflow==2.4.0->pykospacing==0.4) (0.3.3)\n",
            "Requirement already satisfied: protobuf>=3.9.2 in /usr/local/lib/python3.7/dist-packages (from tensorflow==2.4.0->pykospacing==0.4) (3.12.4)\n",
            "Requirement already satisfied: typing-extensions~=3.7.4 in /usr/local/lib/python3.7/dist-packages (from tensorflow==2.4.0->pykospacing==0.4) (3.7.4.3)\n",
            "Requirement already satisfied: wrapt~=1.12.1 in /usr/local/lib/python3.7/dist-packages (from tensorflow==2.4.0->pykospacing==0.4) (1.12.1)\n",
            "Requirement already satisfied: grpcio~=1.32.0 in /usr/local/lib/python3.7/dist-packages (from tensorflow==2.4.0->pykospacing==0.4) (1.32.0)\n",
            "Requirement already satisfied: keras-preprocessing~=1.1.2 in /usr/local/lib/python3.7/dist-packages (from tensorflow==2.4.0->pykospacing==0.4) (1.1.2)\n",
            "Requirement already satisfied: opt-einsum~=3.3.0 in /usr/local/lib/python3.7/dist-packages (from tensorflow==2.4.0->pykospacing==0.4) (3.3.0)\n",
            "Requirement already satisfied: numpy~=1.19.2 in /usr/local/lib/python3.7/dist-packages (from tensorflow==2.4.0->pykospacing==0.4) (1.19.5)\n",
            "Requirement already satisfied: astunparse~=1.6.3 in /usr/local/lib/python3.7/dist-packages (from tensorflow==2.4.0->pykospacing==0.4) (1.6.3)\n",
            "Requirement already satisfied: termcolor~=1.1.0 in /usr/local/lib/python3.7/dist-packages (from tensorflow==2.4.0->pykospacing==0.4) (1.1.0)\n",
            "Requirement already satisfied: google-pasta~=0.2 in /usr/local/lib/python3.7/dist-packages (from tensorflow==2.4.0->pykospacing==0.4) (0.2.0)\n",
            "Requirement already satisfied: flatbuffers~=1.12.0 in /usr/local/lib/python3.7/dist-packages (from tensorflow==2.4.0->pykospacing==0.4) (1.12)\n",
            "Requirement already satisfied: wheel~=0.35 in /usr/local/lib/python3.7/dist-packages (from tensorflow==2.4.0->pykospacing==0.4) (0.36.2)\n",
            "Requirement already satisfied: six~=1.15.0 in /usr/local/lib/python3.7/dist-packages (from tensorflow==2.4.0->pykospacing==0.4) (1.15.0)\n",
            "Requirement already satisfied: tensorboard~=2.4 in /usr/local/lib/python3.7/dist-packages (from tensorflow==2.4.0->pykospacing==0.4) (2.4.1)\n",
            "Requirement already satisfied: scipy>=0.14 in /usr/local/lib/python3.7/dist-packages (from keras>=2.4.3->pykospacing==0.4) (1.4.1)\n",
            "Requirement already satisfied: pyyaml in /usr/local/lib/python3.7/dist-packages (from keras>=2.4.3->pykospacing==0.4) (3.13)\n",
            "Requirement already satisfied: setuptools in /usr/local/lib/python3.7/dist-packages (from protobuf>=3.9.2->tensorflow==2.4.0->pykospacing==0.4) (54.0.0)\n",
            "Requirement already satisfied: google-auth-oauthlib<0.5,>=0.4.1 in /usr/local/lib/python3.7/dist-packages (from tensorboard~=2.4->tensorflow==2.4.0->pykospacing==0.4) (0.4.3)\n",
            "Requirement already satisfied: tensorboard-plugin-wit>=1.6.0 in /usr/local/lib/python3.7/dist-packages (from tensorboard~=2.4->tensorflow==2.4.0->pykospacing==0.4) (1.8.0)\n",
            "Requirement already satisfied: google-auth<2,>=1.6.3 in /usr/local/lib/python3.7/dist-packages (from tensorboard~=2.4->tensorflow==2.4.0->pykospacing==0.4) (1.27.1)\n",
            "Requirement already satisfied: requests<3,>=2.21.0 in /usr/local/lib/python3.7/dist-packages (from tensorboard~=2.4->tensorflow==2.4.0->pykospacing==0.4) (2.23.0)\n",
            "Requirement already satisfied: markdown>=2.6.8 in /usr/local/lib/python3.7/dist-packages (from tensorboard~=2.4->tensorflow==2.4.0->pykospacing==0.4) (3.3.4)\n",
            "Requirement already satisfied: werkzeug>=0.11.15 in /usr/local/lib/python3.7/dist-packages (from tensorboard~=2.4->tensorflow==2.4.0->pykospacing==0.4) (1.0.1)\n",
            "Requirement already satisfied: requests-oauthlib>=0.7.0 in /usr/local/lib/python3.7/dist-packages (from google-auth-oauthlib<0.5,>=0.4.1->tensorboard~=2.4->tensorflow==2.4.0->pykospacing==0.4) (1.3.0)\n",
            "Requirement already satisfied: cachetools<5.0,>=2.0.0 in /usr/local/lib/python3.7/dist-packages (from google-auth<2,>=1.6.3->tensorboard~=2.4->tensorflow==2.4.0->pykospacing==0.4) (4.2.1)\n",
            "Requirement already satisfied: rsa<5,>=3.1.4; python_version >= \"3.6\" in /usr/local/lib/python3.7/dist-packages (from google-auth<2,>=1.6.3->tensorboard~=2.4->tensorflow==2.4.0->pykospacing==0.4) (4.7.2)\n",
            "Requirement already satisfied: pyasn1-modules>=0.2.1 in /usr/local/lib/python3.7/dist-packages (from google-auth<2,>=1.6.3->tensorboard~=2.4->tensorflow==2.4.0->pykospacing==0.4) (0.2.8)\n",
            "Requirement already satisfied: chardet<4,>=3.0.2 in /usr/local/lib/python3.7/dist-packages (from requests<3,>=2.21.0->tensorboard~=2.4->tensorflow==2.4.0->pykospacing==0.4) (3.0.4)\n",
            "Requirement already satisfied: idna<3,>=2.5 in /usr/local/lib/python3.7/dist-packages (from requests<3,>=2.21.0->tensorboard~=2.4->tensorflow==2.4.0->pykospacing==0.4) (2.10)\n",
            "Requirement already satisfied: urllib3!=1.25.0,!=1.25.1,<1.26,>=1.21.1 in /usr/local/lib/python3.7/dist-packages (from requests<3,>=2.21.0->tensorboard~=2.4->tensorflow==2.4.0->pykospacing==0.4) (1.24.3)\n",
            "Requirement already satisfied: certifi>=2017.4.17 in /usr/local/lib/python3.7/dist-packages (from requests<3,>=2.21.0->tensorboard~=2.4->tensorflow==2.4.0->pykospacing==0.4) (2020.12.5)\n",
            "Requirement already satisfied: importlib-metadata; python_version < \"3.8\" in /usr/local/lib/python3.7/dist-packages (from markdown>=2.6.8->tensorboard~=2.4->tensorflow==2.4.0->pykospacing==0.4) (3.7.2)\n",
            "Requirement already satisfied: oauthlib>=3.0.0 in /usr/local/lib/python3.7/dist-packages (from requests-oauthlib>=0.7.0->google-auth-oauthlib<0.5,>=0.4.1->tensorboard~=2.4->tensorflow==2.4.0->pykospacing==0.4) (3.1.0)\n",
            "Requirement already satisfied: pyasn1>=0.1.3 in /usr/local/lib/python3.7/dist-packages (from rsa<5,>=3.1.4; python_version >= \"3.6\"->google-auth<2,>=1.6.3->tensorboard~=2.4->tensorflow==2.4.0->pykospacing==0.4) (0.4.8)\n",
            "Requirement already satisfied: zipp>=0.5 in /usr/local/lib/python3.7/dist-packages (from importlib-metadata; python_version < \"3.8\"->markdown>=2.6.8->tensorboard~=2.4->tensorflow==2.4.0->pykospacing==0.4) (3.4.1)\n",
            "Building wheels for collected packages: pykospacing\n",
            "  Building wheel for pykospacing (setup.py) ... \u001b[?25l\u001b[?25hdone\n",
            "  Created wheel for pykospacing: filename=pykospacing-0.4-cp37-none-any.whl size=2255638 sha256=8c335e58755feb2dc53e50cf054482e55ccb1871b8bfc2e0a77c22da5cc015bb\n",
            "  Stored in directory: /tmp/pip-ephem-wheel-cache-xfc2m_pk/wheels/4d/45/58/e26cb2b7f6a063d234158c6fd1e5700f6e15b99d67154340ba\n",
            "Successfully built pykospacing\n",
            "Installing collected packages: tensorflow, argparse, pykospacing\n",
            "  Found existing installation: tensorflow 2.4.1\n",
            "    Uninstalling tensorflow-2.4.1:\n",
            "      Successfully uninstalled tensorflow-2.4.1\n",
            "Successfully installed argparse-1.4.0 pykospacing-0.4 tensorflow-2.4.0\n"
          ],
          "name": "stdout"
        },
        {
          "output_type": "display_data",
          "data": {
            "application/vnd.colab-display-data+json": {
              "pip_warning": {
                "packages": [
                  "argparse"
                ]
              }
            }
          },
          "metadata": {
            "tags": []
          }
        }
      ]
    },
    {
      "cell_type": "code",
      "metadata": {
        "colab": {
          "base_uri": "https://localhost:8080/",
          "height": 58
        },
        "id": "bYdRHKipI7yq",
        "outputId": "3881348a-3413-4744-a407-c030a2ca19e0"
      },
      "source": [
        "from pykospacing import spacing\n",
        "spacing(\"김형호영화시장분석가는'1987'의네이버영화정보네티즌10점평에서언급된단어들을지난해12월27일부터올해1월10일까지통계프로그램R과KoNLP패키지로텍스트마이닝하여분석했다.\")"
      ],
      "execution_count": null,
      "outputs": [
        {
          "output_type": "execute_result",
          "data": {
            "application/vnd.google.colaboratory.intrinsic+json": {
              "type": "string"
            },
            "text/plain": [
              "\"김형호 영화시장 분석가는 '1987'의 네이버 영화 정보 네티즌 10점 평에서 언급된 단어들을 지난해 12월 27일부터 올해 1월 10일까지 통계 프로그램 R과 KoNLP 패키지로 텍스트마이닝하여 분석했다.\""
            ]
          },
          "metadata": {
            "tags": []
          },
          "execution_count": 121
        }
      ]
    },
    {
      "cell_type": "code",
      "metadata": {
        "id": "MuBb9G1_J8yU"
      },
      "source": [
        "def spacing_sent(texts):\n",
        "    \"\"\"\n",
        "    띄어쓰기를 보정합니다.\n",
        "    \"\"\"\n",
        "    preprocessed_text = []\n",
        "    for text in texts:\n",
        "        text = spacing(text)\n",
        "        if text:\n",
        "            preprocessed_text.append(text)\n",
        "    return preprocessed_text"
      ],
      "execution_count": null,
      "outputs": []
    },
    {
      "cell_type": "code",
      "metadata": {
        "colab": {
          "base_uri": "https://localhost:8080/"
        },
        "id": "PzLY7z0MKMj_",
        "outputId": "8661a303-d949-4f3b-c0ba-1bb70f46d27c"
      },
      "source": [
        "sents_ = spacing_sent(sents)\n",
        "for i, sent in enumerate(sents_):\n",
        "    print(i, sent)"
      ],
      "execution_count": null,
      "outputs": [
        {
          "output_type": "stream",
          "text": [
            "0 이하 뉴스1&인공지능 알파고(AlphaGo)를 상대로 첫 승리를 거둔 이 세돌 9단\n",
            "1 이하 뉴스1 인공지능 알파고(AlphaGo)를 상대로 첫 승리를 거둔 이 세돌 9단의 사진이 화제다.\n",
            "2 13일 서울 광화문 포시즌스 호텔에서 열린 '구글 딥마인드 챌린지 매치'에서 이세돌 9단은 알파고와의 제 4국에서 승리했다.\n",
            "3 이날 대 국장을 빠져나가는 이세돌 9단의 모습이 사진에 포착됐다.\n",
            "4 이세돌 9단은 상의 주머니에 양손을 넣고 옅은 미소를 지었다.\n",
            "5 이 사진은 SNS에서 화제를 모았다.\n",
            "6 오늘 알파고에게 승리하고 대국장 빠져나가는 이세돌이라는 데 ㅋㅋ 포토제닉 ㅋㅋ 이대로 헐리웃 영화 만들어지고 포스터 소취요 조드윅 앓는 서린 2016년 3월 13일 대국을 마친 뒤, 이세돌 9단은 \"한 판 이겼는데 이렇게까지 축하를 받아 보는 것은 처음\"이라고 말했다.\n",
            "7 이세돌 9단은 기 자회견장에도 함박 웃음을 감추지 못했다.\n",
            "8 function changeIm gError(e, path) { if(e.s rc.search('webp')('webp')> 0) { e.s rc = path } else { e.src = '' } }\n",
            "9 '이 줄은 실제 뉴스(news)에 포함되지 않은 임시 데이터임을 알립니 다 ... '\n"
          ],
          "name": "stdout"
        }
      ]
    },
    {
      "cell_type": "markdown",
      "metadata": {
        "id": "crNWI0kG7vhe"
      },
      "source": [
        "마춤뻡 검사기도 테스트를 해보겠습니다."
      ]
    },
    {
      "cell_type": "code",
      "metadata": {
        "colab": {
          "base_uri": "https://localhost:8080/"
        },
        "id": "0hsr5A5gKPWb",
        "outputId": "6f2cc193-7de3-4f01-df52-e528824889f0"
      },
      "source": [
        "!pip install git+https://github.com/ssut/py-hanspell.git"
      ],
      "execution_count": null,
      "outputs": [
        {
          "output_type": "stream",
          "text": [
            "Collecting git+https://github.com/ssut/py-hanspell.git\n",
            "  Cloning https://github.com/ssut/py-hanspell.git to /tmp/pip-req-build-y05eg5zp\n",
            "  Running command git clone -q https://github.com/ssut/py-hanspell.git /tmp/pip-req-build-y05eg5zp\n",
            "Requirement already satisfied: requests in /usr/local/lib/python3.7/dist-packages (from py-hanspell==1.1) (2.23.0)\n",
            "Requirement already satisfied: urllib3!=1.25.0,!=1.25.1,<1.26,>=1.21.1 in /usr/local/lib/python3.7/dist-packages (from requests->py-hanspell==1.1) (1.24.3)\n",
            "Requirement already satisfied: certifi>=2017.4.17 in /usr/local/lib/python3.7/dist-packages (from requests->py-hanspell==1.1) (2020.12.5)\n",
            "Requirement already satisfied: idna<3,>=2.5 in /usr/local/lib/python3.7/dist-packages (from requests->py-hanspell==1.1) (2.10)\n",
            "Requirement already satisfied: chardet<4,>=3.0.2 in /usr/local/lib/python3.7/dist-packages (from requests->py-hanspell==1.1) (3.0.4)\n",
            "Building wheels for collected packages: py-hanspell\n",
            "  Building wheel for py-hanspell (setup.py) ... \u001b[?25l\u001b[?25hdone\n",
            "  Created wheel for py-hanspell: filename=py_hanspell-1.1-cp37-none-any.whl size=4854 sha256=fbe40587cfd777a1843ae4f719746dfe0aed3ef43a47c5e6bf3750186839e061\n",
            "  Stored in directory: /tmp/pip-ephem-wheel-cache-gosnl6zw/wheels/0a/25/d1/e5e96476dbb1c318cc26c992dd493394fe42b0c204b3e65588\n",
            "Successfully built py-hanspell\n",
            "Installing collected packages: py-hanspell\n",
            "Successfully installed py-hanspell-1.1\n"
          ],
          "name": "stdout"
        }
      ]
    },
    {
      "cell_type": "code",
      "metadata": {
        "colab": {
          "base_uri": "https://localhost:8080/"
        },
        "id": "DypeMRxAK189",
        "outputId": "d956a767-88ee-4fdb-9ae4-de04dbb23c46"
      },
      "source": [
        "from hanspell import spell_checker\n",
        " \n",
        "sent = \"대체 왜 않돼는지 설명을 해바\"\n",
        "spelled_sent = spell_checker.check(sent)\n",
        "print(spelled_sent)\n",
        "checked_sent = spelled_sent.checked \n",
        "print(checked_sent)"
      ],
      "execution_count": null,
      "outputs": [
        {
          "output_type": "stream",
          "text": [
            "Checked(result=True, original='대체 왜 않돼는지 설명을 해바', checked='대체 왜 안되는지 설명을 해봐', errors=2, words=OrderedDict([('대체', 0), ('왜', 0), ('안되는지', 1), ('설명을', 0), ('해봐', 1)]), time=0.5092291831970215)\n",
            "대체 왜 안되는지 설명을 해봐\n"
          ],
          "name": "stdout"
        }
      ]
    },
    {
      "cell_type": "code",
      "metadata": {
        "id": "iset-o6uK9a7"
      },
      "source": [
        "def spell_check_sent(texts):\n",
        "    \"\"\"\n",
        "    맞춤법을 보정합니다.\n",
        "    \"\"\"\n",
        "    preprocessed_text = []\n",
        "    for text in texts:\n",
        "        try:\n",
        "            spelled_sent = spell_checker.check(text)\n",
        "            checked_sent = spelled_sent.checked \n",
        "            if checked_sent:\n",
        "                preprocessed_text.append(checked_sent)\n",
        "        except:\n",
        "            preprocessed_text.append(text)\n",
        "    return preprocessed_text"
      ],
      "execution_count": null,
      "outputs": []
    },
    {
      "cell_type": "code",
      "metadata": {
        "colab": {
          "base_uri": "https://localhost:8080/"
        },
        "id": "YF2XcJ1xLOoW",
        "outputId": "9af7752c-b9e1-4a4f-cb38-d064763a934f"
      },
      "source": [
        "sents_ = spell_check_sent(sents)\n",
        "for i, sent in enumerate(sents_):\n",
        "    print(i, sent)"
      ],
      "execution_count": null,
      "outputs": [
        {
          "output_type": "stream",
          "text": [
            "0 이하 뉴스1&인공지능 알파고(AlphaGo)를 상대로 첫 승리를 거둔 이세돌 9단\n",
            "1 이하 뉴스 1 인공지능 알파고(AlphaGo)를 상대로 첫 승리를 거둔 이세돌 9단의 사진이 화제다.\n",
            "2 13일 서울 광화문 포 시즌스 호텔에서 열린 '구글 딥마인드 챌린지 매치'에서 이세돌 9단은 알파고와의 제4국에서 승리했다.\n",
            "3 이날 대국장을 빠져나가는 이세돌 9단의 모습이 사진에 포착됐다.\n",
            "4 이세돌 9단은 상의 주머니에 양손을 넣고 옅은 미소를 지었다.\n",
            "5 이 사진은 SNS에서 화제를 모았다.\n",
            "6 오늘 알파고에게 승리하고 대국장 빠져나가는 이세돌이라는데ㅋㅋ 포토제닉ㅋㅋ 이대로 할리우드 영화 만들어지고 포스터 소치요 조드윅 앓는 서린 2016년 3월 13일 대국을 마친 뒤, 이세돌 9단은 \"한 판 이겼는데 이렇게까지 축하를 받아보는 것은 처음\"이라고 말했다.\n",
            "7 이세돌 9단은 기자회견장에도 함박웃음을 감추지 못했다.\n",
            "8 function changeImgError(e, path){ if(e.src.search('webp')('webp')>0){ e.src = path } else { e.src = '' } }\n",
            "9 '이 줄은 실제 뉴스(news)에 포함되지 않은 임시 데이터임을 알립니다 ... '\n"
          ],
          "name": "stdout"
        }
      ]
    },
    {
      "cell_type": "markdown",
      "metadata": {
        "id": "J5PE6uh68DO3"
      },
      "source": [
        "필터링의 끝판왕!   \n",
        "형태소 분석 기반 필터링을 테스트하기 위해 한국어 형태소 분석기를 설치합니다.   "
      ]
    },
    {
      "cell_type": "code",
      "metadata": {
        "colab": {
          "base_uri": "https://localhost:8080/",
          "height": 601
        },
        "id": "ag_7MU3qL32H",
        "outputId": "9688267c-3461-47d9-e37d-a074b85336e2"
      },
      "source": [
        "!pip install konlpy"
      ],
      "execution_count": null,
      "outputs": [
        {
          "output_type": "stream",
          "text": [
            "Collecting konlpy\n",
            "\u001b[?25l  Downloading https://files.pythonhosted.org/packages/85/0e/f385566fec837c0b83f216b2da65db9997b35dd675e107752005b7d392b1/konlpy-0.5.2-py2.py3-none-any.whl (19.4MB)\n",
            "\u001b[K     |████████████████████████████████| 19.4MB 1.2MB/s \n",
            "\u001b[?25hRequirement already satisfied: tweepy>=3.7.0 in /usr/local/lib/python3.7/dist-packages (from konlpy) (3.10.0)\n",
            "Collecting colorama\n",
            "  Downloading https://files.pythonhosted.org/packages/44/98/5b86278fbbf250d239ae0ecb724f8572af1c91f4a11edf4d36a206189440/colorama-0.4.4-py2.py3-none-any.whl\n",
            "Requirement already satisfied: lxml>=4.1.0 in /usr/local/lib/python3.7/dist-packages (from konlpy) (4.2.6)\n",
            "Collecting JPype1>=0.7.0\n",
            "\u001b[?25l  Downloading https://files.pythonhosted.org/packages/cd/a5/9781e2ef4ca92d09912c4794642c1653aea7607f473e156cf4d423a881a1/JPype1-1.2.1-cp37-cp37m-manylinux2010_x86_64.whl (457kB)\n",
            "\u001b[K     |████████████████████████████████| 460kB 32.7MB/s \n",
            "\u001b[?25hRequirement already satisfied: numpy>=1.6 in /usr/local/lib/python3.7/dist-packages (from konlpy) (1.19.5)\n",
            "Collecting beautifulsoup4==4.6.0\n",
            "\u001b[?25l  Downloading https://files.pythonhosted.org/packages/9e/d4/10f46e5cfac773e22707237bfcd51bbffeaf0a576b0a847ec7ab15bd7ace/beautifulsoup4-4.6.0-py3-none-any.whl (86kB)\n",
            "\u001b[K     |████████████████████████████████| 92kB 8.6MB/s \n",
            "\u001b[?25hRequirement already satisfied: requests[socks]>=2.11.1 in /usr/local/lib/python3.7/dist-packages (from tweepy>=3.7.0->konlpy) (2.23.0)\n",
            "Requirement already satisfied: six>=1.10.0 in /usr/local/lib/python3.7/dist-packages (from tweepy>=3.7.0->konlpy) (1.15.0)\n",
            "Requirement already satisfied: requests-oauthlib>=0.7.0 in /usr/local/lib/python3.7/dist-packages (from tweepy>=3.7.0->konlpy) (1.3.0)\n",
            "Requirement already satisfied: typing-extensions; python_version < \"3.8\" in /usr/local/lib/python3.7/dist-packages (from JPype1>=0.7.0->konlpy) (3.7.4.3)\n",
            "Requirement already satisfied: urllib3!=1.25.0,!=1.25.1,<1.26,>=1.21.1 in /usr/local/lib/python3.7/dist-packages (from requests[socks]>=2.11.1->tweepy>=3.7.0->konlpy) (1.24.3)\n",
            "Requirement already satisfied: certifi>=2017.4.17 in /usr/local/lib/python3.7/dist-packages (from requests[socks]>=2.11.1->tweepy>=3.7.0->konlpy) (2020.12.5)\n",
            "Requirement already satisfied: chardet<4,>=3.0.2 in /usr/local/lib/python3.7/dist-packages (from requests[socks]>=2.11.1->tweepy>=3.7.0->konlpy) (3.0.4)\n",
            "Requirement already satisfied: idna<3,>=2.5 in /usr/local/lib/python3.7/dist-packages (from requests[socks]>=2.11.1->tweepy>=3.7.0->konlpy) (2.10)\n",
            "Requirement already satisfied: PySocks!=1.5.7,>=1.5.6; extra == \"socks\" in /usr/local/lib/python3.7/dist-packages (from requests[socks]>=2.11.1->tweepy>=3.7.0->konlpy) (1.7.1)\n",
            "Requirement already satisfied: oauthlib>=3.0.0 in /usr/local/lib/python3.7/dist-packages (from requests-oauthlib>=0.7.0->tweepy>=3.7.0->konlpy) (3.1.0)\n",
            "Installing collected packages: colorama, JPype1, beautifulsoup4, konlpy\n",
            "  Found existing installation: beautifulsoup4 4.6.3\n",
            "    Uninstalling beautifulsoup4-4.6.3:\n",
            "      Successfully uninstalled beautifulsoup4-4.6.3\n",
            "Successfully installed JPype1-1.2.1 beautifulsoup4-4.6.0 colorama-0.4.4 konlpy-0.5.2\n"
          ],
          "name": "stdout"
        },
        {
          "output_type": "display_data",
          "data": {
            "application/vnd.colab-display-data+json": {
              "pip_warning": {
                "packages": [
                  "bs4"
                ]
              }
            }
          },
          "metadata": {
            "tags": []
          }
        }
      ]
    },
    {
      "cell_type": "code",
      "metadata": {
        "colab": {
          "base_uri": "https://localhost:8080/"
        },
        "id": "Fnzxr9NqMfes",
        "outputId": "142d4843-be0a-4a45-f9b7-58242be8011c"
      },
      "source": [
        "!bash <(curl -s https://raw.githubusercontent.com/konlpy/konlpy/master/scripts/mecab.sh)"
      ],
      "execution_count": null,
      "outputs": [
        {
          "output_type": "stream",
          "text": [
            "Installing automake (A dependency for mecab-ko)\n",
            "Ign:1 https://developer.download.nvidia.com/compute/cuda/repos/ubuntu1804/x86_64  InRelease\n",
            "Ign:2 https://developer.download.nvidia.com/compute/machine-learning/repos/ubuntu1804/x86_64  InRelease\n",
            "Get:3 http://security.ubuntu.com/ubuntu bionic-security InRelease [88.7 kB]\n",
            "Get:4 https://developer.download.nvidia.com/compute/cuda/repos/ubuntu1804/x86_64  Release [697 B]\n",
            "Hit:5 https://developer.download.nvidia.com/compute/machine-learning/repos/ubuntu1804/x86_64  Release\n",
            "Get:6 https://developer.download.nvidia.com/compute/cuda/repos/ubuntu1804/x86_64  Release.gpg [836 B]\n",
            "Get:7 http://ppa.launchpad.net/c2d4u.team/c2d4u4.0+/ubuntu bionic InRelease [15.9 kB]\n",
            "Hit:9 http://archive.ubuntu.com/ubuntu bionic InRelease\n",
            "Ign:10 https://developer.download.nvidia.com/compute/cuda/repos/ubuntu1804/x86_64  Packages\n",
            "Get:10 https://developer.download.nvidia.com/compute/cuda/repos/ubuntu1804/x86_64  Packages [603 kB]\n",
            "Get:11 http://archive.ubuntu.com/ubuntu bionic-updates InRelease [88.7 kB]\n",
            "Get:12 http://security.ubuntu.com/ubuntu bionic-security/universe amd64 Packages [1,398 kB]\n",
            "Get:13 https://cloud.r-project.org/bin/linux/ubuntu bionic-cran40/ InRelease [3,626 B]\n",
            "Hit:14 http://ppa.launchpad.net/cran/libgit2/ubuntu bionic InRelease\n",
            "Get:15 http://security.ubuntu.com/ubuntu bionic-security/restricted amd64 Packages [333 kB]\n",
            "Get:16 http://security.ubuntu.com/ubuntu bionic-security/main amd64 Packages [1,995 kB]\n",
            "Hit:17 http://ppa.launchpad.net/deadsnakes/ppa/ubuntu bionic InRelease\n",
            "Get:18 http://archive.ubuntu.com/ubuntu bionic-backports InRelease [74.6 kB]\n",
            "Get:19 https://cloud.r-project.org/bin/linux/ubuntu bionic-cran40/ Packages [49.4 kB]\n",
            "Hit:20 http://ppa.launchpad.net/graphics-drivers/ppa/ubuntu bionic InRelease\n",
            "Get:21 http://archive.ubuntu.com/ubuntu bionic-updates/restricted amd64 Packages [363 kB]\n",
            "Get:22 http://ppa.launchpad.net/c2d4u.team/c2d4u4.0+/ubuntu bionic/main Sources [1,746 kB]\n",
            "Get:23 http://archive.ubuntu.com/ubuntu bionic-updates/main amd64 Packages [2,425 kB]\n",
            "Get:24 http://archive.ubuntu.com/ubuntu bionic-updates/universe amd64 Packages [2,165 kB]\n",
            "Get:25 http://ppa.launchpad.net/c2d4u.team/c2d4u4.0+/ubuntu bionic/main amd64 Packages [894 kB]\n",
            "Fetched 12.2 MB in 4s (3,351 kB/s)\n",
            "Reading package lists... Done\n",
            "Reading package lists... Done\n",
            "Building dependency tree       \n",
            "Reading state information... Done\n",
            "The following additional packages will be installed:\n",
            "  autoconf autotools-dev libsigsegv2 m4\n",
            "Suggested packages:\n",
            "  autoconf-archive gnu-standards autoconf-doc libtool gettext m4-doc\n",
            "The following NEW packages will be installed:\n",
            "  autoconf automake autotools-dev libsigsegv2 m4\n",
            "0 upgraded, 5 newly installed, 0 to remove and 55 not upgraded.\n",
            "Need to get 1,082 kB of archives.\n",
            "After this operation, 3,994 kB of additional disk space will be used.\n",
            "Get:1 http://archive.ubuntu.com/ubuntu bionic/main amd64 libsigsegv2 amd64 2.12-1 [14.7 kB]\n",
            "Get:2 http://archive.ubuntu.com/ubuntu bionic/main amd64 m4 amd64 1.4.18-1 [197 kB]\n",
            "Get:3 http://archive.ubuntu.com/ubuntu bionic/main amd64 autoconf all 2.69-11 [322 kB]\n",
            "Get:4 http://archive.ubuntu.com/ubuntu bionic/main amd64 autotools-dev all 20180224.1 [39.6 kB]\n",
            "Get:5 http://archive.ubuntu.com/ubuntu bionic/main amd64 automake all 1:1.15.1-3ubuntu2 [509 kB]\n",
            "Fetched 1,082 kB in 1s (727 kB/s)\n",
            "debconf: unable to initialize frontend: Dialog\n",
            "debconf: (No usable dialog-like program is installed, so the dialog based frontend cannot be used. at /usr/share/perl5/Debconf/FrontEnd/Dialog.pm line 76, <> line 5.)\n",
            "debconf: falling back to frontend: Readline\n",
            "debconf: unable to initialize frontend: Readline\n",
            "debconf: (This frontend requires a controlling tty.)\n",
            "debconf: falling back to frontend: Teletype\n",
            "dpkg-preconfigure: unable to re-open stdin: \n",
            "Selecting previously unselected package libsigsegv2:amd64.\n",
            "(Reading database ... 160975 files and directories currently installed.)\n",
            "Preparing to unpack .../libsigsegv2_2.12-1_amd64.deb ...\n",
            "Unpacking libsigsegv2:amd64 (2.12-1) ...\n",
            "Selecting previously unselected package m4.\n",
            "Preparing to unpack .../archives/m4_1.4.18-1_amd64.deb ...\n",
            "Unpacking m4 (1.4.18-1) ...\n",
            "Selecting previously unselected package autoconf.\n",
            "Preparing to unpack .../autoconf_2.69-11_all.deb ...\n",
            "Unpacking autoconf (2.69-11) ...\n",
            "Selecting previously unselected package autotools-dev.\n",
            "Preparing to unpack .../autotools-dev_20180224.1_all.deb ...\n",
            "Unpacking autotools-dev (20180224.1) ...\n",
            "Selecting previously unselected package automake.\n",
            "Preparing to unpack .../automake_1%3a1.15.1-3ubuntu2_all.deb ...\n",
            "Unpacking automake (1:1.15.1-3ubuntu2) ...\n",
            "Setting up libsigsegv2:amd64 (2.12-1) ...\n",
            "Setting up m4 (1.4.18-1) ...\n",
            "Setting up autotools-dev (20180224.1) ...\n",
            "Setting up autoconf (2.69-11) ...\n",
            "Setting up automake (1:1.15.1-3ubuntu2) ...\n",
            "update-alternatives: using /usr/bin/automake-1.15 to provide /usr/bin/automake (automake) in auto mode\n",
            "Processing triggers for libc-bin (2.27-3ubuntu1.2) ...\n",
            "/sbin/ldconfig.real: /usr/local/lib/python3.7/dist-packages/ideep4py/lib/libmkldnn.so.0 is not a symbolic link\n",
            "\n",
            "Processing triggers for man-db (2.8.3-2ubuntu0.1) ...\n",
            "Install mecab-ko-dic\n",
            "  % Total    % Received % Xferd  Average Speed   Time    Time     Time  Current\n",
            "                                 Dload  Upload   Total   Spent    Left  Speed\n",
            "  0     0    0     0    0     0      0      0 --:--:-- --:--:-- --:--:--     0\n",
            "100 1381k  100 1381k    0     0  1234k      0  0:00:01  0:00:01 --:--:-- 1234k\n",
            "mecab-0.996-ko-0.9.2/\n",
            "mecab-0.996-ko-0.9.2/example/\n",
            "mecab-0.996-ko-0.9.2/example/example.cpp\n",
            "mecab-0.996-ko-0.9.2/example/example_lattice.cpp\n",
            "mecab-0.996-ko-0.9.2/example/example_lattice.c\n",
            "mecab-0.996-ko-0.9.2/example/example.c\n",
            "mecab-0.996-ko-0.9.2/example/thread_test.cpp\n",
            "mecab-0.996-ko-0.9.2/mecab-config.in\n",
            "mecab-0.996-ko-0.9.2/man/\n",
            "mecab-0.996-ko-0.9.2/man/Makefile.am\n",
            "mecab-0.996-ko-0.9.2/man/mecab.1\n",
            "mecab-0.996-ko-0.9.2/man/Makefile.in\n",
            "mecab-0.996-ko-0.9.2/mecab.iss.in\n",
            "mecab-0.996-ko-0.9.2/config.guess\n",
            "mecab-0.996-ko-0.9.2/README\n",
            "mecab-0.996-ko-0.9.2/COPYING\n",
            "mecab-0.996-ko-0.9.2/CHANGES.md\n",
            "mecab-0.996-ko-0.9.2/README.md\n",
            "mecab-0.996-ko-0.9.2/INSTALL\n",
            "mecab-0.996-ko-0.9.2/config.sub\n",
            "mecab-0.996-ko-0.9.2/configure.in\n",
            "mecab-0.996-ko-0.9.2/swig/\n",
            "mecab-0.996-ko-0.9.2/swig/Makefile\n",
            "mecab-0.996-ko-0.9.2/swig/version.h.in\n",
            "mecab-0.996-ko-0.9.2/swig/version.h\n",
            "mecab-0.996-ko-0.9.2/swig/MeCab.i\n",
            "mecab-0.996-ko-0.9.2/aclocal.m4\n",
            "mecab-0.996-ko-0.9.2/LGPL\n",
            "mecab-0.996-ko-0.9.2/Makefile.am\n",
            "mecab-0.996-ko-0.9.2/configure\n",
            "mecab-0.996-ko-0.9.2/tests/\n",
            "mecab-0.996-ko-0.9.2/tests/autolink/\n",
            "mecab-0.996-ko-0.9.2/tests/autolink/unk.def\n",
            "mecab-0.996-ko-0.9.2/tests/autolink/dicrc\n",
            "mecab-0.996-ko-0.9.2/tests/autolink/dic.csv\n",
            "mecab-0.996-ko-0.9.2/tests/autolink/test\n",
            "mecab-0.996-ko-0.9.2/tests/autolink/char.def\n",
            "mecab-0.996-ko-0.9.2/tests/autolink/matrix.def\n",
            "mecab-0.996-ko-0.9.2/tests/autolink/test.gld\n",
            "mecab-0.996-ko-0.9.2/tests/t9/\n",
            "mecab-0.996-ko-0.9.2/tests/t9/unk.def\n",
            "mecab-0.996-ko-0.9.2/tests/t9/ipadic.pl\n",
            "mecab-0.996-ko-0.9.2/tests/t9/dicrc\n",
            "mecab-0.996-ko-0.9.2/tests/t9/dic.csv\n",
            "mecab-0.996-ko-0.9.2/tests/t9/test\n",
            "mecab-0.996-ko-0.9.2/tests/t9/char.def\n",
            "mecab-0.996-ko-0.9.2/tests/t9/matrix.def\n",
            "mecab-0.996-ko-0.9.2/tests/t9/mkdic.pl\n",
            "mecab-0.996-ko-0.9.2/tests/t9/test.gld\n",
            "mecab-0.996-ko-0.9.2/tests/cost-train/\n",
            "mecab-0.996-ko-0.9.2/tests/cost-train/ipa.train\n",
            "mecab-0.996-ko-0.9.2/tests/cost-train/ipa.test\n",
            "mecab-0.996-ko-0.9.2/tests/cost-train/seed/\n",
            "mecab-0.996-ko-0.9.2/tests/cost-train/seed/rewrite.def\n",
            "mecab-0.996-ko-0.9.2/tests/cost-train/seed/feature.def\n",
            "mecab-0.996-ko-0.9.2/tests/cost-train/seed/unk.def\n",
            "mecab-0.996-ko-0.9.2/tests/cost-train/seed/dicrc\n",
            "mecab-0.996-ko-0.9.2/tests/cost-train/seed/dic.csv\n",
            "mecab-0.996-ko-0.9.2/tests/cost-train/seed/char.def\n",
            "mecab-0.996-ko-0.9.2/tests/cost-train/seed/matrix.def\n",
            "mecab-0.996-ko-0.9.2/tests/run-eval.sh\n",
            "mecab-0.996-ko-0.9.2/tests/run-cost-train.sh\n",
            "mecab-0.996-ko-0.9.2/tests/Makefile.am\n",
            "mecab-0.996-ko-0.9.2/tests/katakana/\n",
            "mecab-0.996-ko-0.9.2/tests/katakana/unk.def\n",
            "mecab-0.996-ko-0.9.2/tests/katakana/dicrc\n",
            "mecab-0.996-ko-0.9.2/tests/katakana/dic.csv\n",
            "mecab-0.996-ko-0.9.2/tests/katakana/test\n",
            "mecab-0.996-ko-0.9.2/tests/katakana/char.def\n",
            "mecab-0.996-ko-0.9.2/tests/katakana/matrix.def\n",
            "mecab-0.996-ko-0.9.2/tests/katakana/test.gld\n",
            "mecab-0.996-ko-0.9.2/tests/eval/\n",
            "mecab-0.996-ko-0.9.2/tests/eval/answer\n",
            "mecab-0.996-ko-0.9.2/tests/eval/system\n",
            "mecab-0.996-ko-0.9.2/tests/eval/test.gld\n",
            "mecab-0.996-ko-0.9.2/tests/shiin/\n",
            "mecab-0.996-ko-0.9.2/tests/shiin/unk.def\n",
            "mecab-0.996-ko-0.9.2/tests/shiin/dicrc\n",
            "mecab-0.996-ko-0.9.2/tests/shiin/dic.csv\n",
            "mecab-0.996-ko-0.9.2/tests/shiin/test\n",
            "mecab-0.996-ko-0.9.2/tests/shiin/char.def\n",
            "mecab-0.996-ko-0.9.2/tests/shiin/matrix.def\n",
            "mecab-0.996-ko-0.9.2/tests/shiin/mkdic.pl\n",
            "mecab-0.996-ko-0.9.2/tests/shiin/test.gld\n",
            "mecab-0.996-ko-0.9.2/tests/latin/\n",
            "mecab-0.996-ko-0.9.2/tests/latin/unk.def\n",
            "mecab-0.996-ko-0.9.2/tests/latin/dicrc\n",
            "mecab-0.996-ko-0.9.2/tests/latin/dic.csv\n",
            "mecab-0.996-ko-0.9.2/tests/latin/test\n",
            "mecab-0.996-ko-0.9.2/tests/latin/char.def\n",
            "mecab-0.996-ko-0.9.2/tests/latin/matrix.def\n",
            "mecab-0.996-ko-0.9.2/tests/latin/test.gld\n",
            "mecab-0.996-ko-0.9.2/tests/chartype/\n",
            "mecab-0.996-ko-0.9.2/tests/chartype/unk.def\n",
            "mecab-0.996-ko-0.9.2/tests/chartype/dicrc\n",
            "mecab-0.996-ko-0.9.2/tests/chartype/dic.csv\n",
            "mecab-0.996-ko-0.9.2/tests/chartype/test\n",
            "mecab-0.996-ko-0.9.2/tests/chartype/char.def\n",
            "mecab-0.996-ko-0.9.2/tests/chartype/matrix.def\n",
            "mecab-0.996-ko-0.9.2/tests/chartype/test.gld\n",
            "mecab-0.996-ko-0.9.2/tests/run-dics.sh\n",
            "mecab-0.996-ko-0.9.2/tests/ngram/\n",
            "mecab-0.996-ko-0.9.2/tests/ngram/unk.def\n",
            "mecab-0.996-ko-0.9.2/tests/ngram/dicrc\n",
            "mecab-0.996-ko-0.9.2/tests/ngram/dic.csv\n",
            "mecab-0.996-ko-0.9.2/tests/ngram/test\n",
            "mecab-0.996-ko-0.9.2/tests/ngram/char.def\n",
            "mecab-0.996-ko-0.9.2/tests/ngram/matrix.def\n",
            "mecab-0.996-ko-0.9.2/tests/ngram/test.gld\n",
            "mecab-0.996-ko-0.9.2/tests/Makefile.in\n",
            "mecab-0.996-ko-0.9.2/ltmain.sh\n",
            "mecab-0.996-ko-0.9.2/config.rpath\n",
            "mecab-0.996-ko-0.9.2/config.h.in\n",
            "mecab-0.996-ko-0.9.2/mecabrc.in\n",
            "mecab-0.996-ko-0.9.2/GPL\n",
            "mecab-0.996-ko-0.9.2/Makefile.train\n",
            "mecab-0.996-ko-0.9.2/ChangeLog\n",
            "mecab-0.996-ko-0.9.2/install-sh\n",
            "mecab-0.996-ko-0.9.2/AUTHORS\n",
            "mecab-0.996-ko-0.9.2/doc/\n",
            "mecab-0.996-ko-0.9.2/doc/bindings.html\n",
            "mecab-0.996-ko-0.9.2/doc/posid.html\n",
            "mecab-0.996-ko-0.9.2/doc/unk.html\n",
            "mecab-0.996-ko-0.9.2/doc/learn.html\n",
            "mecab-0.996-ko-0.9.2/doc/format.html\n",
            "mecab-0.996-ko-0.9.2/doc/libmecab.html\n",
            "mecab-0.996-ko-0.9.2/doc/mecab.css\n",
            "mecab-0.996-ko-0.9.2/doc/feature.html\n",
            "mecab-0.996-ko-0.9.2/doc/Makefile.am\n",
            "mecab-0.996-ko-0.9.2/doc/soft.html\n",
            "mecab-0.996-ko-0.9.2/doc/en/\n",
            "mecab-0.996-ko-0.9.2/doc/en/bindings.html\n",
            "mecab-0.996-ko-0.9.2/doc/dic-detail.html\n",
            "mecab-0.996-ko-0.9.2/doc/flow.png\n",
            "mecab-0.996-ko-0.9.2/doc/mecab.html\n",
            "mecab-0.996-ko-0.9.2/doc/index.html\n",
            "mecab-0.996-ko-0.9.2/doc/result.png\n",
            "mecab-0.996-ko-0.9.2/doc/doxygen/\n",
            "mecab-0.996-ko-0.9.2/doc/doxygen/tab_a.png\n",
            "mecab-0.996-ko-0.9.2/doc/doxygen/globals_eval.html\n",
            "mecab-0.996-ko-0.9.2/doc/doxygen/classMeCab_1_1Tagger-members.html\n",
            "mecab-0.996-ko-0.9.2/doc/doxygen/functions_vars.html\n",
            "mecab-0.996-ko-0.9.2/doc/doxygen/doxygen.css\n",
            "mecab-0.996-ko-0.9.2/doc/doxygen/tab_r.gif\n",
            "mecab-0.996-ko-0.9.2/doc/doxygen/classMeCab_1_1Lattice.html\n",
            "mecab-0.996-ko-0.9.2/doc/doxygen/functions.html\n",
            "mecab-0.996-ko-0.9.2/doc/doxygen/classMeCab_1_1Tagger.html\n",
            "mecab-0.996-ko-0.9.2/doc/doxygen/mecab_8h_source.html\n",
            "mecab-0.996-ko-0.9.2/doc/doxygen/tabs.css\n",
            "mecab-0.996-ko-0.9.2/doc/doxygen/nav_f.png\n",
            "mecab-0.996-ko-0.9.2/doc/doxygen/tab_b.png\n",
            "mecab-0.996-ko-0.9.2/doc/doxygen/globals.html\n",
            "mecab-0.996-ko-0.9.2/doc/doxygen/nav_h.png\n",
            "mecab-0.996-ko-0.9.2/doc/doxygen/tab_h.png\n",
            "mecab-0.996-ko-0.9.2/doc/doxygen/classMeCab_1_1Model.html\n",
            "mecab-0.996-ko-0.9.2/doc/doxygen/globals_func.html\n",
            "mecab-0.996-ko-0.9.2/doc/doxygen/closed.png\n",
            "mecab-0.996-ko-0.9.2/doc/doxygen/tab_l.gif\n",
            "mecab-0.996-ko-0.9.2/doc/doxygen/structmecab__path__t-members.html\n",
            "mecab-0.996-ko-0.9.2/doc/doxygen/functions_func.html\n",
            "mecab-0.996-ko-0.9.2/doc/doxygen/globals_type.html\n",
            "mecab-0.996-ko-0.9.2/doc/doxygen/classMeCab_1_1Lattice-members.html\n",
            "mecab-0.996-ko-0.9.2/doc/doxygen/structmecab__node__t.html\n",
            "mecab-0.996-ko-0.9.2/doc/doxygen/namespacemembers_func.html\n",
            "mecab-0.996-ko-0.9.2/doc/doxygen/tab_s.png\n",
            "mecab-0.996-ko-0.9.2/doc/doxygen/structmecab__dictionary__info__t-members.html\n",
            "mecab-0.996-ko-0.9.2/doc/doxygen/namespacemembers_type.html\n",
            "mecab-0.996-ko-0.9.2/doc/doxygen/classMeCab_1_1Model-members.html\n",
            "mecab-0.996-ko-0.9.2/doc/doxygen/structmecab__dictionary__info__t.html\n",
            "mecab-0.996-ko-0.9.2/doc/doxygen/namespaces.html\n",
            "mecab-0.996-ko-0.9.2/doc/doxygen/namespacemembers.html\n",
            "mecab-0.996-ko-0.9.2/doc/doxygen/namespaceMeCab.html\n",
            "mecab-0.996-ko-0.9.2/doc/doxygen/structmecab__path__t.html\n",
            "mecab-0.996-ko-0.9.2/doc/doxygen/files.html\n",
            "mecab-0.996-ko-0.9.2/doc/doxygen/structmecab__node__t-members.html\n",
            "mecab-0.996-ko-0.9.2/doc/doxygen/index.html\n",
            "mecab-0.996-ko-0.9.2/doc/doxygen/annotated.html\n",
            "mecab-0.996-ko-0.9.2/doc/doxygen/globals_defs.html\n",
            "mecab-0.996-ko-0.9.2/doc/doxygen/classes.html\n",
            "mecab-0.996-ko-0.9.2/doc/doxygen/mecab_8h-source.html\n",
            "mecab-0.996-ko-0.9.2/doc/doxygen/doxygen.png\n",
            "mecab-0.996-ko-0.9.2/doc/doxygen/tab_b.gif\n",
            "mecab-0.996-ko-0.9.2/doc/doxygen/bc_s.png\n",
            "mecab-0.996-ko-0.9.2/doc/doxygen/open.png\n",
            "mecab-0.996-ko-0.9.2/doc/doxygen/mecab_8h.html\n",
            "mecab-0.996-ko-0.9.2/doc/dic.html\n",
            "mecab-0.996-ko-0.9.2/doc/partial.html\n",
            "mecab-0.996-ko-0.9.2/doc/feature.png\n",
            "mecab-0.996-ko-0.9.2/doc/Makefile.in\n",
            "mecab-0.996-ko-0.9.2/missing\n",
            "mecab-0.996-ko-0.9.2/BSD\n",
            "mecab-0.996-ko-0.9.2/NEWS\n",
            "mecab-0.996-ko-0.9.2/mkinstalldirs\n",
            "mecab-0.996-ko-0.9.2/src/\n",
            "mecab-0.996-ko-0.9.2/src/dictionary.h\n",
            "mecab-0.996-ko-0.9.2/src/writer.h\n",
            "mecab-0.996-ko-0.9.2/src/utils.h\n",
            "mecab-0.996-ko-0.9.2/src/string_buffer.cpp\n",
            "mecab-0.996-ko-0.9.2/src/tokenizer.cpp\n",
            "mecab-0.996-ko-0.9.2/src/make.bat\n",
            "mecab-0.996-ko-0.9.2/src/mecab.h\n",
            "mecab-0.996-ko-0.9.2/src/freelist.h\n",
            "mecab-0.996-ko-0.9.2/src/string_buffer.h\n",
            "mecab-0.996-ko-0.9.2/src/learner_tagger.h\n",
            "mecab-0.996-ko-0.9.2/src/dictionary_compiler.cpp\n",
            "mecab-0.996-ko-0.9.2/src/eval.cpp\n",
            "mecab-0.996-ko-0.9.2/src/mecab-system-eval.cpp\n",
            "mecab-0.996-ko-0.9.2/src/darts.h\n",
            "mecab-0.996-ko-0.9.2/src/param.h\n",
            "mecab-0.996-ko-0.9.2/src/char_property.h\n",
            "mecab-0.996-ko-0.9.2/src/learner_node.h\n",
            "mecab-0.996-ko-0.9.2/src/mecab-dict-gen.cpp\n",
            "mecab-0.996-ko-0.9.2/src/mecab-dict-index.cpp\n",
            "mecab-0.996-ko-0.9.2/src/winmain.h\n",
            "mecab-0.996-ko-0.9.2/src/thread.h\n",
            "mecab-0.996-ko-0.9.2/src/context_id.cpp\n",
            "mecab-0.996-ko-0.9.2/src/Makefile.am\n",
            "mecab-0.996-ko-0.9.2/src/connector.h\n",
            "mecab-0.996-ko-0.9.2/src/common.h\n",
            "mecab-0.996-ko-0.9.2/src/dictionary_rewriter.cpp\n",
            "mecab-0.996-ko-0.9.2/src/Makefile.msvc.in\n",
            "mecab-0.996-ko-0.9.2/src/dictionary_rewriter.h\n",
            "mecab-0.996-ko-0.9.2/src/feature_index.h\n",
            "mecab-0.996-ko-0.9.2/src/iconv_utils.cpp\n",
            "mecab-0.996-ko-0.9.2/src/char_property.cpp\n",
            "mecab-0.996-ko-0.9.2/src/mecab-test-gen.cpp\n",
            "mecab-0.996-ko-0.9.2/src/tagger.cpp\n",
            "mecab-0.996-ko-0.9.2/src/mecab-cost-train.cpp\n",
            "mecab-0.996-ko-0.9.2/src/learner.cpp\n",
            "mecab-0.996-ko-0.9.2/src/dictionary.cpp\n",
            "mecab-0.996-ko-0.9.2/src/lbfgs.cpp\n",
            "mecab-0.996-ko-0.9.2/src/ucs.h\n",
            "mecab-0.996-ko-0.9.2/src/writer.cpp\n",
            "mecab-0.996-ko-0.9.2/src/learner_tagger.cpp\n",
            "mecab-0.996-ko-0.9.2/src/lbfgs.h\n",
            "mecab-0.996-ko-0.9.2/src/libmecab.cpp\n",
            "mecab-0.996-ko-0.9.2/src/tokenizer.h\n",
            "mecab-0.996-ko-0.9.2/src/mecab.cpp\n",
            "mecab-0.996-ko-0.9.2/src/utils.cpp\n",
            "mecab-0.996-ko-0.9.2/src/dictionary_generator.cpp\n",
            "mecab-0.996-ko-0.9.2/src/param.cpp\n",
            "mecab-0.996-ko-0.9.2/src/context_id.h\n",
            "mecab-0.996-ko-0.9.2/src/mmap.h\n",
            "mecab-0.996-ko-0.9.2/src/viterbi.h\n",
            "mecab-0.996-ko-0.9.2/src/viterbi.cpp\n",
            "mecab-0.996-ko-0.9.2/src/stream_wrapper.h\n",
            "mecab-0.996-ko-0.9.2/src/feature_index.cpp\n",
            "mecab-0.996-ko-0.9.2/src/nbest_generator.h\n",
            "mecab-0.996-ko-0.9.2/src/ucstable.h\n",
            "mecab-0.996-ko-0.9.2/src/nbest_generator.cpp\n",
            "mecab-0.996-ko-0.9.2/src/iconv_utils.h\n",
            "mecab-0.996-ko-0.9.2/src/connector.cpp\n",
            "mecab-0.996-ko-0.9.2/src/Makefile.in\n",
            "mecab-0.996-ko-0.9.2/src/scoped_ptr.h\n",
            "mecab-0.996-ko-0.9.2/Makefile.in\n",
            "checking for a BSD-compatible install... /usr/bin/install -c\n",
            "checking whether build environment is sane... yes\n",
            "checking for a thread-safe mkdir -p... /bin/mkdir -p\n",
            "checking for gawk... no\n",
            "checking for mawk... mawk\n",
            "checking whether make sets $(MAKE)... yes\n",
            "checking for gcc... gcc\n",
            "checking whether the C compiler works... yes\n",
            "checking for C compiler default output file name... a.out\n",
            "checking for suffix of executables... \n",
            "checking whether we are cross compiling... no\n",
            "checking for suffix of object files... o\n",
            "checking whether we are using the GNU C compiler... yes\n",
            "checking whether gcc accepts -g... yes\n",
            "checking for gcc option to accept ISO C89... none needed\n",
            "checking for style of include used by make... GNU\n",
            "checking dependency style of gcc... none\n",
            "checking for g++... g++\n",
            "checking whether we are using the GNU C++ compiler... yes\n",
            "checking whether g++ accepts -g... yes\n",
            "checking dependency style of g++... none\n",
            "checking how to run the C preprocessor... gcc -E\n",
            "checking for grep that handles long lines and -e... /bin/grep\n",
            "checking for egrep... /bin/grep -E\n",
            "checking whether gcc needs -traditional... no\n",
            "checking whether make sets $(MAKE)... (cached) yes\n",
            "checking build system type... x86_64-unknown-linux-gnu\n",
            "checking host system type... x86_64-unknown-linux-gnu\n",
            "checking how to print strings... printf\n",
            "checking for a sed that does not truncate output... /bin/sed\n",
            "checking for fgrep... /bin/grep -F\n",
            "checking for ld used by gcc... /usr/bin/ld\n",
            "checking if the linker (/usr/bin/ld) is GNU ld... yes\n",
            "checking for BSD- or MS-compatible name lister (nm)... /usr/bin/nm -B\n",
            "checking the name lister (/usr/bin/nm -B) interface... BSD nm\n",
            "checking whether ln -s works... yes\n",
            "checking the maximum length of command line arguments... 1572864\n",
            "checking whether the shell understands some XSI constructs... yes\n",
            "checking whether the shell understands \"+=\"... yes\n",
            "checking how to convert x86_64-unknown-linux-gnu file names to x86_64-unknown-linux-gnu format... func_convert_file_noop\n",
            "checking how to convert x86_64-unknown-linux-gnu file names to toolchain format... func_convert_file_noop\n",
            "checking for /usr/bin/ld option to reload object files... -r\n",
            "checking for objdump... objdump\n",
            "checking how to recognize dependent libraries... pass_all\n",
            "checking for dlltool... dlltool\n",
            "checking how to associate runtime and link libraries... printf %s\\n\n",
            "checking for ar... ar\n",
            "checking for archiver @FILE support... @\n",
            "checking for strip... strip\n",
            "checking for ranlib... ranlib\n",
            "checking command to parse /usr/bin/nm -B output from gcc object... ok\n",
            "checking for sysroot... no\n",
            "./configure: line 7378: /usr/bin/file: No such file or directory\n",
            "checking for mt... no\n",
            "checking if : is a manifest tool... no\n",
            "checking for ANSI C header files... yes\n",
            "checking for sys/types.h... yes\n",
            "checking for sys/stat.h... yes\n",
            "checking for stdlib.h... yes\n",
            "checking for string.h... yes\n",
            "checking for memory.h... yes\n",
            "checking for strings.h... yes\n",
            "checking for inttypes.h... yes\n",
            "checking for stdint.h... yes\n",
            "checking for unistd.h... yes\n",
            "checking for dlfcn.h... yes\n",
            "checking for objdir... .libs\n",
            "checking if gcc supports -fno-rtti -fno-exceptions... no\n",
            "checking for gcc option to produce PIC... -fPIC -DPIC\n",
            "checking if gcc PIC flag -fPIC -DPIC works... yes\n",
            "checking if gcc static flag -static works... yes\n",
            "checking if gcc supports -c -o file.o... yes\n",
            "checking if gcc supports -c -o file.o... (cached) yes\n",
            "checking whether the gcc linker (/usr/bin/ld) supports shared libraries... yes\n",
            "checking whether -lc should be explicitly linked in... no\n",
            "checking dynamic linker characteristics... GNU/Linux ld.so\n",
            "checking how to hardcode library paths into programs... immediate\n",
            "checking whether stripping libraries is possible... yes\n",
            "checking if libtool supports shared libraries... yes\n",
            "checking whether to build shared libraries... yes\n",
            "checking whether to build static libraries... yes\n",
            "checking how to run the C++ preprocessor... g++ -E\n",
            "checking for ld used by g++... /usr/bin/ld\n",
            "checking if the linker (/usr/bin/ld) is GNU ld... yes\n",
            "checking whether the g++ linker (/usr/bin/ld) supports shared libraries... yes\n",
            "checking for g++ option to produce PIC... -fPIC -DPIC\n",
            "checking if g++ PIC flag -fPIC -DPIC works... yes\n",
            "checking if g++ static flag -static works... yes\n",
            "checking if g++ supports -c -o file.o... yes\n",
            "checking if g++ supports -c -o file.o... (cached) yes\n",
            "checking whether the g++ linker (/usr/bin/ld) supports shared libraries... yes\n",
            "checking dynamic linker characteristics... (cached) GNU/Linux ld.so\n",
            "checking how to hardcode library paths into programs... immediate\n",
            "checking for library containing strerror... none required\n",
            "checking whether byte ordering is bigendian... no\n",
            "checking for ld used by GCC... /usr/bin/ld\n",
            "checking if the linker (/usr/bin/ld) is GNU ld... yes\n",
            "checking for shared library run path origin... done\n",
            "checking for iconv... yes\n",
            "checking for working iconv... yes\n",
            "checking for iconv declaration... \n",
            "         extern size_t iconv (iconv_t cd, char * *inbuf, size_t *inbytesleft, char * *outbuf, size_t *outbytesleft);\n",
            "checking for ANSI C header files... (cached) yes\n",
            "checking for an ANSI C-conforming const... yes\n",
            "checking whether byte ordering is bigendian... (cached) no\n",
            "checking for string.h... (cached) yes\n",
            "checking for stdlib.h... (cached) yes\n",
            "checking for unistd.h... (cached) yes\n",
            "checking fcntl.h usability... yes\n",
            "checking fcntl.h presence... yes\n",
            "checking for fcntl.h... yes\n",
            "checking for stdint.h... (cached) yes\n",
            "checking for sys/stat.h... (cached) yes\n",
            "checking sys/mman.h usability... yes\n",
            "checking sys/mman.h presence... yes\n",
            "checking for sys/mman.h... yes\n",
            "checking sys/times.h usability... yes\n",
            "checking sys/times.h presence... yes\n",
            "checking for sys/times.h... yes\n",
            "checking for sys/types.h... (cached) yes\n",
            "checking dirent.h usability... yes\n",
            "checking dirent.h presence... yes\n",
            "checking for dirent.h... yes\n",
            "checking ctype.h usability... yes\n",
            "checking ctype.h presence... yes\n",
            "checking for ctype.h... yes\n",
            "checking for sys/types.h... (cached) yes\n",
            "checking io.h usability... no\n",
            "checking io.h presence... no\n",
            "checking for io.h... no\n",
            "checking windows.h usability... no\n",
            "checking windows.h presence... no\n",
            "checking for windows.h... no\n",
            "checking pthread.h usability... yes\n",
            "checking pthread.h presence... yes\n",
            "checking for pthread.h... yes\n",
            "checking for off_t... yes\n",
            "checking for size_t... yes\n",
            "checking size of char... 1\n",
            "checking size of short... 2\n",
            "checking size of int... 4\n",
            "checking size of long... 8\n",
            "checking size of long long... 8\n",
            "checking size of size_t... 8\n",
            "checking for size_t... (cached) yes\n",
            "checking for unsigned long long int... yes\n",
            "checking for stdlib.h... (cached) yes\n",
            "checking for unistd.h... (cached) yes\n",
            "checking for sys/param.h... yes\n",
            "checking for getpagesize... yes\n",
            "checking for working mmap... yes\n",
            "checking for main in -lstdc++... yes\n",
            "checking for pthread_create in -lpthread... yes\n",
            "checking for pthread_join in -lpthread... yes\n",
            "checking for getenv... yes\n",
            "checking for opendir... yes\n",
            "checking whether make is GNU Make... yes\n",
            "checking if g++ supports stl <vector> (required)... yes\n",
            "checking if g++ supports stl <list> (required)... yes\n",
            "checking if g++ supports stl <map> (required)... yes\n",
            "checking if g++ supports stl <set> (required)... yes\n",
            "checking if g++ supports stl <queue> (required)... yes\n",
            "checking if g++ supports stl <functional> (required)... yes\n",
            "checking if g++ supports stl <algorithm> (required)... yes\n",
            "checking if g++ supports stl <string> (required)... yes\n",
            "checking if g++ supports stl <iostream> (required)... yes\n",
            "checking if g++ supports stl <sstream> (required)... yes\n",
            "checking if g++ supports stl <fstream> (required)... yes\n",
            "checking if g++ supports template <class T> (required)... yes\n",
            "checking if g++ supports const_cast<> (required)... yes\n",
            "checking if g++ supports static_cast<> (required)... yes\n",
            "checking if g++ supports reinterpret_cast<> (required)... yes\n",
            "checking if g++ supports namespaces (required) ... yes\n",
            "checking if g++ supports __thread (optional)... yes\n",
            "checking if g++ supports template <class T> (required)... yes\n",
            "checking if g++ supports GCC native atomic operations (optional)... yes\n",
            "checking if g++ supports OSX native atomic operations (optional)... no\n",
            "checking if g++ environment provides all required features... yes\n",
            "configure: creating ./config.status\n",
            "config.status: creating Makefile\n",
            "config.status: creating src/Makefile\n",
            "config.status: creating src/Makefile.msvc\n",
            "config.status: creating man/Makefile\n",
            "config.status: creating doc/Makefile\n",
            "config.status: creating tests/Makefile\n",
            "config.status: creating swig/version.h\n",
            "config.status: creating mecab.iss\n",
            "config.status: creating mecab-config\n",
            "config.status: creating mecabrc\n",
            "config.status: creating config.h\n",
            "config.status: executing depfiles commands\n",
            "config.status: executing libtool commands\n",
            "config.status: executing default commands\n",
            "make  all-recursive\n",
            "make[1]: Entering directory '/tmp/mecab-0.996-ko-0.9.2'\n",
            "Making all in src\n",
            "make[2]: Entering directory '/tmp/mecab-0.996-ko-0.9.2/src'\n",
            "/bin/bash ../libtool --tag=CXX   --mode=compile g++ -DHAVE_CONFIG_H -I. -I.. -DDIC_VERSION=102   -DMECAB_DEFAULT_RC=\"\\\"/usr/local/etc/mecabrc\\\"\"    -O3 -Wall  -c -o viterbi.lo viterbi.cpp\n",
            "libtool: compile:  g++ -DHAVE_CONFIG_H -I. -I.. -DDIC_VERSION=102 -DMECAB_DEFAULT_RC=\\\"/usr/local/etc/mecabrc\\\" -O3 -Wall -c viterbi.cpp  -fPIC -DPIC -o .libs/viterbi.o\n",
            "In file included from \u001b[01m\u001b[Kviterbi.cpp:14:0\u001b[m\u001b[K:\n",
            "\u001b[01m\u001b[Kparam.h:30:13:\u001b[m\u001b[K \u001b[01;35m\u001b[Kwarning: \u001b[m\u001b[K'\u001b[01m\u001b[KTarget {anonymous}::lexical_cast(Source) [with Target = std::__cxx11::basic_string<char>; Source = std::__cxx11::basic_string<char>]\u001b[m\u001b[K' defined but not used [\u001b[01;35m\u001b[K-Wunused-function\u001b[m\u001b[K]\n",
            " std::string \u001b[01;35m\u001b[Klexical_cast<std::string, std::string>\u001b[m\u001b[K(std::string arg) {\n",
            "             \u001b[01;35m\u001b[K^~~~~~~~~~~~~~~~~~~~~~~~~~~~~~~~~~~~~~\u001b[m\u001b[K\n",
            "libtool: compile:  g++ -DHAVE_CONFIG_H -I. -I.. -DDIC_VERSION=102 -DMECAB_DEFAULT_RC=\\\"/usr/local/etc/mecabrc\\\" -O3 -Wall -c viterbi.cpp -o viterbi.o >/dev/null 2>&1\n",
            "/bin/bash ../libtool --tag=CXX   --mode=compile g++ -DHAVE_CONFIG_H -I. -I.. -DDIC_VERSION=102   -DMECAB_DEFAULT_RC=\"\\\"/usr/local/etc/mecabrc\\\"\"    -O3 -Wall  -c -o tagger.lo tagger.cpp\n",
            "libtool: compile:  g++ -DHAVE_CONFIG_H -I. -I.. -DDIC_VERSION=102 -DMECAB_DEFAULT_RC=\\\"/usr/local/etc/mecabrc\\\" -O3 -Wall -c tagger.cpp  -fPIC -DPIC -o .libs/tagger.o\n",
            "libtool: compile:  g++ -DHAVE_CONFIG_H -I. -I.. -DDIC_VERSION=102 -DMECAB_DEFAULT_RC=\\\"/usr/local/etc/mecabrc\\\" -O3 -Wall -c tagger.cpp -o tagger.o >/dev/null 2>&1\n",
            "/bin/bash ../libtool --tag=CXX   --mode=compile g++ -DHAVE_CONFIG_H -I. -I.. -DDIC_VERSION=102   -DMECAB_DEFAULT_RC=\"\\\"/usr/local/etc/mecabrc\\\"\"    -O3 -Wall  -c -o utils.lo utils.cpp\n",
            "libtool: compile:  g++ -DHAVE_CONFIG_H -I. -I.. -DDIC_VERSION=102 -DMECAB_DEFAULT_RC=\\\"/usr/local/etc/mecabrc\\\" -O3 -Wall -c utils.cpp  -fPIC -DPIC -o .libs/utils.o\n",
            "libtool: compile:  g++ -DHAVE_CONFIG_H -I. -I.. -DDIC_VERSION=102 -DMECAB_DEFAULT_RC=\\\"/usr/local/etc/mecabrc\\\" -O3 -Wall -c utils.cpp -o utils.o >/dev/null 2>&1\n",
            "/bin/bash ../libtool --tag=CXX   --mode=compile g++ -DHAVE_CONFIG_H -I. -I.. -DDIC_VERSION=102   -DMECAB_DEFAULT_RC=\"\\\"/usr/local/etc/mecabrc\\\"\"    -O3 -Wall  -c -o eval.lo eval.cpp\n",
            "libtool: compile:  g++ -DHAVE_CONFIG_H -I. -I.. -DDIC_VERSION=102 -DMECAB_DEFAULT_RC=\\\"/usr/local/etc/mecabrc\\\" -O3 -Wall -c eval.cpp  -fPIC -DPIC -o .libs/eval.o\n",
            "libtool: compile:  g++ -DHAVE_CONFIG_H -I. -I.. -DDIC_VERSION=102 -DMECAB_DEFAULT_RC=\\\"/usr/local/etc/mecabrc\\\" -O3 -Wall -c eval.cpp -o eval.o >/dev/null 2>&1\n",
            "/bin/bash ../libtool --tag=CXX   --mode=compile g++ -DHAVE_CONFIG_H -I. -I.. -DDIC_VERSION=102   -DMECAB_DEFAULT_RC=\"\\\"/usr/local/etc/mecabrc\\\"\"    -O3 -Wall  -c -o iconv_utils.lo iconv_utils.cpp\n",
            "libtool: compile:  g++ -DHAVE_CONFIG_H -I. -I.. -DDIC_VERSION=102 -DMECAB_DEFAULT_RC=\\\"/usr/local/etc/mecabrc\\\" -O3 -Wall -c iconv_utils.cpp  -fPIC -DPIC -o .libs/iconv_utils.o\n",
            "libtool: compile:  g++ -DHAVE_CONFIG_H -I. -I.. -DDIC_VERSION=102 -DMECAB_DEFAULT_RC=\\\"/usr/local/etc/mecabrc\\\" -O3 -Wall -c iconv_utils.cpp -o iconv_utils.o >/dev/null 2>&1\n",
            "/bin/bash ../libtool --tag=CXX   --mode=compile g++ -DHAVE_CONFIG_H -I. -I.. -DDIC_VERSION=102   -DMECAB_DEFAULT_RC=\"\\\"/usr/local/etc/mecabrc\\\"\"    -O3 -Wall  -c -o dictionary_rewriter.lo dictionary_rewriter.cpp\n",
            "libtool: compile:  g++ -DHAVE_CONFIG_H -I. -I.. -DDIC_VERSION=102 -DMECAB_DEFAULT_RC=\\\"/usr/local/etc/mecabrc\\\" -O3 -Wall -c dictionary_rewriter.cpp  -fPIC -DPIC -o .libs/dictionary_rewriter.o\n",
            "libtool: compile:  g++ -DHAVE_CONFIG_H -I. -I.. -DDIC_VERSION=102 -DMECAB_DEFAULT_RC=\\\"/usr/local/etc/mecabrc\\\" -O3 -Wall -c dictionary_rewriter.cpp -o dictionary_rewriter.o >/dev/null 2>&1\n",
            "/bin/bash ../libtool --tag=CXX   --mode=compile g++ -DHAVE_CONFIG_H -I. -I.. -DDIC_VERSION=102   -DMECAB_DEFAULT_RC=\"\\\"/usr/local/etc/mecabrc\\\"\"    -O3 -Wall  -c -o dictionary_generator.lo dictionary_generator.cpp\n",
            "libtool: compile:  g++ -DHAVE_CONFIG_H -I. -I.. -DDIC_VERSION=102 -DMECAB_DEFAULT_RC=\\\"/usr/local/etc/mecabrc\\\" -O3 -Wall -c dictionary_generator.cpp  -fPIC -DPIC -o .libs/dictionary_generator.o\n",
            "libtool: compile:  g++ -DHAVE_CONFIG_H -I. -I.. -DDIC_VERSION=102 -DMECAB_DEFAULT_RC=\\\"/usr/local/etc/mecabrc\\\" -O3 -Wall -c dictionary_generator.cpp -o dictionary_generator.o >/dev/null 2>&1\n",
            "/bin/bash ../libtool --tag=CXX   --mode=compile g++ -DHAVE_CONFIG_H -I. -I.. -DDIC_VERSION=102   -DMECAB_DEFAULT_RC=\"\\\"/usr/local/etc/mecabrc\\\"\"    -O3 -Wall  -c -o dictionary_compiler.lo dictionary_compiler.cpp\n",
            "libtool: compile:  g++ -DHAVE_CONFIG_H -I. -I.. -DDIC_VERSION=102 -DMECAB_DEFAULT_RC=\\\"/usr/local/etc/mecabrc\\\" -O3 -Wall -c dictionary_compiler.cpp  -fPIC -DPIC -o .libs/dictionary_compiler.o\n",
            "libtool: compile:  g++ -DHAVE_CONFIG_H -I. -I.. -DDIC_VERSION=102 -DMECAB_DEFAULT_RC=\\\"/usr/local/etc/mecabrc\\\" -O3 -Wall -c dictionary_compiler.cpp -o dictionary_compiler.o >/dev/null 2>&1\n",
            "/bin/bash ../libtool --tag=CXX   --mode=compile g++ -DHAVE_CONFIG_H -I. -I.. -DDIC_VERSION=102   -DMECAB_DEFAULT_RC=\"\\\"/usr/local/etc/mecabrc\\\"\"    -O3 -Wall  -c -o context_id.lo context_id.cpp\n",
            "libtool: compile:  g++ -DHAVE_CONFIG_H -I. -I.. -DDIC_VERSION=102 -DMECAB_DEFAULT_RC=\\\"/usr/local/etc/mecabrc\\\" -O3 -Wall -c context_id.cpp  -fPIC -DPIC -o .libs/context_id.o\n",
            "libtool: compile:  g++ -DHAVE_CONFIG_H -I. -I.. -DDIC_VERSION=102 -DMECAB_DEFAULT_RC=\\\"/usr/local/etc/mecabrc\\\" -O3 -Wall -c context_id.cpp -o context_id.o >/dev/null 2>&1\n",
            "/bin/bash ../libtool --tag=CXX   --mode=compile g++ -DHAVE_CONFIG_H -I. -I.. -DDIC_VERSION=102   -DMECAB_DEFAULT_RC=\"\\\"/usr/local/etc/mecabrc\\\"\"    -O3 -Wall  -c -o connector.lo connector.cpp\n",
            "libtool: compile:  g++ -DHAVE_CONFIG_H -I. -I.. -DDIC_VERSION=102 -DMECAB_DEFAULT_RC=\\\"/usr/local/etc/mecabrc\\\" -O3 -Wall -c connector.cpp  -fPIC -DPIC -o .libs/connector.o\n",
            "libtool: compile:  g++ -DHAVE_CONFIG_H -I. -I.. -DDIC_VERSION=102 -DMECAB_DEFAULT_RC=\\\"/usr/local/etc/mecabrc\\\" -O3 -Wall -c connector.cpp -o connector.o >/dev/null 2>&1\n",
            "/bin/bash ../libtool --tag=CXX   --mode=compile g++ -DHAVE_CONFIG_H -I. -I.. -DDIC_VERSION=102   -DMECAB_DEFAULT_RC=\"\\\"/usr/local/etc/mecabrc\\\"\"    -O3 -Wall  -c -o nbest_generator.lo nbest_generator.cpp\n",
            "libtool: compile:  g++ -DHAVE_CONFIG_H -I. -I.. -DDIC_VERSION=102 -DMECAB_DEFAULT_RC=\\\"/usr/local/etc/mecabrc\\\" -O3 -Wall -c nbest_generator.cpp  -fPIC -DPIC -o .libs/nbest_generator.o\n",
            "libtool: compile:  g++ -DHAVE_CONFIG_H -I. -I.. -DDIC_VERSION=102 -DMECAB_DEFAULT_RC=\\\"/usr/local/etc/mecabrc\\\" -O3 -Wall -c nbest_generator.cpp -o nbest_generator.o >/dev/null 2>&1\n",
            "/bin/bash ../libtool --tag=CXX   --mode=compile g++ -DHAVE_CONFIG_H -I. -I.. -DDIC_VERSION=102   -DMECAB_DEFAULT_RC=\"\\\"/usr/local/etc/mecabrc\\\"\"    -O3 -Wall  -c -o writer.lo writer.cpp\n",
            "libtool: compile:  g++ -DHAVE_CONFIG_H -I. -I.. -DDIC_VERSION=102 -DMECAB_DEFAULT_RC=\\\"/usr/local/etc/mecabrc\\\" -O3 -Wall -c writer.cpp  -fPIC -DPIC -o .libs/writer.o\n",
            "libtool: compile:  g++ -DHAVE_CONFIG_H -I. -I.. -DDIC_VERSION=102 -DMECAB_DEFAULT_RC=\\\"/usr/local/etc/mecabrc\\\" -O3 -Wall -c writer.cpp -o writer.o >/dev/null 2>&1\n",
            "/bin/bash ../libtool --tag=CXX   --mode=compile g++ -DHAVE_CONFIG_H -I. -I.. -DDIC_VERSION=102   -DMECAB_DEFAULT_RC=\"\\\"/usr/local/etc/mecabrc\\\"\"    -O3 -Wall  -c -o string_buffer.lo string_buffer.cpp\n",
            "libtool: compile:  g++ -DHAVE_CONFIG_H -I. -I.. -DDIC_VERSION=102 -DMECAB_DEFAULT_RC=\\\"/usr/local/etc/mecabrc\\\" -O3 -Wall -c string_buffer.cpp  -fPIC -DPIC -o .libs/string_buffer.o\n",
            "libtool: compile:  g++ -DHAVE_CONFIG_H -I. -I.. -DDIC_VERSION=102 -DMECAB_DEFAULT_RC=\\\"/usr/local/etc/mecabrc\\\" -O3 -Wall -c string_buffer.cpp -o string_buffer.o >/dev/null 2>&1\n",
            "/bin/bash ../libtool --tag=CXX   --mode=compile g++ -DHAVE_CONFIG_H -I. -I.. -DDIC_VERSION=102   -DMECAB_DEFAULT_RC=\"\\\"/usr/local/etc/mecabrc\\\"\"    -O3 -Wall  -c -o param.lo param.cpp\n",
            "libtool: compile:  g++ -DHAVE_CONFIG_H -I. -I.. -DDIC_VERSION=102 -DMECAB_DEFAULT_RC=\\\"/usr/local/etc/mecabrc\\\" -O3 -Wall -c param.cpp  -fPIC -DPIC -o .libs/param.o\n",
            "libtool: compile:  g++ -DHAVE_CONFIG_H -I. -I.. -DDIC_VERSION=102 -DMECAB_DEFAULT_RC=\\\"/usr/local/etc/mecabrc\\\" -O3 -Wall -c param.cpp -o param.o >/dev/null 2>&1\n",
            "/bin/bash ../libtool --tag=CXX   --mode=compile g++ -DHAVE_CONFIG_H -I. -I.. -DDIC_VERSION=102   -DMECAB_DEFAULT_RC=\"\\\"/usr/local/etc/mecabrc\\\"\"    -O3 -Wall  -c -o tokenizer.lo tokenizer.cpp\n",
            "libtool: compile:  g++ -DHAVE_CONFIG_H -I. -I.. -DDIC_VERSION=102 -DMECAB_DEFAULT_RC=\\\"/usr/local/etc/mecabrc\\\" -O3 -Wall -c tokenizer.cpp  -fPIC -DPIC -o .libs/tokenizer.o\n",
            "libtool: compile:  g++ -DHAVE_CONFIG_H -I. -I.. -DDIC_VERSION=102 -DMECAB_DEFAULT_RC=\\\"/usr/local/etc/mecabrc\\\" -O3 -Wall -c tokenizer.cpp -o tokenizer.o >/dev/null 2>&1\n",
            "/bin/bash ../libtool --tag=CXX   --mode=compile g++ -DHAVE_CONFIG_H -I. -I.. -DDIC_VERSION=102   -DMECAB_DEFAULT_RC=\"\\\"/usr/local/etc/mecabrc\\\"\"    -O3 -Wall  -c -o char_property.lo char_property.cpp\n",
            "libtool: compile:  g++ -DHAVE_CONFIG_H -I. -I.. -DDIC_VERSION=102 -DMECAB_DEFAULT_RC=\\\"/usr/local/etc/mecabrc\\\" -O3 -Wall -c char_property.cpp  -fPIC -DPIC -o .libs/char_property.o\n",
            "libtool: compile:  g++ -DHAVE_CONFIG_H -I. -I.. -DDIC_VERSION=102 -DMECAB_DEFAULT_RC=\\\"/usr/local/etc/mecabrc\\\" -O3 -Wall -c char_property.cpp -o char_property.o >/dev/null 2>&1\n",
            "/bin/bash ../libtool --tag=CXX   --mode=compile g++ -DHAVE_CONFIG_H -I. -I.. -DDIC_VERSION=102   -DMECAB_DEFAULT_RC=\"\\\"/usr/local/etc/mecabrc\\\"\"    -O3 -Wall  -c -o dictionary.lo dictionary.cpp\n",
            "libtool: compile:  g++ -DHAVE_CONFIG_H -I. -I.. -DDIC_VERSION=102 -DMECAB_DEFAULT_RC=\\\"/usr/local/etc/mecabrc\\\" -O3 -Wall -c dictionary.cpp  -fPIC -DPIC -o .libs/dictionary.o\n",
            "libtool: compile:  g++ -DHAVE_CONFIG_H -I. -I.. -DDIC_VERSION=102 -DMECAB_DEFAULT_RC=\\\"/usr/local/etc/mecabrc\\\" -O3 -Wall -c dictionary.cpp -o dictionary.o >/dev/null 2>&1\n",
            "/bin/bash ../libtool --tag=CXX   --mode=compile g++ -DHAVE_CONFIG_H -I. -I.. -DDIC_VERSION=102   -DMECAB_DEFAULT_RC=\"\\\"/usr/local/etc/mecabrc\\\"\"    -O3 -Wall  -c -o feature_index.lo feature_index.cpp\n",
            "libtool: compile:  g++ -DHAVE_CONFIG_H -I. -I.. -DDIC_VERSION=102 -DMECAB_DEFAULT_RC=\\\"/usr/local/etc/mecabrc\\\" -O3 -Wall -c feature_index.cpp  -fPIC -DPIC -o .libs/feature_index.o\n",
            "libtool: compile:  g++ -DHAVE_CONFIG_H -I. -I.. -DDIC_VERSION=102 -DMECAB_DEFAULT_RC=\\\"/usr/local/etc/mecabrc\\\" -O3 -Wall -c feature_index.cpp -o feature_index.o >/dev/null 2>&1\n",
            "/bin/bash ../libtool --tag=CXX   --mode=compile g++ -DHAVE_CONFIG_H -I. -I.. -DDIC_VERSION=102   -DMECAB_DEFAULT_RC=\"\\\"/usr/local/etc/mecabrc\\\"\"    -O3 -Wall  -c -o lbfgs.lo lbfgs.cpp\n",
            "libtool: compile:  g++ -DHAVE_CONFIG_H -I. -I.. -DDIC_VERSION=102 -DMECAB_DEFAULT_RC=\\\"/usr/local/etc/mecabrc\\\" -O3 -Wall -c lbfgs.cpp  -fPIC -DPIC -o .libs/lbfgs.o\n",
            "libtool: compile:  g++ -DHAVE_CONFIG_H -I. -I.. -DDIC_VERSION=102 -DMECAB_DEFAULT_RC=\\\"/usr/local/etc/mecabrc\\\" -O3 -Wall -c lbfgs.cpp -o lbfgs.o >/dev/null 2>&1\n",
            "/bin/bash ../libtool --tag=CXX   --mode=compile g++ -DHAVE_CONFIG_H -I. -I.. -DDIC_VERSION=102   -DMECAB_DEFAULT_RC=\"\\\"/usr/local/etc/mecabrc\\\"\"    -O3 -Wall  -c -o learner_tagger.lo learner_tagger.cpp\n",
            "libtool: compile:  g++ -DHAVE_CONFIG_H -I. -I.. -DDIC_VERSION=102 -DMECAB_DEFAULT_RC=\\\"/usr/local/etc/mecabrc\\\" -O3 -Wall -c learner_tagger.cpp  -fPIC -DPIC -o .libs/learner_tagger.o\n",
            "\u001b[01m\u001b[Klearner_tagger.cpp:25:7:\u001b[m\u001b[K \u001b[01;35m\u001b[Kwarning: \u001b[m\u001b[K'\u001b[01m\u001b[Kchar* MeCab::{anonymous}::mystrdup(const string&)\u001b[m\u001b[K' defined but not used [\u001b[01;35m\u001b[K-Wunused-function\u001b[m\u001b[K]\n",
            " char *\u001b[01;35m\u001b[Kmystrdup\u001b[m\u001b[K(const std::string &str) {\n",
            "       \u001b[01;35m\u001b[K^~~~~~~~\u001b[m\u001b[K\n",
            "libtool: compile:  g++ -DHAVE_CONFIG_H -I. -I.. -DDIC_VERSION=102 -DMECAB_DEFAULT_RC=\\\"/usr/local/etc/mecabrc\\\" -O3 -Wall -c learner_tagger.cpp -o learner_tagger.o >/dev/null 2>&1\n",
            "/bin/bash ../libtool --tag=CXX   --mode=compile g++ -DHAVE_CONFIG_H -I. -I.. -DDIC_VERSION=102   -DMECAB_DEFAULT_RC=\"\\\"/usr/local/etc/mecabrc\\\"\"    -O3 -Wall  -c -o learner.lo learner.cpp\n",
            "libtool: compile:  g++ -DHAVE_CONFIG_H -I. -I.. -DDIC_VERSION=102 -DMECAB_DEFAULT_RC=\\\"/usr/local/etc/mecabrc\\\" -O3 -Wall -c learner.cpp  -fPIC -DPIC -o .libs/learner.o\n",
            "libtool: compile:  g++ -DHAVE_CONFIG_H -I. -I.. -DDIC_VERSION=102 -DMECAB_DEFAULT_RC=\\\"/usr/local/etc/mecabrc\\\" -O3 -Wall -c learner.cpp -o learner.o >/dev/null 2>&1\n",
            "/bin/bash ../libtool --tag=CXX   --mode=compile g++ -DHAVE_CONFIG_H -I. -I.. -DDIC_VERSION=102   -DMECAB_DEFAULT_RC=\"\\\"/usr/local/etc/mecabrc\\\"\"    -O3 -Wall  -c -o libmecab.lo libmecab.cpp\n",
            "libtool: compile:  g++ -DHAVE_CONFIG_H -I. -I.. -DDIC_VERSION=102 -DMECAB_DEFAULT_RC=\\\"/usr/local/etc/mecabrc\\\" -O3 -Wall -c libmecab.cpp  -fPIC -DPIC -o .libs/libmecab.o\n",
            "libtool: compile:  g++ -DHAVE_CONFIG_H -I. -I.. -DDIC_VERSION=102 -DMECAB_DEFAULT_RC=\\\"/usr/local/etc/mecabrc\\\" -O3 -Wall -c libmecab.cpp -o libmecab.o >/dev/null 2>&1\n",
            "/bin/bash ../libtool --tag=CXX   --mode=link g++  -O3 -Wall  -no-undefined -version-info 2:0:0  -o libmecab.la -rpath /usr/local/lib viterbi.lo tagger.lo utils.lo eval.lo iconv_utils.lo dictionary_rewriter.lo dictionary_generator.lo dictionary_compiler.lo context_id.lo connector.lo nbest_generator.lo writer.lo string_buffer.lo param.lo tokenizer.lo char_property.lo dictionary.lo feature_index.lo lbfgs.lo learner_tagger.lo learner.lo libmecab.lo  -lpthread -lpthread  -lstdc++ \n",
            "libtool: link: g++  -fPIC -DPIC -shared -nostdlib /usr/lib/gcc/x86_64-linux-gnu/7/../../../x86_64-linux-gnu/crti.o /usr/lib/gcc/x86_64-linux-gnu/7/crtbeginS.o  .libs/viterbi.o .libs/tagger.o .libs/utils.o .libs/eval.o .libs/iconv_utils.o .libs/dictionary_rewriter.o .libs/dictionary_generator.o .libs/dictionary_compiler.o .libs/context_id.o .libs/connector.o .libs/nbest_generator.o .libs/writer.o .libs/string_buffer.o .libs/param.o .libs/tokenizer.o .libs/char_property.o .libs/dictionary.o .libs/feature_index.o .libs/lbfgs.o .libs/learner_tagger.o .libs/learner.o .libs/libmecab.o   -lpthread -L/usr/lib/gcc/x86_64-linux-gnu/7 -L/usr/lib/gcc/x86_64-linux-gnu/7/../../../x86_64-linux-gnu -L/usr/lib/gcc/x86_64-linux-gnu/7/../../../../lib -L/lib/x86_64-linux-gnu -L/lib/../lib -L/usr/lib/x86_64-linux-gnu -L/usr/lib/../lib -L/usr/local/cuda/lib64/stubs -L/usr/lib/gcc/x86_64-linux-gnu/7/../../.. -lstdc++ -lm -lc -lgcc_s /usr/lib/gcc/x86_64-linux-gnu/7/crtendS.o /usr/lib/gcc/x86_64-linux-gnu/7/../../../x86_64-linux-gnu/crtn.o  -O3   -Wl,-soname -Wl,libmecab.so.2 -o .libs/libmecab.so.2.0.0\n",
            "libtool: link: (cd \".libs\" && rm -f \"libmecab.so.2\" && ln -s \"libmecab.so.2.0.0\" \"libmecab.so.2\")\n",
            "libtool: link: (cd \".libs\" && rm -f \"libmecab.so\" && ln -s \"libmecab.so.2.0.0\" \"libmecab.so\")\n",
            "libtool: link: ar cru .libs/libmecab.a  viterbi.o tagger.o utils.o eval.o iconv_utils.o dictionary_rewriter.o dictionary_generator.o dictionary_compiler.o context_id.o connector.o nbest_generator.o writer.o string_buffer.o param.o tokenizer.o char_property.o dictionary.o feature_index.o lbfgs.o learner_tagger.o learner.o libmecab.o\n",
            "ar: `u' modifier ignored since `D' is the default (see `U')\n",
            "libtool: link: ranlib .libs/libmecab.a\n",
            "libtool: link: ( cd \".libs\" && rm -f \"libmecab.la\" && ln -s \"../libmecab.la\" \"libmecab.la\" )\n",
            "g++ -DHAVE_CONFIG_H -I. -I.. -DDIC_VERSION=102   -DMECAB_DEFAULT_RC=\"\\\"/usr/local/etc/mecabrc\\\"\"    -O3 -Wall  -c -o mecab.o mecab.cpp\n",
            "/bin/bash ../libtool --tag=CXX   --mode=link g++  -O3 -Wall    -o mecab mecab.o libmecab.la -lpthread -lpthread  -lstdc++ \n",
            "libtool: link: g++ -O3 -Wall -o .libs/mecab mecab.o  ./.libs/libmecab.so -lpthread -lstdc++\n",
            "g++ -DHAVE_CONFIG_H -I. -I.. -DDIC_VERSION=102   -DMECAB_DEFAULT_RC=\"\\\"/usr/local/etc/mecabrc\\\"\"    -O3 -Wall  -c -o mecab-dict-index.o mecab-dict-index.cpp\n",
            "/bin/bash ../libtool --tag=CXX   --mode=link g++  -O3 -Wall    -o mecab-dict-index mecab-dict-index.o libmecab.la -lpthread -lpthread  -lstdc++ \n",
            "libtool: link: g++ -O3 -Wall -o .libs/mecab-dict-index mecab-dict-index.o  ./.libs/libmecab.so -lpthread -lstdc++\n",
            "g++ -DHAVE_CONFIG_H -I. -I.. -DDIC_VERSION=102   -DMECAB_DEFAULT_RC=\"\\\"/usr/local/etc/mecabrc\\\"\"    -O3 -Wall  -c -o mecab-dict-gen.o mecab-dict-gen.cpp\n",
            "/bin/bash ../libtool --tag=CXX   --mode=link g++  -O3 -Wall    -o mecab-dict-gen mecab-dict-gen.o libmecab.la -lpthread -lpthread  -lstdc++ \n",
            "libtool: link: g++ -O3 -Wall -o .libs/mecab-dict-gen mecab-dict-gen.o  ./.libs/libmecab.so -lpthread -lstdc++\n",
            "g++ -DHAVE_CONFIG_H -I. -I.. -DDIC_VERSION=102   -DMECAB_DEFAULT_RC=\"\\\"/usr/local/etc/mecabrc\\\"\"    -O3 -Wall  -c -o mecab-cost-train.o mecab-cost-train.cpp\n",
            "/bin/bash ../libtool --tag=CXX   --mode=link g++  -O3 -Wall    -o mecab-cost-train mecab-cost-train.o libmecab.la -lpthread -lpthread  -lstdc++ \n",
            "libtool: link: g++ -O3 -Wall -o .libs/mecab-cost-train mecab-cost-train.o  ./.libs/libmecab.so -lpthread -lstdc++\n",
            "g++ -DHAVE_CONFIG_H -I. -I.. -DDIC_VERSION=102   -DMECAB_DEFAULT_RC=\"\\\"/usr/local/etc/mecabrc\\\"\"    -O3 -Wall  -c -o mecab-system-eval.o mecab-system-eval.cpp\n",
            "/bin/bash ../libtool --tag=CXX   --mode=link g++  -O3 -Wall    -o mecab-system-eval mecab-system-eval.o libmecab.la -lpthread -lpthread  -lstdc++ \n",
            "libtool: link: g++ -O3 -Wall -o .libs/mecab-system-eval mecab-system-eval.o  ./.libs/libmecab.so -lpthread -lstdc++\n",
            "g++ -DHAVE_CONFIG_H -I. -I.. -DDIC_VERSION=102   -DMECAB_DEFAULT_RC=\"\\\"/usr/local/etc/mecabrc\\\"\"    -O3 -Wall  -c -o mecab-test-gen.o mecab-test-gen.cpp\n",
            "/bin/bash ../libtool --tag=CXX   --mode=link g++  -O3 -Wall    -o mecab-test-gen mecab-test-gen.o libmecab.la -lpthread -lpthread  -lstdc++ \n",
            "libtool: link: g++ -O3 -Wall -o .libs/mecab-test-gen mecab-test-gen.o  ./.libs/libmecab.so -lpthread -lstdc++\n",
            "make[2]: Leaving directory '/tmp/mecab-0.996-ko-0.9.2/src'\n",
            "Making all in man\n",
            "make[2]: Entering directory '/tmp/mecab-0.996-ko-0.9.2/man'\n",
            "make[2]: Nothing to be done for 'all'.\n",
            "make[2]: Leaving directory '/tmp/mecab-0.996-ko-0.9.2/man'\n",
            "Making all in doc\n",
            "make[2]: Entering directory '/tmp/mecab-0.996-ko-0.9.2/doc'\n",
            "make[2]: Nothing to be done for 'all'.\n",
            "make[2]: Leaving directory '/tmp/mecab-0.996-ko-0.9.2/doc'\n",
            "Making all in tests\n",
            "make[2]: Entering directory '/tmp/mecab-0.996-ko-0.9.2/tests'\n",
            "make[2]: Nothing to be done for 'all'.\n",
            "make[2]: Leaving directory '/tmp/mecab-0.996-ko-0.9.2/tests'\n",
            "make[2]: Entering directory '/tmp/mecab-0.996-ko-0.9.2'\n",
            "make[2]: Leaving directory '/tmp/mecab-0.996-ko-0.9.2'\n",
            "make[1]: Leaving directory '/tmp/mecab-0.996-ko-0.9.2'\n",
            "Making check in src\n",
            "make[1]: Entering directory '/tmp/mecab-0.996-ko-0.9.2/src'\n",
            "make[1]: Nothing to be done for 'check'.\n",
            "make[1]: Leaving directory '/tmp/mecab-0.996-ko-0.9.2/src'\n",
            "Making check in man\n",
            "make[1]: Entering directory '/tmp/mecab-0.996-ko-0.9.2/man'\n",
            "make[1]: Nothing to be done for 'check'.\n",
            "make[1]: Leaving directory '/tmp/mecab-0.996-ko-0.9.2/man'\n",
            "Making check in doc\n",
            "make[1]: Entering directory '/tmp/mecab-0.996-ko-0.9.2/doc'\n",
            "make[1]: Nothing to be done for 'check'.\n",
            "make[1]: Leaving directory '/tmp/mecab-0.996-ko-0.9.2/doc'\n",
            "Making check in tests\n",
            "make[1]: Entering directory '/tmp/mecab-0.996-ko-0.9.2/tests'\n",
            "make  check-TESTS\n",
            "make[2]: Entering directory '/tmp/mecab-0.996-ko-0.9.2/tests'\n",
            "./pos-id.def is not found. minimum setting is used\n",
            "reading ./unk.def ... 2\n",
            "emitting double-array: 100% |###########################################| \n",
            "./model.def is not found. skipped.\n",
            "./pos-id.def is not found. minimum setting is used\n",
            "reading ./dic.csv ... 177\n",
            "emitting double-array: 100% |###########################################| \n",
            "reading ./matrix.def ... 178x178\n",
            "emitting matrix      : 100% |###########################################| \n",
            "\n",
            "done!\n",
            "./pos-id.def is not found. minimum setting is used\n",
            "reading ./unk.def ... 2\n",
            "emitting double-array: 100% |###########################################| \n",
            "./model.def is not found. skipped.\n",
            "./pos-id.def is not found. minimum setting is used\n",
            "reading ./dic.csv ... 83\n",
            "emitting double-array: 100% |###########################################| \n",
            "reading ./matrix.def ... 84x84\n",
            "emitting matrix      : 100% |###########################################| \n",
            "\n",
            "done!\n",
            "./pos-id.def is not found. minimum setting is used\n",
            "reading ./unk.def ... 2\n",
            "emitting double-array: 100% |###########################################| \n",
            "./model.def is not found. skipped.\n",
            "./pos-id.def is not found. minimum setting is used\n",
            "reading ./dic.csv ... 450\n",
            "emitting double-array: 100% |###########################################| \n",
            "reading ./matrix.def ... 1x1\n",
            "\n",
            "done!\n",
            "./pos-id.def is not found. minimum setting is used\n",
            "reading ./unk.def ... 2\n",
            "emitting double-array: 100% |###########################################| \n",
            "./model.def is not found. skipped.\n",
            "./pos-id.def is not found. minimum setting is used\n",
            "reading ./dic.csv ... 162\n",
            "emitting double-array: 100% |###########################################| \n",
            "reading ./matrix.def ... 3x3\n",
            "emitting matrix      : 100% |###########################################| \n",
            "\n",
            "done!\n",
            "./pos-id.def is not found. minimum setting is used\n",
            "reading ./unk.def ... 2\n",
            "emitting double-array: 100% |###########################################| \n",
            "./model.def is not found. skipped.\n",
            "./pos-id.def is not found. minimum setting is used\n",
            "reading ./dic.csv ... 4\n",
            "emitting double-array: 100% |###########################################| \n",
            "reading ./matrix.def ... 1x1\n",
            "\n",
            "done!\n",
            "./pos-id.def is not found. minimum setting is used\n",
            "reading ./unk.def ... 11\n",
            "emitting double-array: 100% |###########################################| \n",
            "./model.def is not found. skipped.\n",
            "./pos-id.def is not found. minimum setting is used\n",
            "reading ./dic.csv ... 1\n",
            "reading ./matrix.def ... 1x1\n",
            "\n",
            "done!\n",
            "./pos-id.def is not found. minimum setting is used\n",
            "reading ./unk.def ... 2\n",
            "emitting double-array: 100% |###########################################| \n",
            "./model.def is not found. skipped.\n",
            "./pos-id.def is not found. minimum setting is used\n",
            "reading ./dic.csv ... 1\n",
            "reading ./matrix.def ... 1x1\n",
            "\n",
            "done!\n",
            "PASS: run-dics.sh\n",
            "PASS: run-eval.sh\n",
            "seed/pos-id.def is not found. minimum setting is used\n",
            "reading seed/unk.def ... 40\n",
            "emitting double-array: 100% |###########################################| \n",
            "seed/model.def is not found. skipped.\n",
            "seed/pos-id.def is not found. minimum setting is used\n",
            "reading seed/dic.csv ... 4335\n",
            "emitting double-array: 100% |###########################################| \n",
            "reading seed/matrix.def ... 1x1\n",
            "\n",
            "done!\n",
            "reading corpus ...\n",
            "Number of sentences: 34\n",
            "Number of features:  64108\n",
            "eta:                 0.00005\n",
            "freq:                1\n",
            "eval-size:           6\n",
            "unk-eval-size:       4\n",
            "threads:             1\n",
            "charset:             EUC-JP\n",
            "C(sigma^2):          1.00000\n",
            "\n",
            "iter=0 err=1.00000 F=0.35771 target=2406.28355 diff=1.00000\n",
            "iter=1 err=0.97059 F=0.65652 target=1484.25231 diff=0.38318\n",
            "iter=2 err=0.91176 F=0.79331 target=863.32765 diff=0.41834\n",
            "iter=3 err=0.85294 F=0.89213 target=596.72480 diff=0.30881\n",
            "iter=4 err=0.61765 F=0.95467 target=336.30744 diff=0.43641\n",
            "iter=5 err=0.50000 F=0.96702 target=246.53039 diff=0.26695\n",
            "iter=6 err=0.35294 F=0.95472 target=188.93963 diff=0.23361\n",
            "iter=7 err=0.20588 F=0.99106 target=168.62665 diff=0.10751\n",
            "iter=8 err=0.05882 F=0.99777 target=158.64865 diff=0.05917\n",
            "iter=9 err=0.08824 F=0.99665 target=154.14530 diff=0.02839\n",
            "iter=10 err=0.08824 F=0.99665 target=151.94257 diff=0.01429\n",
            "iter=11 err=0.02941 F=0.99888 target=147.20825 diff=0.03116\n",
            "iter=12 err=0.00000 F=1.00000 target=147.34956 diff=0.00096\n",
            "iter=13 err=0.02941 F=0.99888 target=146.32592 diff=0.00695\n",
            "iter=14 err=0.00000 F=1.00000 target=145.77299 diff=0.00378\n",
            "iter=15 err=0.02941 F=0.99888 target=145.24641 diff=0.00361\n",
            "iter=16 err=0.00000 F=1.00000 target=144.96490 diff=0.00194\n",
            "iter=17 err=0.02941 F=0.99888 target=144.90246 diff=0.00043\n",
            "iter=18 err=0.00000 F=1.00000 target=144.75959 diff=0.00099\n",
            "iter=19 err=0.00000 F=1.00000 target=144.71727 diff=0.00029\n",
            "iter=20 err=0.00000 F=1.00000 target=144.66337 diff=0.00037\n",
            "iter=21 err=0.00000 F=1.00000 target=144.61349 diff=0.00034\n",
            "iter=22 err=0.00000 F=1.00000 target=144.62987 diff=0.00011\n",
            "iter=23 err=0.00000 F=1.00000 target=144.60060 diff=0.00020\n",
            "iter=24 err=0.00000 F=1.00000 target=144.59125 diff=0.00006\n",
            "iter=25 err=0.00000 F=1.00000 target=144.58619 diff=0.00004\n",
            "iter=26 err=0.00000 F=1.00000 target=144.58219 diff=0.00003\n",
            "iter=27 err=0.00000 F=1.00000 target=144.58059 diff=0.00001\n",
            "\n",
            "Done! writing model file ... \n",
            "model-ipadic.c1.0.f1.model is not a binary model. reopen it as text mode...\n",
            "reading seed/unk.def ... 40\n",
            "reading seed/dic.csv ... 4335\n",
            "emitting model-ipadic.c1.0.f1.dic/left-id.def/ model-ipadic.c1.0.f1.dic/right-id.def\n",
            "emitting model-ipadic.c1.0.f1.dic/unk.def ... 40\n",
            "emitting model-ipadic.c1.0.f1.dic/dic.csv ... 4335\n",
            "emitting matrix      : 100% |###########################################| \n",
            "copying seed/char.def to model-ipadic.c1.0.f1.dic/char.def\n",
            "copying seed/rewrite.def to model-ipadic.c1.0.f1.dic/rewrite.def\n",
            "copying seed/dicrc to model-ipadic.c1.0.f1.dic/dicrc\n",
            "copying seed/feature.def to model-ipadic.c1.0.f1.dic/feature.def\n",
            "copying model-ipadic.c1.0.f1.model to model-ipadic.c1.0.f1.dic/model.def\n",
            "\n",
            "done!\n",
            "model-ipadic.c1.0.f1.dic/pos-id.def is not found. minimum setting is used\n",
            "reading model-ipadic.c1.0.f1.dic/unk.def ... 40\n",
            "emitting double-array: 100% |###########################################| \n",
            "model-ipadic.c1.0.f1.dic/pos-id.def is not found. minimum setting is used\n",
            "reading model-ipadic.c1.0.f1.dic/dic.csv ... 4335\n",
            "emitting double-array: 100% |###########################################| \n",
            "reading model-ipadic.c1.0.f1.dic/matrix.def ... 346x346\n",
            "emitting matrix      : 100% |###########################################| \n",
            "\n",
            "done!\n",
            "              precision          recall         F\n",
            "LEVEL 0:    12.8959(57/442) 11.8998(57/479) 12.3779\n",
            "LEVEL 1:    12.2172(54/442) 11.2735(54/479) 11.7264\n",
            "LEVEL 2:    11.7647(52/442) 10.8559(52/479) 11.2921\n",
            "LEVEL 4:    11.7647(52/442) 10.8559(52/479) 11.2921\n",
            "PASS: run-cost-train.sh\n",
            "==================\n",
            "All 3 tests passed\n",
            "==================\n",
            "make[2]: Leaving directory '/tmp/mecab-0.996-ko-0.9.2/tests'\n",
            "make[1]: Leaving directory '/tmp/mecab-0.996-ko-0.9.2/tests'\n",
            "make[1]: Entering directory '/tmp/mecab-0.996-ko-0.9.2'\n",
            "make[1]: Leaving directory '/tmp/mecab-0.996-ko-0.9.2'\n",
            "Making install in src\n",
            "make[1]: Entering directory '/tmp/mecab-0.996-ko-0.9.2/src'\n",
            "make[2]: Entering directory '/tmp/mecab-0.996-ko-0.9.2/src'\n",
            "test -z \"/usr/local/lib\" || /bin/mkdir -p \"/usr/local/lib\"\n",
            " /bin/bash ../libtool   --mode=install /usr/bin/install -c   libmecab.la '/usr/local/lib'\n",
            "libtool: install: /usr/bin/install -c .libs/libmecab.so.2.0.0 /usr/local/lib/libmecab.so.2.0.0\n",
            "libtool: install: (cd /usr/local/lib && { ln -s -f libmecab.so.2.0.0 libmecab.so.2 || { rm -f libmecab.so.2 && ln -s libmecab.so.2.0.0 libmecab.so.2; }; })\n",
            "libtool: install: (cd /usr/local/lib && { ln -s -f libmecab.so.2.0.0 libmecab.so || { rm -f libmecab.so && ln -s libmecab.so.2.0.0 libmecab.so; }; })\n",
            "libtool: install: /usr/bin/install -c .libs/libmecab.lai /usr/local/lib/libmecab.la\n",
            "libtool: install: /usr/bin/install -c .libs/libmecab.a /usr/local/lib/libmecab.a\n",
            "libtool: install: chmod 644 /usr/local/lib/libmecab.a\n",
            "libtool: install: ranlib /usr/local/lib/libmecab.a\n",
            "libtool: finish: PATH=\"/usr/local/sbin:/usr/local/bin:/usr/sbin:/usr/bin:/sbin:/bin:/snap/bin:/sbin\" ldconfig -n /usr/local/lib\n",
            "----------------------------------------------------------------------\n",
            "Libraries have been installed in:\n",
            "   /usr/local/lib\n",
            "\n",
            "If you ever happen to want to link against installed libraries\n",
            "in a given directory, LIBDIR, you must either use libtool, and\n",
            "specify the full pathname of the library, or use the `-LLIBDIR'\n",
            "flag during linking and do at least one of the following:\n",
            "   - add LIBDIR to the `LD_LIBRARY_PATH' environment variable\n",
            "     during execution\n",
            "   - add LIBDIR to the `LD_RUN_PATH' environment variable\n",
            "     during linking\n",
            "   - use the `-Wl,-rpath -Wl,LIBDIR' linker flag\n",
            "   - have your system administrator add LIBDIR to `/etc/ld.so.conf'\n",
            "\n",
            "See any operating system documentation about shared libraries for\n",
            "more information, such as the ld(1) and ld.so(8) manual pages.\n",
            "----------------------------------------------------------------------\n",
            "test -z \"/usr/local/bin\" || /bin/mkdir -p \"/usr/local/bin\"\n",
            "  /bin/bash ../libtool   --mode=install /usr/bin/install -c mecab '/usr/local/bin'\n",
            "libtool: install: /usr/bin/install -c .libs/mecab /usr/local/bin/mecab\n",
            "test -z \"/usr/local/libexec/mecab\" || /bin/mkdir -p \"/usr/local/libexec/mecab\"\n",
            "  /bin/bash ../libtool   --mode=install /usr/bin/install -c mecab-dict-index mecab-dict-gen mecab-cost-train mecab-system-eval mecab-test-gen '/usr/local/libexec/mecab'\n",
            "libtool: install: /usr/bin/install -c .libs/mecab-dict-index /usr/local/libexec/mecab/mecab-dict-index\n",
            "libtool: install: /usr/bin/install -c .libs/mecab-dict-gen /usr/local/libexec/mecab/mecab-dict-gen\n",
            "libtool: install: /usr/bin/install -c .libs/mecab-cost-train /usr/local/libexec/mecab/mecab-cost-train\n",
            "libtool: install: /usr/bin/install -c .libs/mecab-system-eval /usr/local/libexec/mecab/mecab-system-eval\n",
            "libtool: install: /usr/bin/install -c .libs/mecab-test-gen /usr/local/libexec/mecab/mecab-test-gen\n",
            "test -z \"/usr/local/include\" || /bin/mkdir -p \"/usr/local/include\"\n",
            " /usr/bin/install -c -m 644 mecab.h '/usr/local/include'\n",
            "make[2]: Leaving directory '/tmp/mecab-0.996-ko-0.9.2/src'\n",
            "make[1]: Leaving directory '/tmp/mecab-0.996-ko-0.9.2/src'\n",
            "Making install in man\n",
            "make[1]: Entering directory '/tmp/mecab-0.996-ko-0.9.2/man'\n",
            "make[2]: Entering directory '/tmp/mecab-0.996-ko-0.9.2/man'\n",
            "make[2]: Nothing to be done for 'install-exec-am'.\n",
            "test -z \"/usr/local/share/man/man1\" || /bin/mkdir -p \"/usr/local/share/man/man1\"\n",
            " /usr/bin/install -c -m 644 mecab.1 '/usr/local/share/man/man1'\n",
            "make[2]: Leaving directory '/tmp/mecab-0.996-ko-0.9.2/man'\n",
            "make[1]: Leaving directory '/tmp/mecab-0.996-ko-0.9.2/man'\n",
            "Making install in doc\n",
            "make[1]: Entering directory '/tmp/mecab-0.996-ko-0.9.2/doc'\n",
            "make[2]: Entering directory '/tmp/mecab-0.996-ko-0.9.2/doc'\n",
            "make[2]: Nothing to be done for 'install-exec-am'.\n",
            "make[2]: Nothing to be done for 'install-data-am'.\n",
            "make[2]: Leaving directory '/tmp/mecab-0.996-ko-0.9.2/doc'\n",
            "make[1]: Leaving directory '/tmp/mecab-0.996-ko-0.9.2/doc'\n",
            "Making install in tests\n",
            "make[1]: Entering directory '/tmp/mecab-0.996-ko-0.9.2/tests'\n",
            "make[2]: Entering directory '/tmp/mecab-0.996-ko-0.9.2/tests'\n",
            "make[2]: Nothing to be done for 'install-exec-am'.\n",
            "make[2]: Nothing to be done for 'install-data-am'.\n",
            "make[2]: Leaving directory '/tmp/mecab-0.996-ko-0.9.2/tests'\n",
            "make[1]: Leaving directory '/tmp/mecab-0.996-ko-0.9.2/tests'\n",
            "make[1]: Entering directory '/tmp/mecab-0.996-ko-0.9.2'\n",
            "make[2]: Entering directory '/tmp/mecab-0.996-ko-0.9.2'\n",
            "test -z \"/usr/local/bin\" || /bin/mkdir -p \"/usr/local/bin\"\n",
            " /usr/bin/install -c mecab-config '/usr/local/bin'\n",
            "test -z \"/usr/local/etc\" || /bin/mkdir -p \"/usr/local/etc\"\n",
            " /usr/bin/install -c -m 644 mecabrc '/usr/local/etc'\n",
            "make[2]: Leaving directory '/tmp/mecab-0.996-ko-0.9.2'\n",
            "make[1]: Leaving directory '/tmp/mecab-0.996-ko-0.9.2'\n",
            "Install mecab-ko-dic\n",
            "Install mecab-ko-dic\n",
            "  % Total    % Received % Xferd  Average Speed   Time    Time     Time  Current\n",
            "                                 Dload  Upload   Total   Spent    Left  Speed\n",
            "  0     0    0     0    0     0      0      0 --:--:-- --:--:-- --:--:--     0\n",
            "100 47.4M  100 47.4M    0     0  21.4M      0  0:00:02  0:00:02 --:--:-- 45.5M\n",
            "mecab-ko-dic-2.1.1-20180720/\n",
            "mecab-ko-dic-2.1.1-20180720/configure\n",
            "mecab-ko-dic-2.1.1-20180720/COPYING\n",
            "mecab-ko-dic-2.1.1-20180720/autogen.sh\n",
            "mecab-ko-dic-2.1.1-20180720/Place-station.csv\n",
            "mecab-ko-dic-2.1.1-20180720/NNG.csv\n",
            "mecab-ko-dic-2.1.1-20180720/README\n",
            "mecab-ko-dic-2.1.1-20180720/EF.csv\n",
            "mecab-ko-dic-2.1.1-20180720/MAG.csv\n",
            "mecab-ko-dic-2.1.1-20180720/Preanalysis.csv\n",
            "mecab-ko-dic-2.1.1-20180720/NNB.csv\n",
            "mecab-ko-dic-2.1.1-20180720/Person-actor.csv\n",
            "mecab-ko-dic-2.1.1-20180720/VV.csv\n",
            "mecab-ko-dic-2.1.1-20180720/Makefile.in\n",
            "mecab-ko-dic-2.1.1-20180720/matrix.def\n",
            "mecab-ko-dic-2.1.1-20180720/EC.csv\n",
            "mecab-ko-dic-2.1.1-20180720/NNBC.csv\n",
            "mecab-ko-dic-2.1.1-20180720/clean\n",
            "mecab-ko-dic-2.1.1-20180720/ChangeLog\n",
            "mecab-ko-dic-2.1.1-20180720/J.csv\n",
            "mecab-ko-dic-2.1.1-20180720/.keep\n",
            "mecab-ko-dic-2.1.1-20180720/feature.def\n",
            "mecab-ko-dic-2.1.1-20180720/Foreign.csv\n",
            "mecab-ko-dic-2.1.1-20180720/XPN.csv\n",
            "mecab-ko-dic-2.1.1-20180720/EP.csv\n",
            "mecab-ko-dic-2.1.1-20180720/NR.csv\n",
            "mecab-ko-dic-2.1.1-20180720/left-id.def\n",
            "mecab-ko-dic-2.1.1-20180720/Place.csv\n",
            "mecab-ko-dic-2.1.1-20180720/Symbol.csv\n",
            "mecab-ko-dic-2.1.1-20180720/dicrc\n",
            "mecab-ko-dic-2.1.1-20180720/NP.csv\n",
            "mecab-ko-dic-2.1.1-20180720/ETM.csv\n",
            "mecab-ko-dic-2.1.1-20180720/IC.csv\n",
            "mecab-ko-dic-2.1.1-20180720/Place-address.csv\n",
            "mecab-ko-dic-2.1.1-20180720/Group.csv\n",
            "mecab-ko-dic-2.1.1-20180720/model.def\n",
            "mecab-ko-dic-2.1.1-20180720/XSN.csv\n",
            "mecab-ko-dic-2.1.1-20180720/INSTALL\n",
            "mecab-ko-dic-2.1.1-20180720/rewrite.def\n",
            "mecab-ko-dic-2.1.1-20180720/Inflect.csv\n",
            "mecab-ko-dic-2.1.1-20180720/configure.ac\n",
            "mecab-ko-dic-2.1.1-20180720/NNP.csv\n",
            "mecab-ko-dic-2.1.1-20180720/CoinedWord.csv\n",
            "mecab-ko-dic-2.1.1-20180720/XSV.csv\n",
            "mecab-ko-dic-2.1.1-20180720/pos-id.def\n",
            "mecab-ko-dic-2.1.1-20180720/Makefile.am\n",
            "mecab-ko-dic-2.1.1-20180720/unk.def\n",
            "mecab-ko-dic-2.1.1-20180720/missing\n",
            "mecab-ko-dic-2.1.1-20180720/VCP.csv\n",
            "mecab-ko-dic-2.1.1-20180720/install-sh\n",
            "mecab-ko-dic-2.1.1-20180720/Hanja.csv\n",
            "mecab-ko-dic-2.1.1-20180720/MAJ.csv\n",
            "mecab-ko-dic-2.1.1-20180720/XSA.csv\n",
            "mecab-ko-dic-2.1.1-20180720/Wikipedia.csv\n",
            "mecab-ko-dic-2.1.1-20180720/tools/\n",
            "mecab-ko-dic-2.1.1-20180720/tools/add-userdic.sh\n",
            "mecab-ko-dic-2.1.1-20180720/tools/mecab-bestn.sh\n",
            "mecab-ko-dic-2.1.1-20180720/tools/convert_for_using_store.sh\n",
            "mecab-ko-dic-2.1.1-20180720/user-dic/\n",
            "mecab-ko-dic-2.1.1-20180720/user-dic/nnp.csv\n",
            "mecab-ko-dic-2.1.1-20180720/user-dic/place.csv\n",
            "mecab-ko-dic-2.1.1-20180720/user-dic/person.csv\n",
            "mecab-ko-dic-2.1.1-20180720/user-dic/README.md\n",
            "mecab-ko-dic-2.1.1-20180720/NorthKorea.csv\n",
            "mecab-ko-dic-2.1.1-20180720/VX.csv\n",
            "mecab-ko-dic-2.1.1-20180720/right-id.def\n",
            "mecab-ko-dic-2.1.1-20180720/VA.csv\n",
            "mecab-ko-dic-2.1.1-20180720/char.def\n",
            "mecab-ko-dic-2.1.1-20180720/NEWS\n",
            "mecab-ko-dic-2.1.1-20180720/MM.csv\n",
            "mecab-ko-dic-2.1.1-20180720/ETN.csv\n",
            "mecab-ko-dic-2.1.1-20180720/AUTHORS\n",
            "mecab-ko-dic-2.1.1-20180720/Person.csv\n",
            "mecab-ko-dic-2.1.1-20180720/XR.csv\n",
            "mecab-ko-dic-2.1.1-20180720/VCN.csv\n",
            "Looking in current directory for macros.\n",
            "configure.ac:2: warning: AM_INIT_AUTOMAKE: two- and three-arguments forms are deprecated.  For more info, see:\n",
            "configure.ac:2: http://www.gnu.org/software/automake/manual/automake.html#Modernize-AM_005fINIT_005fAUTOMAKE-invocation\n",
            "checking for a BSD-compatible install... /usr/bin/install -c\n",
            "checking whether build environment is sane... yes\n",
            "/tmp/mecab-ko-dic-2.1.1-20180720/missing: Unknown `--is-lightweight' option\n",
            "Try `/tmp/mecab-ko-dic-2.1.1-20180720/missing --help' for more information\n",
            "configure: WARNING: 'missing' script is too old or missing\n",
            "checking for a thread-safe mkdir -p... /bin/mkdir -p\n",
            "checking for gawk... no\n",
            "checking for mawk... mawk\n",
            "checking whether make sets $(MAKE)... yes\n",
            "checking whether make supports nested variables... yes\n",
            "checking for mecab-config... /usr/local/bin/mecab-config\n",
            "checking that generated files are newer than configure... done\n",
            "configure: creating ./config.status\n",
            "config.status: creating Makefile\n",
            "/usr/local/lib\n",
            "/sbin/ldconfig.real: /usr/local/lib/python3.7/dist-packages/ideep4py/lib/libmkldnn.so.0 is not a symbolic link\n",
            "\n",
            "/usr/local/libexec/mecab/mecab-dict-index -d . -o . -f UTF-8 -t UTF-8\n",
            "reading ./unk.def ... 13\n",
            "emitting double-array: 100% |###########################################| \n",
            "reading ./Place-address.csv ... 19301\n",
            "reading ./ETN.csv ... 14\n",
            "reading ./Inflect.csv ... 44820\n",
            "reading ./Foreign.csv ... 11690\n",
            "reading ./MAG.csv ... 14242\n",
            "reading ./VV.csv ... 7331\n",
            "reading ./ETM.csv ... 133\n",
            "reading ./Place.csv ... 30303\n",
            "reading ./NP.csv ... 342\n",
            "reading ./XR.csv ... 3637\n",
            "reading ./EP.csv ... 51\n",
            "reading ./NNBC.csv ... 677\n",
            "reading ./Person-actor.csv ... 99230\n",
            "reading ./EF.csv ... 1820\n",
            "reading ./XSN.csv ... 124\n",
            "reading ./NNG.csv ... 208524\n",
            "reading ./Symbol.csv ... 16\n",
            "reading ./XSA.csv ... 19\n",
            "reading ./Preanalysis.csv ... 5\n",
            "reading ./Person.csv ... 196459\n",
            "reading ./NorthKorea.csv ... 3\n",
            "reading ./XPN.csv ... 83\n",
            "reading ./XSV.csv ... 23\n",
            "reading ./VX.csv ... 125\n",
            "reading ./MAJ.csv ... 240\n",
            "reading ./CoinedWord.csv ... 148\n",
            "reading ./VA.csv ... 2360\n",
            "reading ./Wikipedia.csv ... 36762\n",
            "reading ./Place-station.csv ... 1145\n",
            "reading ./MM.csv ... 453\n",
            "reading ./Group.csv ... 3176\n",
            "reading ./NR.csv ... 482\n",
            "reading ./NNB.csv ... 140\n",
            "reading ./Hanja.csv ... 125750\n",
            "reading ./IC.csv ... 1305\n",
            "reading ./J.csv ... 416\n",
            "reading ./NNP.csv ... 2371\n",
            "reading ./EC.csv ... 2547\n",
            "reading ./VCP.csv ... 9\n",
            "reading ./VCN.csv ... 7\n",
            "emitting double-array: 100% |###########################################| \n",
            "reading ./matrix.def ... 3822x2693\n",
            "emitting matrix      : 100% |###########################################| \n",
            "\n",
            "done!\n",
            "echo To enable dictionary, rewrite /usr/local/etc/mecabrc as \\\"dicdir = /usr/local/lib/mecab/dic/mecab-ko-dic\\\"\n",
            "To enable dictionary, rewrite /usr/local/etc/mecabrc as \"dicdir = /usr/local/lib/mecab/dic/mecab-ko-dic\"\n",
            "make[1]: Entering directory '/tmp/mecab-ko-dic-2.1.1-20180720'\n",
            "make[1]: Nothing to be done for 'install-exec-am'.\n",
            " /bin/mkdir -p '/usr/local/lib/mecab/dic/mecab-ko-dic'\n",
            " /usr/bin/install -c -m 644 model.bin matrix.bin char.bin sys.dic unk.dic left-id.def right-id.def rewrite.def pos-id.def dicrc '/usr/local/lib/mecab/dic/mecab-ko-dic'\n",
            "make[1]: Leaving directory '/tmp/mecab-ko-dic-2.1.1-20180720'\n",
            "Install mecab-python\n",
            "/tmp /tmp/mecab-ko-dic-2.1.1-20180720\n",
            "Cloning into 'mecab-python-0.996'...\n",
            "remote: Counting objects: 17, done.\u001b[K\n",
            "remote: Compressing objects: 100% (16/16), done.\u001b[K\n",
            "remote: Total 17 (delta 3), reused 0 (delta 0)\u001b[K\n",
            "Unpacking objects: 100% (17/17), done.\n",
            "/tmp/mecab-ko-dic-2.1.1-20180720\n",
            "Processing /tmp/mecab-python-0.996\n",
            "Building wheels for collected packages: mecab-python\n",
            "  Building wheel for mecab-python (setup.py) ... \u001b[?25l\u001b[?25hdone\n",
            "  Created wheel for mecab-python: filename=mecab_python-0.996_ko_0.9.2-cp37-cp37m-linux_x86_64.whl size=141816 sha256=2d3b5f8ee43cf657f12ae7800ef322762defbd7c4826f8ef19a44b75c82c8f2e\n",
            "  Stored in directory: /root/.cache/pip/wheels/99/75/a6/e9e73a1dbd73579383644942ef18a6d17ad728a3052a1147fb\n",
            "Successfully built mecab-python\n",
            "Installing collected packages: mecab-python\n",
            "Successfully installed mecab-python-0.996-ko-0.9.2\n",
            "Done.\n"
          ],
          "name": "stdout"
        }
      ]
    },
    {
      "cell_type": "code",
      "metadata": {
        "colab": {
          "base_uri": "https://localhost:8080/"
        },
        "id": "I_XDmnXdMxIx",
        "outputId": "e824935c-edd7-4001-bf80-388cc09333c8"
      },
      "source": [
        "from konlpy.tag import Mecab\n",
        "\n",
        "mecab = Mecab()\n",
        "morphs = mecab.pos(\"아버지가방에들어가신다.\", join=False)\n",
        "print(morphs)"
      ],
      "execution_count": null,
      "outputs": [
        {
          "output_type": "stream",
          "text": [
            "[('아버지', 'NNG'), ('가', 'JKS'), ('방', 'NNG'), ('에', 'JKB'), ('들어가', 'VV'), ('신다', 'EP+EF'), ('.', 'SF')]\n"
          ],
          "name": "stdout"
        }
      ]
    },
    {
      "cell_type": "markdown",
      "metadata": {
        "id": "QF8FVJ0HNRF0"
      },
      "source": [
        "## Filtering"
      ]
    },
    {
      "cell_type": "code",
      "metadata": {
        "id": "fGG7qAwWMj9u"
      },
      "source": [
        "def morph_filter(texts):\n",
        "    \"\"\"\n",
        "    명사(NN), 동사(V), 형용사(J)의 포함 여부에 따라 문장 필터링\n",
        "    \"\"\"\n",
        "    NN_TAGS = [\"NNG\", \"NNP\", \"NNB\", \"NP\"]\n",
        "    V_TAGS = [\"VV\", \"VA\", \"VX\", \"VCP\", \"VCN\", \"XSN\", \"XSA\", \"XSV\"]\n",
        "    J_TAGS = [\"JKS\", \"J\", \"JO\", \"JK\", \"JKC\", \"JKG\", \"JKB\", \"JKV\", \"JKQ\", \"JX\", \"JC\", \"JKI\", \"JKO\", \"JKM\", \"ETM\"]\n",
        "\n",
        "    preprocessed_text = []\n",
        "    for text in texts:\n",
        "        morphs = mecab.pos(text, join=False)\n",
        "\n",
        "        nn_flag = False\n",
        "        v_flag = False\n",
        "        j_flag = False\n",
        "        for morph in morphs:\n",
        "            pos_tags = morph[1].split(\"+\")\n",
        "            for pos_tag in pos_tags:\n",
        "                if not nn_flag and pos_tag in NN_TAGS:\n",
        "                    nn_flag = True\n",
        "                if not v_flag and pos_tag in V_TAGS:\n",
        "                    v_flag = True\n",
        "                if not j_flag and pos_tag in J_TAGS:\n",
        "                    j_flag = True\n",
        "            if nn_flag and v_flag and j_flag:\n",
        "                preprocessed_text.append(text)\n",
        "                break\n",
        "    return preprocessed_text"
      ],
      "execution_count": null,
      "outputs": []
    },
    {
      "cell_type": "code",
      "metadata": {
        "colab": {
          "base_uri": "https://localhost:8080/"
        },
        "id": "hKzTuww3NuAg",
        "outputId": "a661c231-1450-469c-c0b3-db242c51d544"
      },
      "source": [
        "sents = morph_filter(sents)\n",
        "for i, sent in enumerate(sents):\n",
        "    print(i, sent)"
      ],
      "execution_count": null,
      "outputs": [
        {
          "output_type": "stream",
          "text": [
            "0 이하 뉴스1&인공지능 알파고(AlphaGo)를 상대로 첫 승리를 거둔 이세돌 9단\n",
            "1 이하 뉴스1 인공지능 알파고(AlphaGo)를 상대로 첫 승리를 거둔 이세돌 9단의 사진이 화제다.\n",
            "2 13일 서울 광화문 포시즌스 호텔에서 열린 '구글 딥마인드 챌린지 매치'에서 이세돌 9단은 알파고와의 제4국에서 승리했다.\n",
            "3 이날 대국장을 빠져나가는 이세돌 9단의 모습이 사진에 포착됐다.\n",
            "4 이세돌 9단은 상의 주머니에 양손을 넣고 옅은 미소를 지었다.\n",
            "5 이 사진은 SNS에서 화제를 모았다.\n",
            "6 오늘 알파고에게 승리하고 대국장 빠져나가는 이세돌이라는데ㅋㅋ 포토제닉ㅋㅋ 이대로 헐리웃 영화 만들어지고 포스터 소취요 조드윅 앓는 서린 2016년 3월 13일대국을 마친 뒤, 이세돌 9단은 \"한판 이겼는데 이렇게까지 축하를 받아보는 것은 처음\"이라고 말했다.\n",
            "7 이세돌 9단은 기자회견장에도 함박 웃음을 감추지 못했다.\n",
            "8 '이 줄은 실제 뉴스(news)에 포함되지 않은 임시 데이터임을 알립니다 ... '\n"
          ],
          "name": "stdout"
        }
      ]
    },
    {
      "cell_type": "code",
      "metadata": {
        "id": "VG06kTHsNx_O"
      },
      "source": [
        "def excluded_word_filter(excluded_words, texts):\n",
        "    \"\"\"\n",
        "    특정 단어를 포함하는 문장 필터링\n",
        "    \"\"\"\n",
        "    preprocessed_text = []\n",
        "    for text in texts:\n",
        "        include_flag = False\n",
        "        for word in excluded_words:\n",
        "            if word in text:\n",
        "                include_flag = True\n",
        "                break\n",
        "        if not include_flag:\n",
        "            preprocessed_text.append(text)\n",
        "    return preprocessed_text"
      ],
      "execution_count": null,
      "outputs": []
    },
    {
      "cell_type": "code",
      "metadata": {
        "id": "jN1bmgcNQOGv"
      },
      "source": [
        "excluded_words = [\"이하 뉴스1\", \"이 줄은 실제 뉴스\"]"
      ],
      "execution_count": null,
      "outputs": []
    },
    {
      "cell_type": "code",
      "metadata": {
        "colab": {
          "base_uri": "https://localhost:8080/"
        },
        "id": "mBtlvqFtQJcE",
        "outputId": "ec3f8b6a-30e6-470b-df37-3f9af380e721"
      },
      "source": [
        "sents = excluded_word_filter(excluded_words, sents)\n",
        "for i, sent in enumerate(sents):\n",
        "    print(i, sent)"
      ],
      "execution_count": null,
      "outputs": [
        {
          "output_type": "stream",
          "text": [
            "0 13일 서울 광화문 포시즌스 호텔에서 열린 '구글 딥마인드 챌린지 매치'에서 이세돌 9단은 알파고와의 제4국에서 승리했다.\n",
            "1 이날 대국장을 빠져나가는 이세돌 9단의 모습이 사진에 포착됐다.\n",
            "2 이세돌 9단은 상의 주머니에 양손을 넣고 옅은 미소를 지었다.\n",
            "3 이 사진은 SNS에서 화제를 모았다.\n",
            "4 오늘 알파고에게 승리하고 대국장 빠져나가는 이세돌이라는데ㅋㅋ 포토제닉ㅋㅋ 이대로 헐리웃 영화 만들어지고 포스터 소취요 조드윅 앓는 서린 2016년 3월 13일대국을 마친 뒤, 이세돌 9단은 \"한판 이겼는데 이렇게까지 축하를 받아보는 것은 처음\"이라고 말했다.\n",
            "5 이세돌 9단은 기자회견장에도 함박 웃음을 감추지 못했다.\n"
          ],
          "name": "stdout"
        }
      ]
    },
    {
      "cell_type": "code",
      "metadata": {
        "id": "atfxB7i8i2kg"
      },
      "source": [
        "def remove_stopwords(sents):\n",
        "    #  큰 의미가 없는 불용어 정의\n",
        "    stopwords = ['소취요', '-', '조드윅', '포스터', '앓는', '서린']\n",
        "    preprocessed_text = []\n",
        "    for sent in sents:\n",
        "        sent = [w for w in sent.split(' ') if w not in stopwords]# 불용어 제거\n",
        "        preprocessed_text.append(' '.join(sent))\n",
        "    return preprocessed_text"
      ],
      "execution_count": null,
      "outputs": []
    },
    {
      "cell_type": "code",
      "metadata": {
        "colab": {
          "base_uri": "https://localhost:8080/"
        },
        "id": "RW1SXJlFi7j8",
        "outputId": "cdbab413-d08a-47c4-8338-396115f8ac54"
      },
      "source": [
        "sents_ = remove_stopwords(sents)\n",
        "for i, sent in enumerate(sents_):\n",
        "    print(i, sent)"
      ],
      "execution_count": null,
      "outputs": [
        {
          "output_type": "stream",
          "text": [
            "0 13일 서울 광화문 포시즌스 호텔에서 열린 '구글 딥마인드 챌린지 매치'에서 이세돌 9단은 알파고와의 제4국에서 승리했다.\n",
            "1 이날 대국장을 빠져나가는 이세돌 9단의 모습이 사진에 포착됐다.\n",
            "2 이세돌 9단은 상의 주머니에 양손을 넣고 옅은 미소를 지었다.\n",
            "3 이 사진은 SNS에서 화제를 모았다.\n",
            "4 오늘 알파고에게 승리하고 대국장 빠져나가는 이세돌이라는데ㅋㅋ 포토제닉ㅋㅋ 이대로 헐리웃 영화 만들어지고 2016년 3월 13일대국을 마친 뒤, 이세돌 9단은 \"한판 이겼는데 이렇게까지 축하를 받아보는 것은 처음\"이라고 말했다.\n",
            "5 이세돌 9단은 기자회견장에도 함박 웃음을 감추지 못했다.\n"
          ],
          "name": "stdout"
        }
      ]
    },
    {
      "cell_type": "code",
      "metadata": {
        "id": "k8h-rZkuQVLs"
      },
      "source": [
        "def min_max_filter(min_len, max_len, texts):\n",
        "    \"\"\"\n",
        "    문장을 최대, 최소 길이로 필터링합니다.\n",
        "    \"\"\"\n",
        "    preprocessed_text = []\n",
        "    for text in texts:\n",
        "        if min_len < len(text) and len(text) < max_len:\n",
        "            preprocessed_text.append(text)\n",
        "    return preprocessed_text"
      ],
      "execution_count": null,
      "outputs": []
    },
    {
      "cell_type": "markdown",
      "metadata": {
        "id": "h0GkYAYZ8uOq"
      },
      "source": [
        "최종 결과입니다! :-)   \n",
        "처음에 비하면 많이 이뻐졌죠?   "
      ]
    },
    {
      "cell_type": "code",
      "metadata": {
        "colab": {
          "base_uri": "https://localhost:8080/"
        },
        "id": "hGrPe1_kRQ3j",
        "outputId": "87b43aa3-a0c2-4ed4-9d4a-87f5ec51c7e8"
      },
      "source": [
        "sents_ = min_max_filter(min_len=5, max_len=70, texts=sents)\n",
        "for i, sent in enumerate(sents_):\n",
        "    print(i, sent)"
      ],
      "execution_count": null,
      "outputs": [
        {
          "output_type": "stream",
          "text": [
            "0 13일 서울 광화문 포시즌스 호텔에서 열린 '구글 딥마인드 챌린지 매치'에서 이세돌 9단은 알파고와의 제4국에서 승리했다.\n",
            "1 이날 대국장을 빠져나가는 이세돌 9단의 모습이 사진에 포착됐다.\n",
            "2 이세돌 9단은 상의 주머니에 양손을 넣고 옅은 미소를 지었다.\n",
            "3 이 사진은 SNS에서 화제를 모았다.\n",
            "4 이세돌 9단은 기자회견장에도 함박 웃음을 감추지 못했다.\n"
          ],
          "name": "stdout"
        }
      ]
    },
    {
      "cell_type": "markdown",
      "metadata": {
        "id": "0IAlzMS_h0mH"
      },
      "source": [
        "## 유니코드 기반으로 filtering"
      ]
    },
    {
      "cell_type": "markdown",
      "metadata": {
        "id": "vHqcv0YGh4ze"
      },
      "source": [
        "1. 유니코드란?\n",
        "> 유니코드(Unicode)는 전 세계의 모든 문자를 컴퓨터에서 일관되게 표현하고 다룰 수 있도록 설계된 산업 표준이며, 유니코드 협회(Unicode Consortium)가 제정한다. 또한 이 표준에는 ISO 10646 문자 집합, 문자 인코딩, 문자 정보 데이터베이스, 문자들을 다루기 위한 알고리즘 등을 포함하고 있다. - 위키피디아 -\n",
        "\n",
        "* 한국인들은 주로 영어, 한국어, 숫자들에 익숙해 있습니다. 그런데 갑자기 러시아어, 아랍어, 불어와 같은 언어들을 처리해야 한다면?!\n",
        "* 이런 고민을 유니코드를 사용하면 해결할 수 있습니다!\n",
        "* 이번 장에서는 간단하게 유니코드를 python 프로그래밍에서 사용하는 방법을 배우도록 하겠습니다."
      ]
    },
    {
      "cell_type": "markdown",
      "metadata": {
        "id": "dBkhKh_KiAz4"
      },
      "source": [
        "2. 유니코드 표현\n",
        "* 유니코드는 16진수로 표현되어 있습니다. 간단한 예제를 통해 알아보겠습니다.\n",
        "* 다양한 언어와 문자에 대한 유니코드는 https://jrgraphix.net/r/Unicode/0020-007F 이 사이트에서 쉽게 확인 가능합니다."
      ]
    },
    {
      "cell_type": "code",
      "metadata": {
        "id": "1VugPgRtRXl3",
        "colab": {
          "base_uri": "https://localhost:8080/"
        },
        "outputId": "9aa1efed-a075-4dfe-b85a-839113cde5b7"
      },
      "source": [
        "sentence = 'hello world'\n",
        "\n",
        "print('* 원본 문장')\n",
        "print(sentence)\n",
        "\n",
        "print('\\n* 10진수로 표현된 유니코드')\n",
        "for w in sentence:\n",
        "  print(ord(w), end=' ') # 문자 -> 10진수 변환\n",
        "\n",
        "print('\\n\\n* 16진수로 표현된 유니코드')\n",
        "for w in sentence:\n",
        "  print(hex(ord(w)), end=' ') # 문자 -> 16진수 변환"
      ],
      "execution_count": null,
      "outputs": [
        {
          "output_type": "stream",
          "text": [
            "* 원본 문장\n",
            "hello world\n",
            "\n",
            "* 10진수로 표현된 유니코드\n",
            "104 101 108 108 111 32 119 111 114 108 100 \n",
            "\n",
            "* 16진수로 표현된 유니코드\n",
            "0x68 0x65 0x6c 0x6c 0x6f 0x20 0x77 0x6f 0x72 0x6c 0x64 "
          ],
          "name": "stdout"
        }
      ]
    },
    {
      "cell_type": "code",
      "metadata": {
        "colab": {
          "base_uri": "https://localhost:8080/"
        },
        "id": "a_b-_yDHiFm0",
        "outputId": "80c0be42-8f09-4579-feee-ae3a78598618"
      },
      "source": [
        "range_s = int('0370',16) # 그리스 문자 유니코드 범위\n",
        "range_e = int('03FF',16) # 16진수 -> 10진수 변환\n",
        "\n",
        "for i in range(range_s, range_e + 1): # \n",
        "  print(chr(i), end=' ')"
      ],
      "execution_count": null,
      "outputs": [
        {
          "output_type": "stream",
          "text": [
            "Ͱ ͱ Ͳ ͳ ʹ ͵ Ͷ ͷ ͸ ͹ ͺ ͻ ͼ ͽ ; Ϳ ΀ ΁ ΂ ΃ ΄ ΅ Ά · Έ Ή Ί ΋ Ό ΍ Ύ Ώ ΐ Α Β Γ Δ Ε Ζ Η Θ Ι Κ Λ Μ Ν Ξ Ο Π Ρ ΢ Σ Τ Υ Φ Χ Ψ Ω Ϊ Ϋ ά έ ή ί ΰ α β γ δ ε ζ η θ ι κ λ μ ν ξ ο π ρ ς σ τ υ φ χ ψ ω ϊ ϋ ό ύ ώ Ϗ ϐ ϑ ϒ ϓ ϔ ϕ ϖ ϗ Ϙ ϙ Ϛ ϛ Ϝ ϝ Ϟ ϟ Ϡ ϡ Ϣ ϣ Ϥ ϥ Ϧ ϧ Ϩ ϩ Ϫ ϫ Ϭ ϭ Ϯ ϯ ϰ ϱ ϲ ϳ ϴ ϵ ϶ Ϸ ϸ Ϲ Ϻ ϻ ϼ Ͻ Ͼ Ͽ "
          ],
          "name": "stdout"
        }
      ]
    },
    {
      "cell_type": "markdown",
      "metadata": {
        "id": "CPvjxn0xh_kA"
      },
      "source": [
        "* 유니코드의 범위를 안다면 쉽게, 출력도 가능하다.\n",
        "* 15번째 문자를 보면 세미콜론(;)과 유사하기로 악명을 떨친 그리스어 ; 가 있다.\n",
        "* 유니코드를 이용한다면 쉽게 그리스어 ; 검출도 가능하다!"
      ]
    },
    {
      "cell_type": "markdown",
      "metadata": {
        "id": "SHMY8IJ4iNMU"
      },
      "source": [
        "![image.png](data:image/png;base64,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)"
      ]
    },
    {
      "cell_type": "markdown",
      "metadata": {
        "id": "e51Kw1LxiOvq"
      },
      "source": [
        "* hello world에 해당하는 유니코드들이 올바르게 표시 되었음을 확인할 수 있습니다.\n",
        "* 위와 같이 해당하는 언어들의 유니코드 범위를 안다면, 쉽게 다양한 언어들을 구별 할 수 있습니다."
      ]
    },
    {
      "cell_type": "markdown",
      "metadata": {
        "id": "33PEzd9NiSJJ"
      },
      "source": [
        "3. 유니코드 활용\n",
        "* 이번 장에서는 10진수, 16진수, ord()함수를 이용해 다양한 언어로 구성된 hello world 문장 속에서 특정 언어를 제거해 보도록 하겠습니다."
      ]
    },
    {
      "cell_type": "code",
      "metadata": {
        "id": "DEAxO3RtiJdW"
      },
      "source": [
        "def remove_language(range_s, range_e, sentence):\n",
        "    a = int(range_s, 16) # 16진수 -> 10진수 변환\n",
        "    b = int(range_e, 16)\n",
        "    return_sentence = ''\n",
        "    for i, w in enumerate(sentence):\n",
        "        if a<= ord(w) and ord(w) <= b:  # 음절 단위로 사전에 정의한 유니코드 범위 내에 존재하는가\n",
        "            continue\n",
        "        return_sentence+=w\n",
        "    return return_sentence"
      ],
      "execution_count": null,
      "outputs": []
    },
    {
      "cell_type": "code",
      "metadata": {
        "colab": {
          "base_uri": "https://localhost:8080/"
        },
        "id": "8nY2HlNbiUJ_",
        "outputId": "2de51ff8-bf31-44d3-9c67-40608a886e1f"
      },
      "source": [
        "sentence = 'hello world 안녕하세요 세계 مرحبا بالعالم  Hallo Welt Chào thế giới Привет, мир'\n",
        "# 영어 한국어 아랍어 독일어 베트남어 러시아어\n",
        "# 구글번역기 이용\n",
        "print(sentence)"
      ],
      "execution_count": null,
      "outputs": [
        {
          "output_type": "stream",
          "text": [
            "hello world 안녕하세요 세계 مرحبا بالعالم  Hallo Welt Chào thế giới Привет, мир\n"
          ],
          "name": "stdout"
        }
      ]
    },
    {
      "cell_type": "code",
      "metadata": {
        "colab": {
          "base_uri": "https://localhost:8080/"
        },
        "id": "p2dxg82iibU2",
        "outputId": "80841ec6-936c-482b-e0b0-3c8e20f9690e"
      },
      "source": [
        "print(remove_language('0600','06FF',sentence)) # 아랍어 제거, 아랍어의 유니코드 범위 0600 ~ 06FF"
      ],
      "execution_count": null,
      "outputs": [
        {
          "output_type": "stream",
          "text": [
            "hello world 안녕하세요 세계    Hallo Welt Chào thế giới Привет, мир\n"
          ],
          "name": "stdout"
        }
      ]
    },
    {
      "cell_type": "code",
      "metadata": {
        "colab": {
          "base_uri": "https://localhost:8080/"
        },
        "id": "ML32NjwZicwI",
        "outputId": "981b2b40-7402-4045-e0ac-f52dbb9a00e1"
      },
      "source": [
        "print(remove_language('0400','04FF',sentence)) # 러시아어 제거, 러시아 키릴 문자의 유니코드 범위 0400 ~ 04FF"
      ],
      "execution_count": null,
      "outputs": [
        {
          "output_type": "stream",
          "text": [
            "hello world 안녕하세요 세계 مرحبا بالعالم  Hallo Welt Chào thế giới , \n"
          ],
          "name": "stdout"
        }
      ]
    },
    {
      "cell_type": "markdown",
      "metadata": {
        "id": "fZM8K1IHig2A"
      },
      "source": [
        "* 영어를 제거하려면 어떻게 해야할까?\n",
        "* 위에서 소개한 유니코드 사이트에서 Basic Latin 0020 ~ 007F 범위에 대소문자 알파벳이 있음을 알 수 있다. "
      ]
    },
    {
      "cell_type": "code",
      "metadata": {
        "colab": {
          "base_uri": "https://localhost:8080/"
        },
        "id": "1F32V12bid9L",
        "outputId": "909256be-f0a5-4080-c75d-c454951c2c82"
      },
      "source": [
        "print(remove_language('0020','007F',sentence)) # 알파벳 제거, 알파벳의 유니코드 범위 0020 ~ 007F"
      ],
      "execution_count": null,
      "outputs": [
        {
          "output_type": "stream",
          "text": [
            "안녕하세요세계مرحبابالعالمàếớПриветмир\n"
          ],
          "name": "stdout"
        }
      ]
    },
    {
      "cell_type": "markdown",
      "metadata": {
        "id": "r4C_NlKOik5j"
      },
      "source": [
        "* 주의해야할 점을 눈치 채셨나요?\n",
        "* 먼저 영어, 독일어, 베트남어 일부는 같은 유니코드 체계를 이용해 표현됩니다.\n",
        "* 두번째로, 유니코드 범위에 공백을 표현하는 유니코드가 속해 있을 수 있어, 원하지 않게 띄어쓰기를 제거하게 됩니다.\n",
        "* 이런 점들을 고려해, 독립된 유니코드를 사용하는 언어인지, 유니코드에서 띄어쓰기 혹은 특수문자들에 대해서도 원하는 목적을 위해 적절히 예외처리를 해주셔야합니다."
      ]
    },
    {
      "cell_type": "code",
      "metadata": {
        "id": "zwvSKNfyiiwd"
      },
      "source": [
        ""
      ],
      "execution_count": null,
      "outputs": []
    }
  ]
}