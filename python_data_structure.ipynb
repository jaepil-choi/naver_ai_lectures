{
 "cells": [
  {
   "cell_type": "markdown",
   "metadata": {},
   "source": [
    "# Python Data Structure\n",
    "\n",
    "## Stack\n",
    "\n",
    "## Queue\n",
    "\n",
    "## Tuple\n",
    "\n",
    "immutable하다. hashable하다. "
   ]
  },
  {
   "cell_type": "code",
   "execution_count": 3,
   "metadata": {},
   "outputs": [
    {
     "ename": "TypeError",
     "evalue": "unhashable type: 'list'",
     "output_type": "error",
     "traceback": [
      "\u001b[1;31m---------------------------------------------------------------------------\u001b[0m",
      "\u001b[1;31mTypeError\u001b[0m                                 Traceback (most recent call last)",
      "\u001b[1;32m<ipython-input-3-703293f713c7>\u001b[0m in \u001b[0;36m<module>\u001b[1;34m\u001b[0m\n\u001b[0;32m      1\u001b[0m \u001b[0md\u001b[0m \u001b[1;33m=\u001b[0m \u001b[0mdict\u001b[0m\u001b[1;33m(\u001b[0m\u001b[1;33m)\u001b[0m\u001b[1;33m\u001b[0m\u001b[1;33m\u001b[0m\u001b[0m\n\u001b[1;32m----> 2\u001b[1;33m \u001b[0md\u001b[0m\u001b[1;33m[\u001b[0m \u001b[1;33m[\u001b[0m\u001b[1;36m1\u001b[0m\u001b[1;33m]\u001b[0m \u001b[1;33m]\u001b[0m \u001b[1;33m=\u001b[0m \u001b[1;36m1\u001b[0m\u001b[1;33m\u001b[0m\u001b[1;33m\u001b[0m\u001b[0m\n\u001b[0m",
      "\u001b[1;31mTypeError\u001b[0m: unhashable type: 'list'"
     ]
    }
   ],
   "source": [
    "d = dict()\n",
    "d[ [1] ] = 1"
   ]
  },
  {
   "cell_type": "code",
   "execution_count": 4,
   "metadata": {},
   "outputs": [],
   "source": [
    "d = dict()\n",
    "d[ (1,) ] = 1"
   ]
  },
  {
   "cell_type": "markdown",
   "metadata": {},
   "source": [
    "## Set\n",
    "\n",
    "mutable하다. \n",
    "\n",
    "immutable 하려면 `frozenset` 써야. "
   ]
  },
  {
   "cell_type": "code",
   "execution_count": 15,
   "metadata": {},
   "outputs": [
    {
     "data": {
      "text/plain": [
       "{1, 2, 3, 4}"
      ]
     },
     "execution_count": 15,
     "metadata": {},
     "output_type": "execute_result"
    }
   ],
   "source": [
    "s = {1, 2, 3}\n",
    "s.add(4)\n",
    "s"
   ]
  },
  {
   "cell_type": "markdown",
   "metadata": {},
   "source": [
    "## Dictionary\n",
    "\n",
    "hash table과 유사한 개념\n",
    "\n",
    "## `collections`\n",
    "\n",
    "built-in 확장 자료 구조 모듈"
   ]
  },
  {
   "cell_type": "code",
   "execution_count": 17,
   "metadata": {},
   "outputs": [],
   "source": [
    "from collections import deque, Counter, OrderedDict, defaultdict, namedtuple"
   ]
  },
  {
   "cell_type": "markdown",
   "metadata": {},
   "source": [
    "### `deque`\n",
    "\n",
    "linked list의 특성을 지원. "
   ]
  },
  {
   "cell_type": "code",
   "execution_count": 24,
   "metadata": {},
   "outputs": [
    {
     "data": {
      "text/plain": [
       "deque([0, 1, 2, 3, 4])"
      ]
     },
     "execution_count": 24,
     "metadata": {},
     "output_type": "execute_result"
    }
   ],
   "source": [
    "deque_dl = deque()\n",
    "\n",
    "for i in range(5):\n",
    "    deque_dl.append(i)\n",
    "\n",
    "deque_dl"
   ]
  },
  {
   "cell_type": "code",
   "execution_count": 25,
   "metadata": {},
   "outputs": [
    {
     "data": {
      "text/plain": [
       "deque([10, 0, 1, 2, 3, 4])"
      ]
     },
     "execution_count": 25,
     "metadata": {},
     "output_type": "execute_result"
    }
   ],
   "source": [
    "deque_dl.appendleft(10)\n",
    "deque_dl"
   ]
  },
  {
   "cell_type": "code",
   "execution_count": 26,
   "metadata": {},
   "outputs": [
    {
     "data": {
      "text/plain": [
       "deque([4, 10, 0, 1, 2, 3])"
      ]
     },
     "execution_count": 26,
     "metadata": {},
     "output_type": "execute_result"
    }
   ],
   "source": [
    "deque_dl.rotate(1) # circular한 것처럼 돌려준다. \n",
    "deque_dl"
   ]
  },
  {
   "cell_type": "markdown",
   "metadata": {},
   "source": [
    "### `OrderedDict`\n",
    "\n",
    "굳이 필요없다. 3.6부턴 dict가 순서를 보장한다. \n",
    "\n",
    "### `defaultdict`\n",
    "\n",
    "함수형태로 넣어줘야 한다. \n",
    "\n",
    "그냥 `.setdefault()`로도 비슷하게 구현할 순 있다. "
   ]
  },
  {
   "cell_type": "code",
   "execution_count": 46,
   "metadata": {},
   "outputs": [],
   "source": [
    "dd = defaultdict(lambda : 0)"
   ]
  },
  {
   "cell_type": "code",
   "execution_count": 47,
   "metadata": {},
   "outputs": [],
   "source": [
    "lorem_ipsum = \"Lorem ipsum dolor sit amet, consectetur adipiscing elit, sed do eiusmod tempor incididunt ut labore et dolore magna aliqua. Ut enim ad minim veniam, quis nostrud exercitation ullamco laboris nisi ut aliquip ex ea commodo consequat. Duis aute irure dolor in reprehenderit in voluptate velit esse cillum dolore eu fugiat nulla pariatur. Excepteur sint occaecat cupidatat non proident, sunt in culpa qui officia deserunt mollit anim id est laborum.\"\n",
    "words_l = lorem_ipsum.split()"
   ]
  },
  {
   "cell_type": "code",
   "execution_count": 48,
   "metadata": {},
   "outputs": [],
   "source": [
    "for word in words_l:\n",
    "    dd[word] += 1"
   ]
  },
  {
   "cell_type": "code",
   "execution_count": 49,
   "metadata": {},
   "outputs": [
    {
     "data": {
      "text/plain": [
       "defaultdict(<function __main__.<lambda>()>,\n",
       "            {'Lorem': 1,\n",
       "             'ipsum': 1,\n",
       "             'dolor': 2,\n",
       "             'sit': 1,\n",
       "             'amet,': 1,\n",
       "             'consectetur': 1,\n",
       "             'adipiscing': 1,\n",
       "             'elit,': 1,\n",
       "             'sed': 1,\n",
       "             'do': 1,\n",
       "             'eiusmod': 1,\n",
       "             'tempor': 1,\n",
       "             'incididunt': 1,\n",
       "             'ut': 2,\n",
       "             'labore': 1,\n",
       "             'et': 1,\n",
       "             'dolore': 2,\n",
       "             'magna': 1,\n",
       "             'aliqua.': 1,\n",
       "             'Ut': 1,\n",
       "             'enim': 1,\n",
       "             'ad': 1,\n",
       "             'minim': 1,\n",
       "             'veniam,': 1,\n",
       "             'quis': 1,\n",
       "             'nostrud': 1,\n",
       "             'exercitation': 1,\n",
       "             'ullamco': 1,\n",
       "             'laboris': 1,\n",
       "             'nisi': 1,\n",
       "             'aliquip': 1,\n",
       "             'ex': 1,\n",
       "             'ea': 1,\n",
       "             'commodo': 1,\n",
       "             'consequat.': 1,\n",
       "             'Duis': 1,\n",
       "             'aute': 1,\n",
       "             'irure': 1,\n",
       "             'in': 3,\n",
       "             'reprehenderit': 1,\n",
       "             'voluptate': 1,\n",
       "             'velit': 1,\n",
       "             'esse': 1,\n",
       "             'cillum': 1,\n",
       "             'eu': 1,\n",
       "             'fugiat': 1,\n",
       "             'nulla': 1,\n",
       "             'pariatur.': 1,\n",
       "             'Excepteur': 1,\n",
       "             'sint': 1,\n",
       "             'occaecat': 1,\n",
       "             'cupidatat': 1,\n",
       "             'non': 1,\n",
       "             'proident,': 1,\n",
       "             'sunt': 1,\n",
       "             'culpa': 1,\n",
       "             'qui': 1,\n",
       "             'officia': 1,\n",
       "             'deserunt': 1,\n",
       "             'mollit': 1,\n",
       "             'anim': 1,\n",
       "             'id': 1,\n",
       "             'est': 1,\n",
       "             'laborum.': 1})"
      ]
     },
     "execution_count": 49,
     "metadata": {},
     "output_type": "execute_result"
    }
   ],
   "source": [
    "dd"
   ]
  },
  {
   "cell_type": "code",
   "execution_count": 56,
   "metadata": {},
   "outputs": [],
   "source": [
    "d = dict()"
   ]
  },
  {
   "cell_type": "code",
   "execution_count": 57,
   "metadata": {},
   "outputs": [],
   "source": [
    "for word in words_l:\n",
    "    d[word] = d.setdefault(word, 0) + 1"
   ]
  },
  {
   "cell_type": "code",
   "execution_count": 58,
   "metadata": {},
   "outputs": [
    {
     "data": {
      "text/plain": [
       "{'Lorem': 1,\n",
       " 'ipsum': 1,\n",
       " 'dolor': 2,\n",
       " 'sit': 1,\n",
       " 'amet,': 1,\n",
       " 'consectetur': 1,\n",
       " 'adipiscing': 1,\n",
       " 'elit,': 1,\n",
       " 'sed': 1,\n",
       " 'do': 1,\n",
       " 'eiusmod': 1,\n",
       " 'tempor': 1,\n",
       " 'incididunt': 1,\n",
       " 'ut': 2,\n",
       " 'labore': 1,\n",
       " 'et': 1,\n",
       " 'dolore': 2,\n",
       " 'magna': 1,\n",
       " 'aliqua.': 1,\n",
       " 'Ut': 1,\n",
       " 'enim': 1,\n",
       " 'ad': 1,\n",
       " 'minim': 1,\n",
       " 'veniam,': 1,\n",
       " 'quis': 1,\n",
       " 'nostrud': 1,\n",
       " 'exercitation': 1,\n",
       " 'ullamco': 1,\n",
       " 'laboris': 1,\n",
       " 'nisi': 1,\n",
       " 'aliquip': 1,\n",
       " 'ex': 1,\n",
       " 'ea': 1,\n",
       " 'commodo': 1,\n",
       " 'consequat.': 1,\n",
       " 'Duis': 1,\n",
       " 'aute': 1,\n",
       " 'irure': 1,\n",
       " 'in': 3,\n",
       " 'reprehenderit': 1,\n",
       " 'voluptate': 1,\n",
       " 'velit': 1,\n",
       " 'esse': 1,\n",
       " 'cillum': 1,\n",
       " 'eu': 1,\n",
       " 'fugiat': 1,\n",
       " 'nulla': 1,\n",
       " 'pariatur.': 1,\n",
       " 'Excepteur': 1,\n",
       " 'sint': 1,\n",
       " 'occaecat': 1,\n",
       " 'cupidatat': 1,\n",
       " 'non': 1,\n",
       " 'proident,': 1,\n",
       " 'sunt': 1,\n",
       " 'culpa': 1,\n",
       " 'qui': 1,\n",
       " 'officia': 1,\n",
       " 'deserunt': 1,\n",
       " 'mollit': 1,\n",
       " 'anim': 1,\n",
       " 'id': 1,\n",
       " 'est': 1,\n",
       " 'laborum.': 1}"
      ]
     },
     "execution_count": 58,
     "metadata": {},
     "output_type": "execute_result"
    }
   ],
   "source": [
    "d"
   ]
  },
  {
   "cell_type": "markdown",
   "metadata": {},
   "source": [
    "### `Counter`\n",
    "\n",
    "`str`을 그냥 넣으면 각 문자의 갯수를 센다. \n",
    "\n",
    "`Counter`끼리 `set` 연산을 할 수도 있다. "
   ]
  },
  {
   "cell_type": "code",
   "execution_count": 59,
   "metadata": {},
   "outputs": [
    {
     "data": {
      "text/plain": [
       "Counter({'L': 1,\n",
       "         'o': 29,\n",
       "         'r': 22,\n",
       "         'e': 37,\n",
       "         'm': 17,\n",
       "         ' ': 68,\n",
       "         'i': 42,\n",
       "         'p': 11,\n",
       "         's': 18,\n",
       "         'u': 28,\n",
       "         'd': 18,\n",
       "         'l': 21,\n",
       "         't': 32,\n",
       "         'a': 29,\n",
       "         ',': 4,\n",
       "         'c': 16,\n",
       "         'n': 24,\n",
       "         'g': 3,\n",
       "         'b': 3,\n",
       "         'q': 5,\n",
       "         '.': 4,\n",
       "         'U': 1,\n",
       "         'v': 3,\n",
       "         'x': 3,\n",
       "         'D': 1,\n",
       "         'h': 1,\n",
       "         'f': 3,\n",
       "         'E': 1})"
      ]
     },
     "execution_count": 59,
     "metadata": {},
     "output_type": "execute_result"
    }
   ],
   "source": [
    "Counter(lorem_ipsum) "
   ]
  },
  {
   "cell_type": "code",
   "execution_count": 62,
   "metadata": {},
   "outputs": [
    {
     "data": {
      "text/plain": [
       "Counter({'Lorem': 1,\n",
       "         'ipsum': 1,\n",
       "         'dolor': 2,\n",
       "         'sit': 1,\n",
       "         'amet,': 1,\n",
       "         'consectetur': 1,\n",
       "         'adipiscing': 1,\n",
       "         'elit,': 1,\n",
       "         'sed': 1,\n",
       "         'do': 1,\n",
       "         'eiusmod': 1,\n",
       "         'tempor': 1,\n",
       "         'incididunt': 1,\n",
       "         'ut': 2,\n",
       "         'labore': 1,\n",
       "         'et': 1,\n",
       "         'dolore': 2,\n",
       "         'magna': 1,\n",
       "         'aliqua.': 1,\n",
       "         'Ut': 1,\n",
       "         'enim': 1,\n",
       "         'ad': 1,\n",
       "         'minim': 1,\n",
       "         'veniam,': 1,\n",
       "         'quis': 1,\n",
       "         'nostrud': 1,\n",
       "         'exercitation': 1,\n",
       "         'ullamco': 1,\n",
       "         'laboris': 1,\n",
       "         'nisi': 1,\n",
       "         'aliquip': 1,\n",
       "         'ex': 1,\n",
       "         'ea': 1,\n",
       "         'commodo': 1,\n",
       "         'consequat.': 1,\n",
       "         'Duis': 1,\n",
       "         'aute': 1,\n",
       "         'irure': 1,\n",
       "         'in': 3,\n",
       "         'reprehenderit': 1,\n",
       "         'voluptate': 1,\n",
       "         'velit': 1,\n",
       "         'esse': 1,\n",
       "         'cillum': 1,\n",
       "         'eu': 1,\n",
       "         'fugiat': 1,\n",
       "         'nulla': 1,\n",
       "         'pariatur.': 1,\n",
       "         'Excepteur': 1,\n",
       "         'sint': 1,\n",
       "         'occaecat': 1,\n",
       "         'cupidatat': 1,\n",
       "         'non': 1,\n",
       "         'proident,': 1,\n",
       "         'sunt': 1,\n",
       "         'culpa': 1,\n",
       "         'qui': 1,\n",
       "         'officia': 1,\n",
       "         'deserunt': 1,\n",
       "         'mollit': 1,\n",
       "         'anim': 1,\n",
       "         'id': 1,\n",
       "         'est': 1,\n",
       "         'laborum.': 1})"
      ]
     },
     "execution_count": 62,
     "metadata": {},
     "output_type": "execute_result"
    }
   ],
   "source": [
    "Counter(words_l)"
   ]
  },
  {
   "cell_type": "markdown",
   "metadata": {},
   "source": [
    "### `namedtuple`\n",
    "\n",
    "구조체로 만들어 데이터를 저장할 수 있는데 잘 안쓴다. "
   ]
  },
  {
   "cell_type": "code",
   "execution_count": 64,
   "metadata": {},
   "outputs": [
    {
     "data": {
      "text/plain": [
       "point(x=11, y=22)"
      ]
     },
     "execution_count": 64,
     "metadata": {},
     "output_type": "execute_result"
    }
   ],
   "source": [
    "point_nt = namedtuple('point', ['x', 'y'])\n",
    "p = point_nt(11, y=22)\n",
    "p"
   ]
  },
  {
   "cell_type": "code",
   "execution_count": 65,
   "metadata": {},
   "outputs": [
    {
     "data": {
      "text/plain": [
       "11"
      ]
     },
     "execution_count": 65,
     "metadata": {},
     "output_type": "execute_result"
    }
   ],
   "source": [
    "p[0]"
   ]
  },
  {
   "cell_type": "code",
   "execution_count": 67,
   "metadata": {},
   "outputs": [
    {
     "data": {
      "text/plain": [
       "11"
      ]
     },
     "execution_count": 67,
     "metadata": {},
     "output_type": "execute_result"
    }
   ],
   "source": [
    "p.x"
   ]
  },
  {
   "cell_type": "code",
   "execution_count": null,
   "metadata": {},
   "outputs": [],
   "source": []
  }
 ],
 "metadata": {
  "kernelspec": {
   "display_name": "Python 3",
   "language": "python",
   "name": "python3"
  },
  "language_info": {
   "codemirror_mode": {
    "name": "ipython",
    "version": 3
   },
   "file_extension": ".py",
   "mimetype": "text/x-python",
   "name": "python",
   "nbconvert_exporter": "python",
   "pygments_lexer": "ipython3",
   "version": "3.8.5"
  }
 },
 "nbformat": 4,
 "nbformat_minor": 4
}
