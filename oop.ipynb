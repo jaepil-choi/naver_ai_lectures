{
 "cells": [
  {
   "cell_type": "markdown",
   "metadata": {},
   "source": [
    "# Object Oriented Programming\n",
    "\n",
    "객체는 실제 세상의 어떤 대상을 개념적으로 옮긴 것. \n",
    "- attribute: variable로 표현된다. \n",
    "- action: method로 표현된다. \n",
    "\n",
    "클래스를 선언할 때 `__init__`과 같은 constructor가 있다. \n",
    "\n",
    "이렇게 `__foo__`와 같이 `__`를 쓰는 것들을 name mangling(짓이기다)이라고 한다. \n",
    "- private화 시킬 때. 근데 사실 숨겨지기만 할 뿐 접근 가능하다. 대신 이렇게 해놓으면 user inferface가 좋아질 수 있다. \n",
    "- 하위 클래스가 상위 클래스의 속성을 overriding하는 것을 막을 수 있다. \n",
    "\n",
    "이를 사용한 다양한 magic method가 있다. 이를 사용할 수 있다. \n",
    "\n",
    "## OOP Example: 노트북\n",
    "\n",
    "- `Note`에 뭔가를 적을 수 있다. \n",
    "- `Note`는 `Notebook`에 삽입된다. \n",
    "- `Note`에는 `content`(`str`)가 있고, 제거할 수도 있다. \n",
    "- 두 개의 `Notebook`을 합쳐 하나로 만들 수 있다. \n",
    "- `Notebook`은 페이지가 있으며 최대 300페이지이다. 꽉 차면 더 이상 `Note`를 삽입하지 못한다. "
   ]
  },
  {
   "cell_type": "code",
   "execution_count": 5,
   "metadata": {},
   "outputs": [],
   "source": [
    "class Note:\n",
    "    def __init__(self, content=None):\n",
    "        self.content = content\n",
    "        \n",
    "    def remove(self):\n",
    "        self.content = None\n",
    "    \n",
    "    def __add__(self, note):\n",
    "        if not isinstance(note, Note):\n",
    "            raise Exception('Insert Note instance only.')\n",
    "            \n",
    "        return self.content + note.content"
   ]
  },
  {
   "cell_type": "code",
   "execution_count": 6,
   "metadata": {},
   "outputs": [],
   "source": [
    "class Notebook:\n",
    "    def __init__(self):\n",
    "        self.page = 0\n",
    "        self.notes = []\n",
    "    \n",
    "    def insert(self, note):\n",
    "        if not isinstance(note, Note):\n",
    "            raise Exception('Insert Note instance only.')\n",
    "        \n",
    "        self.notes.append(note)\n",
    "        self.page += 1\n",
    "    \n",
    "    def merge(self, notebook):\n",
    "        if not isinstance(notebook, Notebook):\n",
    "            raise Exception(\"Merge allowed only with another Notebook\")\n",
    "            \n",
    "        self.page += notebook.page\n",
    "        self.notes += notebook.notes"
   ]
  },
  {
   "cell_type": "code",
   "execution_count": 7,
   "metadata": {},
   "outputs": [
    {
     "data": {
      "text/plain": [
       "'helloworld'"
      ]
     },
     "execution_count": 7,
     "metadata": {},
     "output_type": "execute_result"
    }
   ],
   "source": [
    "n1 = Note('hello')\n",
    "n2 = Note('world')\n",
    "\n",
    "n1 + n2"
   ]
  },
  {
   "cell_type": "markdown",
   "metadata": {},
   "source": [
    "## OOP의 특징\n",
    "\n",
    "1. Inheritance 상속\n",
    "2. Polymorphism 다형성\n",
    "3. Visibility (hidden class)\n",
    "\n",
    "### 1. Inheritance"
   ]
  },
  {
   "cell_type": "code",
   "execution_count": 16,
   "metadata": {},
   "outputs": [],
   "source": [
    "class Person:\n",
    "    def __init__(self, name, age, gender):\n",
    "        self.name = name\n",
    "        self.age = age\n",
    "        self.gender = gender\n",
    "    \n",
    "    def walk(self):\n",
    "        print('walk')\n",
    "        return 'walking'"
   ]
  },
  {
   "cell_type": "code",
   "execution_count": 21,
   "metadata": {},
   "outputs": [],
   "source": [
    "class Employee(Person):\n",
    "    def __init__(self, name, age, gender, salary):\n",
    "        super().__init__(name, age, gender) # 부모의 __init__()을 실행\n",
    "        self.salary = salary\n",
    "    \n",
    "    def doing(self):\n",
    "        super().walk() # 부모의 walk()를 실행\n",
    "        return 'doing something'"
   ]
  },
  {
   "cell_type": "code",
   "execution_count": 18,
   "metadata": {},
   "outputs": [],
   "source": [
    "p = Person('jim', 13, 'M')\n",
    "e = Employee('jack', 20, 'M', 1000)"
   ]
  },
  {
   "cell_type": "code",
   "execution_count": 19,
   "metadata": {},
   "outputs": [
    {
     "name": "stdout",
     "output_type": "stream",
     "text": [
      "walk\n"
     ]
    },
    {
     "data": {
      "text/plain": [
       "'walking'"
      ]
     },
     "execution_count": 19,
     "metadata": {},
     "output_type": "execute_result"
    }
   ],
   "source": [
    "p.walk()"
   ]
  },
  {
   "cell_type": "code",
   "execution_count": 20,
   "metadata": {},
   "outputs": [
    {
     "name": "stdout",
     "output_type": "stream",
     "text": [
      "walk\n"
     ]
    },
    {
     "data": {
      "text/plain": [
       "'doing something'"
      ]
     },
     "execution_count": 20,
     "metadata": {},
     "output_type": "execute_result"
    }
   ],
   "source": [
    "e.doing()"
   ]
  },
  {
   "cell_type": "markdown",
   "metadata": {},
   "source": [
    "### 2. Polymorphism\n",
    "\n",
    "같은 이름의 메소드의 내부 로직을 다르게 작성. \n",
    "\n",
    "개념적으로 같은 일을 하는데 조금씩 차이가 있는 경우가 있을 수 있다. \n",
    "\n",
    "예시는 생략\n",
    "\n",
    "### 3. Visibility\n",
    "\n",
    "객체의 정보를 볼 수 있는 레벨을 조정. \n",
    "\n",
    "private/public\n",
    "\n",
    "캐릭터의 공격력을 맘대로 바꿀 수 있으면 안된다. information hiding\n",
    "\n",
    "encapsulation. 인터페이스만 알면 쓸 수 있게 한다. \n",
    "\n",
    "`self.__foo`와 같이 만들면 접근할 수 없다. 변경도 안되고 호출도 안된다. \n",
    "\n",
    "하지만 `@property` 를 써주면 함수를 변수처럼 호출할 수 있다. "
   ]
  },
  {
   "cell_type": "code",
   "execution_count": 40,
   "metadata": {},
   "outputs": [],
   "source": [
    "class Inventory:\n",
    "    def __init__(self, items_l):\n",
    "        self.__items = items_l\n",
    "    \n",
    "    def items(self):\n",
    "        return self.__items"
   ]
  },
  {
   "cell_type": "code",
   "execution_count": 41,
   "metadata": {},
   "outputs": [],
   "source": [
    "i = Inventory(['gun', 'sword'])"
   ]
  },
  {
   "cell_type": "code",
   "execution_count": 42,
   "metadata": {},
   "outputs": [
    {
     "ename": "AttributeError",
     "evalue": "'Inventory' object has no attribute '__items'",
     "output_type": "error",
     "traceback": [
      "\u001b[1;31m---------------------------------------------------------------------------\u001b[0m",
      "\u001b[1;31mAttributeError\u001b[0m                            Traceback (most recent call last)",
      "\u001b[1;32m<ipython-input-42-acaca4372392>\u001b[0m in \u001b[0;36m<module>\u001b[1;34m\u001b[0m\n\u001b[1;32m----> 1\u001b[1;33m \u001b[0mi\u001b[0m\u001b[1;33m.\u001b[0m\u001b[0m__items\u001b[0m\u001b[1;33m\u001b[0m\u001b[1;33m\u001b[0m\u001b[0m\n\u001b[0m",
      "\u001b[1;31mAttributeError\u001b[0m: 'Inventory' object has no attribute '__items'"
     ]
    }
   ],
   "source": [
    "i.__items"
   ]
  },
  {
   "cell_type": "code",
   "execution_count": 43,
   "metadata": {},
   "outputs": [
    {
     "data": {
      "text/plain": [
       "['gun', 'sword']"
      ]
     },
     "execution_count": 43,
     "metadata": {},
     "output_type": "execute_result"
    }
   ],
   "source": [
    "i.items()"
   ]
  },
  {
   "cell_type": "code",
   "execution_count": 44,
   "metadata": {},
   "outputs": [],
   "source": [
    "class Inventory:\n",
    "    def __init__(self, items_l):\n",
    "        self.__items = items_l\n",
    "    \n",
    "    @property\n",
    "    def items(self):\n",
    "        return self.__items"
   ]
  },
  {
   "cell_type": "code",
   "execution_count": 45,
   "metadata": {},
   "outputs": [],
   "source": [
    "i = Inventory(['gun', 'sword'])"
   ]
  },
  {
   "cell_type": "code",
   "execution_count": 46,
   "metadata": {},
   "outputs": [
    {
     "ename": "AttributeError",
     "evalue": "'Inventory' object has no attribute '__items'",
     "output_type": "error",
     "traceback": [
      "\u001b[1;31m---------------------------------------------------------------------------\u001b[0m",
      "\u001b[1;31mAttributeError\u001b[0m                            Traceback (most recent call last)",
      "\u001b[1;32m<ipython-input-46-acaca4372392>\u001b[0m in \u001b[0;36m<module>\u001b[1;34m\u001b[0m\n\u001b[1;32m----> 1\u001b[1;33m \u001b[0mi\u001b[0m\u001b[1;33m.\u001b[0m\u001b[0m__items\u001b[0m\u001b[1;33m\u001b[0m\u001b[1;33m\u001b[0m\u001b[0m\n\u001b[0m",
      "\u001b[1;31mAttributeError\u001b[0m: 'Inventory' object has no attribute '__items'"
     ]
    }
   ],
   "source": [
    "i.__items"
   ]
  },
  {
   "cell_type": "code",
   "execution_count": 47,
   "metadata": {},
   "outputs": [
    {
     "data": {
      "text/plain": [
       "['gun', 'sword']"
      ]
     },
     "execution_count": 47,
     "metadata": {},
     "output_type": "execute_result"
    }
   ],
   "source": [
    "i.items"
   ]
  },
  {
   "cell_type": "markdown",
   "metadata": {},
   "source": [
    "## First-class objects\n",
    "\n",
    "변수나 데이터 구조에 할당이 가능한 객체. return 값으로 사용하거나 `a`와 같은 변수에 넣을 수 있다는 뜻. \n",
    "\n",
    "Python의 함수는 알다시피 파라미터로 전달도 가능하고 return 값으로 사용도 가능하므로 first-class object이다. \n",
    "\n",
    "## Inner function\n",
    "\n",
    "### closure: inner function 을 return 값으로 반환\n",
    "\n",
    "javascript에 많이 나오는 개념\n",
    "\n",
    "inner function은 decorator 만들 때 쓰이게 된다. \n",
    "\n",
    "generator에 argument를 넣으려면 한 번 더 감싸줘야 한다. "
   ]
  },
  {
   "cell_type": "code",
   "execution_count": null,
   "metadata": {},
   "outputs": [],
   "source": []
  }
 ],
 "metadata": {
  "kernelspec": {
   "display_name": "Python 3",
   "language": "python",
   "name": "python3"
  },
  "language_info": {
   "codemirror_mode": {
    "name": "ipython",
    "version": 3
   },
   "file_extension": ".py",
   "mimetype": "text/x-python",
   "name": "python",
   "nbconvert_exporter": "python",
   "pygments_lexer": "ipython3",
   "version": "3.8.5"
  }
 },
 "nbformat": 4,
 "nbformat_minor": 4
}
