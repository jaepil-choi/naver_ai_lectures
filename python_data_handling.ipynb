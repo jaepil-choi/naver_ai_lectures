{
 "cells": [
  {
   "cell_type": "markdown",
   "metadata": {},
   "source": [
    "# Python Data Handling\n",
    "\n",
    "여기서 다룰건 비정형 데이터는 아니다. \n",
    "\n",
    "- csv\n",
    "- html\n",
    "- xml\n",
    "- json\n",
    "\n",
    "## csv\n",
    "\n",
    "- 프로그램에 상관없이 쓸 수 있는 장점. \n",
    "- 탭, 빈칸 등으로도 seperate할 수 있기 때문에 통칭 character-separated values 로도 부른다. \n",
    "\n",
    "파일을 열어서 한 줄씩 읽을 수 있다. \n",
    "\n",
    "어차피 `pandas` 쓸 것이므로 많은 내용은 필기 생략하겠다. \n",
    "\n",
    "`csv` 모듈이 따로 있긴 하다. \n",
    "\n",
    "윈도우에서 한글 읽을 때 인코딩 깨지면 utf-8 대신 cp949를 넣자. "
   ]
  },
  {
   "cell_type": "code",
   "execution_count": 1,
   "metadata": {},
   "outputs": [],
   "source": [
    "import csv"
   ]
  },
  {
   "cell_type": "markdown",
   "metadata": {},
   "source": [
    "## web data\n",
    "\n",
    "생략\n",
    "\n",
    "## regex\n",
    "\n",
    "vscode에서도 검색 가능하다. \n",
    "\n",
    "생략\n",
    "\n",
    "## XML\n",
    "\n",
    "xml은 컴퓨터 간에 정보를 주고받기 아주 유용한 저장 방식으로 쓰이고 있음. \n",
    "\n",
    "파싱에 있어선 `lxml`이 제일 빠르다. \n",
    "\n",
    "`BeautifulSoup` 연계 좀 다룸. \n",
    "\n",
    "## json\n",
    "\n",
    "JavaScript Object Notation\n",
    "\n",
    "원래 웹 언어인 javascript의 데이터 객체 표현방식이다. \n",
    "\n",
    "간결해서 기계 인간 모두 이해하기 편함. \n",
    "\n",
    "데이터 용량 적고 code로의 전환 쉬움. \n",
    "\n",
    "xml 대체로 많이 쓰임. \n",
    "\n"
   ]
  }
 ],
 "metadata": {
  "kernelspec": {
   "display_name": "Python 3",
   "language": "python",
   "name": "python3"
  },
  "language_info": {
   "codemirror_mode": {
    "name": "ipython",
    "version": 3
   },
   "file_extension": ".py",
   "mimetype": "text/x-python",
   "name": "python",
   "nbconvert_exporter": "python",
   "pygments_lexer": "ipython3",
   "version": "3.8.5"
  }
 },
 "nbformat": 4,
 "nbformat_minor": 4
}
